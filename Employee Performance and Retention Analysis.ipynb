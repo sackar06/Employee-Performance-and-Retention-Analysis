{
 "cells": [
  {
   "cell_type": "markdown",
   "id": "22e1c5dc",
   "metadata": {},
   "source": [
    "Phase 1 \n",
    "\n",
    "importing libraries\n",
    "Data loading \n",
    "data manipulation(handling missing value,Handle missing values, remove duplicates, and clean inconsistent data entries)"
   ]
  },
  {
   "cell_type": "code",
   "execution_count": 1,
   "id": "83da213c",
   "metadata": {},
   "outputs": [],
   "source": [
    "import numpy as np\n",
    "import pandas as pd\n",
    "import matplotlib.pyplot as plt\n",
    "import seaborn as sns\n"
   ]
  },
  {
   "cell_type": "code",
   "execution_count": 2,
   "id": "e7c096b5",
   "metadata": {},
   "outputs": [],
   "source": [
    "# Loading the data set employee_data\n",
    "data=pd.read_csv(\"employee_data.csv\")"
   ]
  },
  {
   "cell_type": "code",
   "execution_count": 3,
   "id": "8f36a2ce",
   "metadata": {},
   "outputs": [
    {
     "data": {
      "application/vnd.microsoft.datawrangler.viewer.v0+json": {
       "columns": [
        {
         "name": "index",
         "rawType": "int64",
         "type": "integer"
        },
        {
         "name": "EmployeeID",
         "rawType": "int64",
         "type": "integer"
        },
        {
         "name": "Name",
         "rawType": "object",
         "type": "string"
        },
        {
         "name": "Age",
         "rawType": "int64",
         "type": "integer"
        },
        {
         "name": "Department",
         "rawType": "object",
         "type": "string"
        },
        {
         "name": "Salary",
         "rawType": "int64",
         "type": "integer"
        },
        {
         "name": "YearsAtCompany",
         "rawType": "int64",
         "type": "integer"
        },
        {
         "name": "PerformanceScore",
         "rawType": "int64",
         "type": "integer"
        },
        {
         "name": "Attrition",
         "rawType": "object",
         "type": "string"
        }
       ],
       "ref": "5442401e-46c3-4f3f-ac32-2178112c2219",
       "rows": [
        [
         "0",
         "1",
         "John Doe",
         "29",
         "Sales",
         "55000",
         "3",
         "80",
         "No"
        ],
        [
         "1",
         "2",
         "Jane Smith",
         "35",
         "HR",
         "60000",
         "7",
         "85",
         "No"
        ],
        [
         "2",
         "3",
         "Michael Brown",
         "40",
         "Engineering",
         "80000",
         "10",
         "95",
         "Yes"
        ],
        [
         "3",
         "4",
         "Emily Davis",
         "28",
         "Marketing",
         "65000",
         "5",
         "78",
         "No"
        ],
        [
         "4",
         "5",
         "David Johnson",
         "50",
         "Sales",
         "75000",
         "20",
         "88",
         "Yes"
        ]
       ],
       "shape": {
        "columns": 8,
        "rows": 5
       }
      },
      "text/html": [
       "<div>\n",
       "<style scoped>\n",
       "    .dataframe tbody tr th:only-of-type {\n",
       "        vertical-align: middle;\n",
       "    }\n",
       "\n",
       "    .dataframe tbody tr th {\n",
       "        vertical-align: top;\n",
       "    }\n",
       "\n",
       "    .dataframe thead th {\n",
       "        text-align: right;\n",
       "    }\n",
       "</style>\n",
       "<table border=\"1\" class=\"dataframe\">\n",
       "  <thead>\n",
       "    <tr style=\"text-align: right;\">\n",
       "      <th></th>\n",
       "      <th>EmployeeID</th>\n",
       "      <th>Name</th>\n",
       "      <th>Age</th>\n",
       "      <th>Department</th>\n",
       "      <th>Salary</th>\n",
       "      <th>YearsAtCompany</th>\n",
       "      <th>PerformanceScore</th>\n",
       "      <th>Attrition</th>\n",
       "    </tr>\n",
       "  </thead>\n",
       "  <tbody>\n",
       "    <tr>\n",
       "      <th>0</th>\n",
       "      <td>1</td>\n",
       "      <td>John Doe</td>\n",
       "      <td>29</td>\n",
       "      <td>Sales</td>\n",
       "      <td>55000</td>\n",
       "      <td>3</td>\n",
       "      <td>80</td>\n",
       "      <td>No</td>\n",
       "    </tr>\n",
       "    <tr>\n",
       "      <th>1</th>\n",
       "      <td>2</td>\n",
       "      <td>Jane Smith</td>\n",
       "      <td>35</td>\n",
       "      <td>HR</td>\n",
       "      <td>60000</td>\n",
       "      <td>7</td>\n",
       "      <td>85</td>\n",
       "      <td>No</td>\n",
       "    </tr>\n",
       "    <tr>\n",
       "      <th>2</th>\n",
       "      <td>3</td>\n",
       "      <td>Michael Brown</td>\n",
       "      <td>40</td>\n",
       "      <td>Engineering</td>\n",
       "      <td>80000</td>\n",
       "      <td>10</td>\n",
       "      <td>95</td>\n",
       "      <td>Yes</td>\n",
       "    </tr>\n",
       "    <tr>\n",
       "      <th>3</th>\n",
       "      <td>4</td>\n",
       "      <td>Emily Davis</td>\n",
       "      <td>28</td>\n",
       "      <td>Marketing</td>\n",
       "      <td>65000</td>\n",
       "      <td>5</td>\n",
       "      <td>78</td>\n",
       "      <td>No</td>\n",
       "    </tr>\n",
       "    <tr>\n",
       "      <th>4</th>\n",
       "      <td>5</td>\n",
       "      <td>David Johnson</td>\n",
       "      <td>50</td>\n",
       "      <td>Sales</td>\n",
       "      <td>75000</td>\n",
       "      <td>20</td>\n",
       "      <td>88</td>\n",
       "      <td>Yes</td>\n",
       "    </tr>\n",
       "  </tbody>\n",
       "</table>\n",
       "</div>"
      ],
      "text/plain": [
       "   EmployeeID           Name  Age   Department  Salary  YearsAtCompany  \\\n",
       "0           1       John Doe   29        Sales   55000               3   \n",
       "1           2     Jane Smith   35           HR   60000               7   \n",
       "2           3  Michael Brown   40  Engineering   80000              10   \n",
       "3           4    Emily Davis   28    Marketing   65000               5   \n",
       "4           5  David Johnson   50        Sales   75000              20   \n",
       "\n",
       "   PerformanceScore Attrition  \n",
       "0                80        No  \n",
       "1                85        No  \n",
       "2                95       Yes  \n",
       "3                78        No  \n",
       "4                88       Yes  "
      ]
     },
     "execution_count": 3,
     "metadata": {},
     "output_type": "execute_result"
    }
   ],
   "source": [
    "# check the first five occurrences\n",
    "data.head()"
   ]
  },
  {
   "cell_type": "code",
   "execution_count": 4,
   "id": "9f018d67",
   "metadata": {},
   "outputs": [
    {
     "data": {
      "text/plain": [
       "(100, 8)"
      ]
     },
     "execution_count": 4,
     "metadata": {},
     "output_type": "execute_result"
    }
   ],
   "source": [
    "# Data shape \n",
    "data.shape  # row =100 #columns=8"
   ]
  },
  {
   "cell_type": "code",
   "execution_count": 5,
   "id": "3f6a50b1",
   "metadata": {},
   "outputs": [
    {
     "data": {
      "application/vnd.microsoft.datawrangler.viewer.v0+json": {
       "columns": [
        {
         "name": "index",
         "rawType": "object",
         "type": "string"
        },
        {
         "name": "0",
         "rawType": "int64",
         "type": "integer"
        }
       ],
       "ref": "8614a1e8-b6ea-493d-9044-e70cb99e1784",
       "rows": [
        [
         "EmployeeID",
         "100"
        ],
        [
         "Name",
         "100"
        ],
        [
         "Age",
         "100"
        ],
        [
         "Department",
         "100"
        ],
        [
         "Salary",
         "100"
        ],
        [
         "YearsAtCompany",
         "100"
        ],
        [
         "PerformanceScore",
         "100"
        ],
        [
         "Attrition",
         "100"
        ]
       ],
       "shape": {
        "columns": 1,
        "rows": 8
       }
      },
      "text/plain": [
       "EmployeeID          100\n",
       "Name                100\n",
       "Age                 100\n",
       "Department          100\n",
       "Salary              100\n",
       "YearsAtCompany      100\n",
       "PerformanceScore    100\n",
       "Attrition           100\n",
       "dtype: int64"
      ]
     },
     "execution_count": 5,
     "metadata": {},
     "output_type": "execute_result"
    }
   ],
   "source": [
    "# Checking for the null value\n",
    "data.isna().count()"
   ]
  },
  {
   "cell_type": "code",
   "execution_count": 6,
   "id": "72f6a6c7",
   "metadata": {},
   "outputs": [
    {
     "data": {
      "application/vnd.microsoft.datawrangler.viewer.v0+json": {
       "columns": [
        {
         "name": "index",
         "rawType": "object",
         "type": "string"
        },
        {
         "name": "0",
         "rawType": "int64",
         "type": "integer"
        }
       ],
       "ref": "37a289e6-8652-4b28-b445-4d1ebb4a53a5",
       "rows": [
        [
         "EmployeeID",
         "0"
        ],
        [
         "Name",
         "0"
        ],
        [
         "Age",
         "0"
        ],
        [
         "Department",
         "0"
        ],
        [
         "Salary",
         "0"
        ],
        [
         "YearsAtCompany",
         "0"
        ],
        [
         "PerformanceScore",
         "0"
        ],
        [
         "Attrition",
         "0"
        ]
       ],
       "shape": {
        "columns": 1,
        "rows": 8
       }
      },
      "text/plain": [
       "EmployeeID          0\n",
       "Name                0\n",
       "Age                 0\n",
       "Department          0\n",
       "Salary              0\n",
       "YearsAtCompany      0\n",
       "PerformanceScore    0\n",
       "Attrition           0\n",
       "dtype: int64"
      ]
     },
     "execution_count": 6,
     "metadata": {},
     "output_type": "execute_result"
    }
   ],
   "source": [
    "# get the number of total null values\n",
    "data.isna().sum()  # There are no null value"
   ]
  },
  {
   "cell_type": "code",
   "execution_count": 7,
   "id": "1dc90eab",
   "metadata": {},
   "outputs": [
    {
     "data": {
      "application/vnd.microsoft.datawrangler.viewer.v0+json": {
       "columns": [
        {
         "name": "index",
         "rawType": "object",
         "type": "string"
        },
        {
         "name": "0",
         "rawType": "object",
         "type": "unknown"
        }
       ],
       "ref": "0de8500a-2d36-4004-abba-e1fc8b322d77",
       "rows": [
        [
         "EmployeeID",
         "int64"
        ],
        [
         "Name",
         "object"
        ],
        [
         "Age",
         "int64"
        ],
        [
         "Department",
         "object"
        ],
        [
         "Salary",
         "int64"
        ],
        [
         "YearsAtCompany",
         "int64"
        ],
        [
         "PerformanceScore",
         "int64"
        ],
        [
         "Attrition",
         "object"
        ]
       ],
       "shape": {
        "columns": 1,
        "rows": 8
       }
      },
      "text/plain": [
       "EmployeeID           int64\n",
       "Name                object\n",
       "Age                  int64\n",
       "Department          object\n",
       "Salary               int64\n",
       "YearsAtCompany       int64\n",
       "PerformanceScore     int64\n",
       "Attrition           object\n",
       "dtype: object"
      ]
     },
     "execution_count": 7,
     "metadata": {},
     "output_type": "execute_result"
    }
   ],
   "source": [
    "data.dtypes"
   ]
  },
  {
   "cell_type": "code",
   "execution_count": 8,
   "id": "28335184",
   "metadata": {},
   "outputs": [
    {
     "data": {
      "text/plain": [
       "np.int64(0)"
      ]
     },
     "execution_count": 8,
     "metadata": {},
     "output_type": "execute_result"
    }
   ],
   "source": [
    "#checking for the duplicates\n",
    "data.duplicated().sum()   # here no duplicate exist.\n"
   ]
  },
  {
   "cell_type": "code",
   "execution_count": 9,
   "id": "d04e5b2d",
   "metadata": {},
   "outputs": [
    {
     "data": {
      "text/plain": [
       "Index(['EmployeeID', 'Name', 'Age', 'Department', 'Salary', 'YearsAtCompany',\n",
       "       'PerformanceScore', 'Attrition'],\n",
       "      dtype='object')"
      ]
     },
     "execution_count": 9,
     "metadata": {},
     "output_type": "execute_result"
    }
   ],
   "source": [
    "# checking the columns of the dataset\n",
    "data.columns"
   ]
  },
  {
   "cell_type": "code",
   "execution_count": 10,
   "id": "5bda0874",
   "metadata": {},
   "outputs": [
    {
     "data": {
      "application/vnd.microsoft.datawrangler.viewer.v0+json": {
       "columns": [
        {
         "name": "index",
         "rawType": "int64",
         "type": "integer"
        },
        {
         "name": "Salary",
         "rawType": "int64",
         "type": "integer"
        }
       ],
       "ref": "7007ad52-799f-4007-b7ff-2399c892b1a5",
       "rows": [
        [
         "0",
         "55000"
        ],
        [
         "1",
         "60000"
        ],
        [
         "2",
         "80000"
        ],
        [
         "3",
         "65000"
        ],
        [
         "4",
         "75000"
        ],
        [
         "5",
         "45000"
        ],
        [
         "6",
         "95000"
        ],
        [
         "7",
         "70000"
        ],
        [
         "8",
         "77000"
        ],
        [
         "9",
         "85000"
        ],
        [
         "10",
         "62000"
        ],
        [
         "11",
         "53000"
        ],
        [
         "12",
         "71000"
        ],
        [
         "13",
         "70000"
        ],
        [
         "14",
         "80000"
        ],
        [
         "15",
         "56000"
        ],
        [
         "16",
         "82000"
        ],
        [
         "17",
         "75000"
        ],
        [
         "18",
         "43000"
        ],
        [
         "19",
         "79000"
        ],
        [
         "20",
         "87000"
        ],
        [
         "21",
         "65000"
        ],
        [
         "22",
         "76000"
        ],
        [
         "23",
         "69000"
        ],
        [
         "24",
         "92000"
        ],
        [
         "25",
         "72000"
        ],
        [
         "26",
         "55000"
        ],
        [
         "27",
         "77000"
        ],
        [
         "28",
         "88000"
        ],
        [
         "29",
         "71000"
        ],
        [
         "30",
         "80000"
        ],
        [
         "31",
         "63000"
        ],
        [
         "32",
         "82000"
        ],
        [
         "33",
         "85000"
        ],
        [
         "34",
         "67000"
        ],
        [
         "35",
         "73000"
        ],
        [
         "36",
         "91000"
        ],
        [
         "37",
         "70000"
        ],
        [
         "38",
         "69000"
        ],
        [
         "39",
         "54000"
        ],
        [
         "40",
         "86000"
        ],
        [
         "41",
         "67000"
        ],
        [
         "42",
         "69000"
        ],
        [
         "43",
         "81000"
        ],
        [
         "44",
         "94000"
        ],
        [
         "45",
         "73000"
        ],
        [
         "46",
         "75000"
        ],
        [
         "47",
         "68000"
        ],
        [
         "48",
         "91000"
        ],
        [
         "49",
         "65000"
        ]
       ],
       "shape": {
        "columns": 1,
        "rows": 100
       }
      },
      "text/plain": [
       "0     55000\n",
       "1     60000\n",
       "2     80000\n",
       "3     65000\n",
       "4     75000\n",
       "      ...  \n",
       "95    53000\n",
       "96    91000\n",
       "97    75000\n",
       "98    70000\n",
       "99    87000\n",
       "Name: Salary, Length: 100, dtype: int64"
      ]
     },
     "execution_count": 10,
     "metadata": {},
     "output_type": "execute_result"
    }
   ],
   "source": [
    "# checking for the value containing any inconsistent symbol \n",
    "data['Salary']  # it is clean"
   ]
  },
  {
   "cell_type": "code",
   "execution_count": 11,
   "id": "f9c1cddd",
   "metadata": {},
   "outputs": [
    {
     "name": "stdout",
     "output_type": "stream",
     "text": [
      "<class 'pandas.core.frame.DataFrame'>\n",
      "RangeIndex: 100 entries, 0 to 99\n",
      "Data columns (total 8 columns):\n",
      " #   Column            Non-Null Count  Dtype \n",
      "---  ------            --------------  ----- \n",
      " 0   EmployeeID        100 non-null    int64 \n",
      " 1   Name              100 non-null    object\n",
      " 2   Age               100 non-null    int64 \n",
      " 3   Department        100 non-null    object\n",
      " 4   Salary            100 non-null    int64 \n",
      " 5   YearsAtCompany    100 non-null    int64 \n",
      " 6   PerformanceScore  100 non-null    int64 \n",
      " 7   Attrition         100 non-null    object\n",
      "dtypes: int64(5), object(3)\n",
      "memory usage: 6.4+ KB\n"
     ]
    }
   ],
   "source": [
    "# Getting the over info of the dataset\n",
    "data.info()"
   ]
  },
  {
   "cell_type": "code",
   "execution_count": 12,
   "id": "c3177dc7",
   "metadata": {},
   "outputs": [
    {
     "data": {
      "application/vnd.microsoft.datawrangler.viewer.v0+json": {
       "columns": [
        {
         "name": "index",
         "rawType": "object",
         "type": "string"
        },
        {
         "name": "EmployeeID",
         "rawType": "float64",
         "type": "float"
        },
        {
         "name": "Age",
         "rawType": "float64",
         "type": "float"
        },
        {
         "name": "Salary",
         "rawType": "float64",
         "type": "float"
        },
        {
         "name": "YearsAtCompany",
         "rawType": "float64",
         "type": "float"
        },
        {
         "name": "PerformanceScore",
         "rawType": "float64",
         "type": "float"
        }
       ],
       "ref": "3602e0f9-b39d-49da-8955-a5dff3828a71",
       "rows": [
        [
         "count",
         "100.0",
         "100.0",
         "100.0",
         "100.0",
         "100.0"
        ],
        [
         "mean",
         "50.5",
         "36.57",
         "72820.0",
         "10.8",
         "84.94"
        ],
        [
         "std",
         "29.011491975882016",
         "8.318477667642723",
         "12643.823101667575",
         "6.361182788180706",
         "6.349771331283983"
        ],
        [
         "min",
         "1.0",
         "25.0",
         "43000.0",
         "1.0",
         "70.0"
        ],
        [
         "25%",
         "25.75",
         "29.75",
         "65000.0",
         "5.0",
         "80.0"
        ],
        [
         "50%",
         "50.5",
         "35.0",
         "72000.0",
         "10.0",
         "85.5"
        ],
        [
         "75%",
         "75.25",
         "41.25",
         "82750.0",
         "16.0",
         "90.0"
        ],
        [
         "max",
         "100.0",
         "60.0",
         "95000.0",
         "25.0",
         "95.0"
        ]
       ],
       "shape": {
        "columns": 5,
        "rows": 8
       }
      },
      "text/html": [
       "<div>\n",
       "<style scoped>\n",
       "    .dataframe tbody tr th:only-of-type {\n",
       "        vertical-align: middle;\n",
       "    }\n",
       "\n",
       "    .dataframe tbody tr th {\n",
       "        vertical-align: top;\n",
       "    }\n",
       "\n",
       "    .dataframe thead th {\n",
       "        text-align: right;\n",
       "    }\n",
       "</style>\n",
       "<table border=\"1\" class=\"dataframe\">\n",
       "  <thead>\n",
       "    <tr style=\"text-align: right;\">\n",
       "      <th></th>\n",
       "      <th>EmployeeID</th>\n",
       "      <th>Age</th>\n",
       "      <th>Salary</th>\n",
       "      <th>YearsAtCompany</th>\n",
       "      <th>PerformanceScore</th>\n",
       "    </tr>\n",
       "  </thead>\n",
       "  <tbody>\n",
       "    <tr>\n",
       "      <th>count</th>\n",
       "      <td>100.000000</td>\n",
       "      <td>100.000000</td>\n",
       "      <td>100.000000</td>\n",
       "      <td>100.000000</td>\n",
       "      <td>100.000000</td>\n",
       "    </tr>\n",
       "    <tr>\n",
       "      <th>mean</th>\n",
       "      <td>50.500000</td>\n",
       "      <td>36.570000</td>\n",
       "      <td>72820.000000</td>\n",
       "      <td>10.800000</td>\n",
       "      <td>84.940000</td>\n",
       "    </tr>\n",
       "    <tr>\n",
       "      <th>std</th>\n",
       "      <td>29.011492</td>\n",
       "      <td>8.318478</td>\n",
       "      <td>12643.823102</td>\n",
       "      <td>6.361183</td>\n",
       "      <td>6.349771</td>\n",
       "    </tr>\n",
       "    <tr>\n",
       "      <th>min</th>\n",
       "      <td>1.000000</td>\n",
       "      <td>25.000000</td>\n",
       "      <td>43000.000000</td>\n",
       "      <td>1.000000</td>\n",
       "      <td>70.000000</td>\n",
       "    </tr>\n",
       "    <tr>\n",
       "      <th>25%</th>\n",
       "      <td>25.750000</td>\n",
       "      <td>29.750000</td>\n",
       "      <td>65000.000000</td>\n",
       "      <td>5.000000</td>\n",
       "      <td>80.000000</td>\n",
       "    </tr>\n",
       "    <tr>\n",
       "      <th>50%</th>\n",
       "      <td>50.500000</td>\n",
       "      <td>35.000000</td>\n",
       "      <td>72000.000000</td>\n",
       "      <td>10.000000</td>\n",
       "      <td>85.500000</td>\n",
       "    </tr>\n",
       "    <tr>\n",
       "      <th>75%</th>\n",
       "      <td>75.250000</td>\n",
       "      <td>41.250000</td>\n",
       "      <td>82750.000000</td>\n",
       "      <td>16.000000</td>\n",
       "      <td>90.000000</td>\n",
       "    </tr>\n",
       "    <tr>\n",
       "      <th>max</th>\n",
       "      <td>100.000000</td>\n",
       "      <td>60.000000</td>\n",
       "      <td>95000.000000</td>\n",
       "      <td>25.000000</td>\n",
       "      <td>95.000000</td>\n",
       "    </tr>\n",
       "  </tbody>\n",
       "</table>\n",
       "</div>"
      ],
      "text/plain": [
       "       EmployeeID         Age        Salary  YearsAtCompany  PerformanceScore\n",
       "count  100.000000  100.000000    100.000000      100.000000        100.000000\n",
       "mean    50.500000   36.570000  72820.000000       10.800000         84.940000\n",
       "std     29.011492    8.318478  12643.823102        6.361183          6.349771\n",
       "min      1.000000   25.000000  43000.000000        1.000000         70.000000\n",
       "25%     25.750000   29.750000  65000.000000        5.000000         80.000000\n",
       "50%     50.500000   35.000000  72000.000000       10.000000         85.500000\n",
       "75%     75.250000   41.250000  82750.000000       16.000000         90.000000\n",
       "max    100.000000   60.000000  95000.000000       25.000000         95.000000"
      ]
     },
     "execution_count": 12,
     "metadata": {},
     "output_type": "execute_result"
    }
   ],
   "source": [
    "# statical value of the data set like mean,median ,mode, min,max for numerical values.\n",
    "data.describe()"
   ]
  },
  {
   "cell_type": "code",
   "execution_count": 13,
   "id": "7d1b6a3d",
   "metadata": {},
   "outputs": [
    {
     "data": {
      "application/vnd.microsoft.datawrangler.viewer.v0+json": {
       "columns": [
        {
         "name": "index",
         "rawType": "int64",
         "type": "integer"
        },
        {
         "name": "EmployeeID",
         "rawType": "int64",
         "type": "integer"
        },
        {
         "name": "Name",
         "rawType": "object",
         "type": "string"
        },
        {
         "name": "Age",
         "rawType": "int64",
         "type": "integer"
        },
        {
         "name": "Department",
         "rawType": "object",
         "type": "string"
        },
        {
         "name": "Salary",
         "rawType": "int64",
         "type": "integer"
        },
        {
         "name": "YearsAtCompany",
         "rawType": "int64",
         "type": "integer"
        },
        {
         "name": "PerformanceScore",
         "rawType": "int64",
         "type": "integer"
        },
        {
         "name": "Attrition",
         "rawType": "object",
         "type": "string"
        }
       ],
       "ref": "638572c9-bb8c-4b20-8ef2-388195a8377c",
       "rows": [
        [
         "0",
         "1",
         "John Doe",
         "29",
         "Sales",
         "55000",
         "3",
         "80",
         "No"
        ],
        [
         "1",
         "2",
         "Jane Smith",
         "35",
         "HR",
         "60000",
         "7",
         "85",
         "No"
        ],
        [
         "2",
         "3",
         "Michael Brown",
         "40",
         "Engineering",
         "80000",
         "10",
         "95",
         "Yes"
        ],
        [
         "3",
         "4",
         "Emily Davis",
         "28",
         "Marketing",
         "65000",
         "5",
         "78",
         "No"
        ],
        [
         "4",
         "5",
         "David Johnson",
         "50",
         "Sales",
         "75000",
         "20",
         "88",
         "Yes"
        ],
        [
         "5",
         "6",
         "Amy White",
         "25",
         "HR",
         "45000",
         "1",
         "70",
         "No"
        ],
        [
         "6",
         "7",
         "Daniel Clark",
         "38",
         "Engineering",
         "95000",
         "12",
         "92",
         "No"
        ],
        [
         "7",
         "8",
         "Susan Lewis",
         "32",
         "Marketing",
         "70000",
         "6",
         "82",
         "No"
        ],
        [
         "8",
         "9",
         "James Walker",
         "45",
         "Sales",
         "77000",
         "18",
         "84",
         "Yes"
        ],
        [
         "9",
         "10",
         "Patricia Hall",
         "29",
         "Engineering",
         "85000",
         "5",
         "90",
         "No"
        ]
       ],
       "shape": {
        "columns": 8,
        "rows": 10
       }
      },
      "text/html": [
       "<div>\n",
       "<style scoped>\n",
       "    .dataframe tbody tr th:only-of-type {\n",
       "        vertical-align: middle;\n",
       "    }\n",
       "\n",
       "    .dataframe tbody tr th {\n",
       "        vertical-align: top;\n",
       "    }\n",
       "\n",
       "    .dataframe thead th {\n",
       "        text-align: right;\n",
       "    }\n",
       "</style>\n",
       "<table border=\"1\" class=\"dataframe\">\n",
       "  <thead>\n",
       "    <tr style=\"text-align: right;\">\n",
       "      <th></th>\n",
       "      <th>EmployeeID</th>\n",
       "      <th>Name</th>\n",
       "      <th>Age</th>\n",
       "      <th>Department</th>\n",
       "      <th>Salary</th>\n",
       "      <th>YearsAtCompany</th>\n",
       "      <th>PerformanceScore</th>\n",
       "      <th>Attrition</th>\n",
       "    </tr>\n",
       "  </thead>\n",
       "  <tbody>\n",
       "    <tr>\n",
       "      <th>0</th>\n",
       "      <td>1</td>\n",
       "      <td>John Doe</td>\n",
       "      <td>29</td>\n",
       "      <td>Sales</td>\n",
       "      <td>55000</td>\n",
       "      <td>3</td>\n",
       "      <td>80</td>\n",
       "      <td>No</td>\n",
       "    </tr>\n",
       "    <tr>\n",
       "      <th>1</th>\n",
       "      <td>2</td>\n",
       "      <td>Jane Smith</td>\n",
       "      <td>35</td>\n",
       "      <td>HR</td>\n",
       "      <td>60000</td>\n",
       "      <td>7</td>\n",
       "      <td>85</td>\n",
       "      <td>No</td>\n",
       "    </tr>\n",
       "    <tr>\n",
       "      <th>2</th>\n",
       "      <td>3</td>\n",
       "      <td>Michael Brown</td>\n",
       "      <td>40</td>\n",
       "      <td>Engineering</td>\n",
       "      <td>80000</td>\n",
       "      <td>10</td>\n",
       "      <td>95</td>\n",
       "      <td>Yes</td>\n",
       "    </tr>\n",
       "    <tr>\n",
       "      <th>3</th>\n",
       "      <td>4</td>\n",
       "      <td>Emily Davis</td>\n",
       "      <td>28</td>\n",
       "      <td>Marketing</td>\n",
       "      <td>65000</td>\n",
       "      <td>5</td>\n",
       "      <td>78</td>\n",
       "      <td>No</td>\n",
       "    </tr>\n",
       "    <tr>\n",
       "      <th>4</th>\n",
       "      <td>5</td>\n",
       "      <td>David Johnson</td>\n",
       "      <td>50</td>\n",
       "      <td>Sales</td>\n",
       "      <td>75000</td>\n",
       "      <td>20</td>\n",
       "      <td>88</td>\n",
       "      <td>Yes</td>\n",
       "    </tr>\n",
       "    <tr>\n",
       "      <th>5</th>\n",
       "      <td>6</td>\n",
       "      <td>Amy White</td>\n",
       "      <td>25</td>\n",
       "      <td>HR</td>\n",
       "      <td>45000</td>\n",
       "      <td>1</td>\n",
       "      <td>70</td>\n",
       "      <td>No</td>\n",
       "    </tr>\n",
       "    <tr>\n",
       "      <th>6</th>\n",
       "      <td>7</td>\n",
       "      <td>Daniel Clark</td>\n",
       "      <td>38</td>\n",
       "      <td>Engineering</td>\n",
       "      <td>95000</td>\n",
       "      <td>12</td>\n",
       "      <td>92</td>\n",
       "      <td>No</td>\n",
       "    </tr>\n",
       "    <tr>\n",
       "      <th>7</th>\n",
       "      <td>8</td>\n",
       "      <td>Susan Lewis</td>\n",
       "      <td>32</td>\n",
       "      <td>Marketing</td>\n",
       "      <td>70000</td>\n",
       "      <td>6</td>\n",
       "      <td>82</td>\n",
       "      <td>No</td>\n",
       "    </tr>\n",
       "    <tr>\n",
       "      <th>8</th>\n",
       "      <td>9</td>\n",
       "      <td>James Walker</td>\n",
       "      <td>45</td>\n",
       "      <td>Sales</td>\n",
       "      <td>77000</td>\n",
       "      <td>18</td>\n",
       "      <td>84</td>\n",
       "      <td>Yes</td>\n",
       "    </tr>\n",
       "    <tr>\n",
       "      <th>9</th>\n",
       "      <td>10</td>\n",
       "      <td>Patricia Hall</td>\n",
       "      <td>29</td>\n",
       "      <td>Engineering</td>\n",
       "      <td>85000</td>\n",
       "      <td>5</td>\n",
       "      <td>90</td>\n",
       "      <td>No</td>\n",
       "    </tr>\n",
       "  </tbody>\n",
       "</table>\n",
       "</div>"
      ],
      "text/plain": [
       "   EmployeeID           Name  Age   Department  Salary  YearsAtCompany  \\\n",
       "0           1       John Doe   29        Sales   55000               3   \n",
       "1           2     Jane Smith   35           HR   60000               7   \n",
       "2           3  Michael Brown   40  Engineering   80000              10   \n",
       "3           4    Emily Davis   28    Marketing   65000               5   \n",
       "4           5  David Johnson   50        Sales   75000              20   \n",
       "5           6      Amy White   25           HR   45000               1   \n",
       "6           7   Daniel Clark   38  Engineering   95000              12   \n",
       "7           8    Susan Lewis   32    Marketing   70000               6   \n",
       "8           9   James Walker   45        Sales   77000              18   \n",
       "9          10  Patricia Hall   29  Engineering   85000               5   \n",
       "\n",
       "   PerformanceScore Attrition  \n",
       "0                80        No  \n",
       "1                85        No  \n",
       "2                95       Yes  \n",
       "3                78        No  \n",
       "4                88       Yes  \n",
       "5                70        No  \n",
       "6                92        No  \n",
       "7                82        No  \n",
       "8                84       Yes  \n",
       "9                90        No  "
      ]
     },
     "execution_count": 13,
     "metadata": {},
     "output_type": "execute_result"
    }
   ],
   "source": [
    "# re- checking for the data \n",
    "data.head(10)"
   ]
  },
  {
   "cell_type": "markdown",
   "id": "22bb67de",
   "metadata": {},
   "source": [
    "Exploratory data analysis(EDA)\n"
   ]
  },
  {
   "cell_type": "code",
   "execution_count": 14,
   "id": "39a061ab",
   "metadata": {},
   "outputs": [
    {
     "data": {
      "application/vnd.microsoft.datawrangler.viewer.v0+json": {
       "columns": [
        {
         "name": "index",
         "rawType": "object",
         "type": "string"
        },
        {
         "name": "EmployeeID",
         "rawType": "float64",
         "type": "float"
        },
        {
         "name": "Age",
         "rawType": "float64",
         "type": "float"
        },
        {
         "name": "Salary",
         "rawType": "float64",
         "type": "float"
        },
        {
         "name": "YearsAtCompany",
         "rawType": "float64",
         "type": "float"
        },
        {
         "name": "PerformanceScore",
         "rawType": "float64",
         "type": "float"
        }
       ],
       "ref": "feaaafa1-1482-406a-b947-c5313f842bfe",
       "rows": [
        [
         "count",
         "100.0",
         "100.0",
         "100.0",
         "100.0",
         "100.0"
        ],
        [
         "mean",
         "50.5",
         "36.57",
         "72820.0",
         "10.8",
         "84.94"
        ],
        [
         "std",
         "29.011491975882016",
         "8.318477667642723",
         "12643.823101667575",
         "6.361182788180706",
         "6.349771331283983"
        ],
        [
         "min",
         "1.0",
         "25.0",
         "43000.0",
         "1.0",
         "70.0"
        ],
        [
         "25%",
         "25.75",
         "29.75",
         "65000.0",
         "5.0",
         "80.0"
        ],
        [
         "50%",
         "50.5",
         "35.0",
         "72000.0",
         "10.0",
         "85.5"
        ],
        [
         "75%",
         "75.25",
         "41.25",
         "82750.0",
         "16.0",
         "90.0"
        ],
        [
         "max",
         "100.0",
         "60.0",
         "95000.0",
         "25.0",
         "95.0"
        ]
       ],
       "shape": {
        "columns": 5,
        "rows": 8
       }
      },
      "text/html": [
       "<div>\n",
       "<style scoped>\n",
       "    .dataframe tbody tr th:only-of-type {\n",
       "        vertical-align: middle;\n",
       "    }\n",
       "\n",
       "    .dataframe tbody tr th {\n",
       "        vertical-align: top;\n",
       "    }\n",
       "\n",
       "    .dataframe thead th {\n",
       "        text-align: right;\n",
       "    }\n",
       "</style>\n",
       "<table border=\"1\" class=\"dataframe\">\n",
       "  <thead>\n",
       "    <tr style=\"text-align: right;\">\n",
       "      <th></th>\n",
       "      <th>EmployeeID</th>\n",
       "      <th>Age</th>\n",
       "      <th>Salary</th>\n",
       "      <th>YearsAtCompany</th>\n",
       "      <th>PerformanceScore</th>\n",
       "    </tr>\n",
       "  </thead>\n",
       "  <tbody>\n",
       "    <tr>\n",
       "      <th>count</th>\n",
       "      <td>100.000000</td>\n",
       "      <td>100.000000</td>\n",
       "      <td>100.000000</td>\n",
       "      <td>100.000000</td>\n",
       "      <td>100.000000</td>\n",
       "    </tr>\n",
       "    <tr>\n",
       "      <th>mean</th>\n",
       "      <td>50.500000</td>\n",
       "      <td>36.570000</td>\n",
       "      <td>72820.000000</td>\n",
       "      <td>10.800000</td>\n",
       "      <td>84.940000</td>\n",
       "    </tr>\n",
       "    <tr>\n",
       "      <th>std</th>\n",
       "      <td>29.011492</td>\n",
       "      <td>8.318478</td>\n",
       "      <td>12643.823102</td>\n",
       "      <td>6.361183</td>\n",
       "      <td>6.349771</td>\n",
       "    </tr>\n",
       "    <tr>\n",
       "      <th>min</th>\n",
       "      <td>1.000000</td>\n",
       "      <td>25.000000</td>\n",
       "      <td>43000.000000</td>\n",
       "      <td>1.000000</td>\n",
       "      <td>70.000000</td>\n",
       "    </tr>\n",
       "    <tr>\n",
       "      <th>25%</th>\n",
       "      <td>25.750000</td>\n",
       "      <td>29.750000</td>\n",
       "      <td>65000.000000</td>\n",
       "      <td>5.000000</td>\n",
       "      <td>80.000000</td>\n",
       "    </tr>\n",
       "    <tr>\n",
       "      <th>50%</th>\n",
       "      <td>50.500000</td>\n",
       "      <td>35.000000</td>\n",
       "      <td>72000.000000</td>\n",
       "      <td>10.000000</td>\n",
       "      <td>85.500000</td>\n",
       "    </tr>\n",
       "    <tr>\n",
       "      <th>75%</th>\n",
       "      <td>75.250000</td>\n",
       "      <td>41.250000</td>\n",
       "      <td>82750.000000</td>\n",
       "      <td>16.000000</td>\n",
       "      <td>90.000000</td>\n",
       "    </tr>\n",
       "    <tr>\n",
       "      <th>max</th>\n",
       "      <td>100.000000</td>\n",
       "      <td>60.000000</td>\n",
       "      <td>95000.000000</td>\n",
       "      <td>25.000000</td>\n",
       "      <td>95.000000</td>\n",
       "    </tr>\n",
       "  </tbody>\n",
       "</table>\n",
       "</div>"
      ],
      "text/plain": [
       "       EmployeeID         Age        Salary  YearsAtCompany  PerformanceScore\n",
       "count  100.000000  100.000000    100.000000      100.000000        100.000000\n",
       "mean    50.500000   36.570000  72820.000000       10.800000         84.940000\n",
       "std     29.011492    8.318478  12643.823102        6.361183          6.349771\n",
       "min      1.000000   25.000000  43000.000000        1.000000         70.000000\n",
       "25%     25.750000   29.750000  65000.000000        5.000000         80.000000\n",
       "50%     50.500000   35.000000  72000.000000       10.000000         85.500000\n",
       "75%     75.250000   41.250000  82750.000000       16.000000         90.000000\n",
       "max    100.000000   60.000000  95000.000000       25.000000         95.000000"
      ]
     },
     "execution_count": 14,
     "metadata": {},
     "output_type": "execute_result"
    }
   ],
   "source": [
    "#descriptive statistics like mean, median, mode, variance, and standard deviation for numerical columns.\n",
    "data.describe()"
   ]
  },
  {
   "cell_type": "code",
   "execution_count": 15,
   "id": "e9fe76a1",
   "metadata": {},
   "outputs": [
    {
     "name": "stdout",
     "output_type": "stream",
     "text": [
      "                      Mean   Median     Mode      Variance       Std_Dev\n",
      "EmployeeID           50.50     50.5      1.0  8.416667e+02     29.011492\n",
      "Age                  36.57     35.0     29.0  6.919707e+01      8.318478\n",
      "Salary            72820.00  72000.0  68000.0  1.598663e+08  12643.823102\n",
      "YearsAtCompany       10.80     10.0      2.0  4.046465e+01      6.361183\n",
      "PerformanceScore     84.94     85.5     80.0  4.031960e+01      6.349771\n"
     ]
    }
   ],
   "source": [
    "# checking the statistics individually.\n",
    "summary = pd.DataFrame({\n",
    "    'Mean': data.mean(numeric_only=True),\n",
    "    'Median': data.median(numeric_only=True),\n",
    "    'Mode': data.mode(numeric_only=True).iloc[0],\n",
    "    'Variance': data.var(numeric_only=True),\n",
    "    'Std_Dev': data.std(numeric_only=True)\n",
    "})\n",
    "print(summary)\n"
   ]
  },
  {
   "cell_type": "code",
   "execution_count": 16,
   "id": "444901db",
   "metadata": {},
   "outputs": [
    {
     "data": {
      "image/png": "[encoded data removed]",
      "text/plain": [
       "<Figure size 1000x500 with 6 Axes>"
      ]
     },
     "metadata": {},
     "output_type": "display_data"
    }
   ],
   "source": [
    "# plot for Distribution of Numerical Columns\n",
    "\n",
    "data.hist( figsize=(10, 5),bins=10)\n",
    "plt.suptitle(\"Distribution of Numerical Columns\")\n",
    "plt.show()\n"
   ]
  },
  {
   "cell_type": "code",
   "execution_count": 17,
   "id": "4e50c8bd",
   "metadata": {},
   "outputs": [
    {
     "data": {
      "image/png": "[encoded data removed]",
      "text/plain": [
       "<Figure size 1250x1250 with 30 Axes>"
      ]
     },
     "metadata": {},
     "output_type": "display_data"
    }
   ],
   "source": [
    "#Pairplot — Explore Relationships Between Features\n",
    "sns.pairplot(data)\n",
    "plt.suptitle(\"Pairplot of Numerical Features\", y=1.02)\n",
    "plt.show()"
   ]
  },
  {
   "cell_type": "code",
   "execution_count": 18,
   "id": "ba2cc36a",
   "metadata": {},
   "outputs": [
    {
     "name": "stdout",
     "output_type": "stream",
     "text": [
      "                  EmployeeID       Age    Salary  YearsAtCompany  \\\n",
      "EmployeeID          1.000000 -0.023041  0.100207        0.021620   \n",
      "Age                -0.023041  1.000000  0.281416        0.946127   \n",
      "Salary              0.100207  0.281416  1.000000        0.413361   \n",
      "YearsAtCompany      0.021620  0.946127  0.413361        1.000000   \n",
      "PerformanceScore    0.151666  0.305288  0.874773        0.443331   \n",
      "\n",
      "                  PerformanceScore  \n",
      "EmployeeID                0.151666  \n",
      "Age                       0.305288  \n",
      "Salary                    0.874773  \n",
      "YearsAtCompany            0.443331  \n",
      "PerformanceScore          1.000000  \n"
     ]
    },
    {
     "data": {
      "image/png": "[encoded data removed]",
      "text/plain": [
       "<Figure size 1000x600 with 2 Axes>"
      ]
     },
     "metadata": {},
     "output_type": "display_data"
    }
   ],
   "source": [
    "# Heatmap — Correlation Analysis\n",
    "\n",
    "plt.figure(figsize=(10, 6))\n",
    "correlation_matrix = data.corr(numeric_only=True)\n",
    "print(correlation_matrix)\n",
    "sns.heatmap(correlation_matrix, annot=True, cmap='coolwarm', fmt=\".2f\")\n",
    "plt.title(\"Correlation Heatmap\")\n",
    "plt.show()   # Form heatmap correaltion analysis we get performanceScore and salary is most correlated\n",
    "\n"
   ]
  },
  {
   "cell_type": "code",
   "execution_count": 19,
   "id": "904148fa",
   "metadata": {},
   "outputs": [
    {
     "data": {
      "image/png": "[encoded data removed]",
      "text/plain": [
       "<Figure size 1200x600 with 1 Axes>"
      ]
     },
     "metadata": {},
     "output_type": "display_data"
    }
   ],
   "source": [
    "numeric_cols = data.select_dtypes(include=['int64', 'float64']).columns\n",
    "numeric_cols=numeric_cols.drop(['Salary'])   # removed the salary columns be cause it don't giving meaningful insight because of high value compare to the other colums values \n",
    "plt.figure(figsize=(12, 6))\n",
    "data.boxplot(column=list(numeric_cols))\n",
    "plt.title(\"Boxplots for Numerical Features\")\n",
    "plt.xticks(rotation=45)\n",
    "plt.show()      #\n"
   ]
  },
  {
   "cell_type": "code",
   "execution_count": 20,
   "id": "b47614ac",
   "metadata": {},
   "outputs": [
    {
     "data": {
      "image/png": "[encoded data removed]",
      "text/plain": [
       "<Figure size 640x480 with 1 Axes>"
      ]
     },
     "metadata": {},
     "output_type": "display_data"
    }
   ],
   "source": [
    "data.boxplot(column=['Salary'])\n",
    "plt.suptitle('Boxplot for salary')\n",
    "plt.show()"
   ]
  },
  {
   "cell_type": "markdown",
   "id": "4739dc01",
   "metadata": {},
   "source": [
    "Probability and Statistical Analysis\n"
   ]
  },
  {
   "cell_type": "code",
   "execution_count": 21,
   "id": "a35b0e83",
   "metadata": {},
   "outputs": [
    {
     "name": "stdout",
     "output_type": "stream",
     "text": [
      "Probability of an employee leaving: 0.39\n"
     ]
    }
   ],
   "source": [
    "# Calculate overall probability of leaving\n",
    "prob_attrition = (data['Attrition'] == 'Yes').mean()\n",
    "print(f\"Probability of an employee leaving: {prob_attrition:.2f}\")\n"
   ]
  },
  {
   "cell_type": "code",
   "execution_count": 22,
   "id": "dd69663a",
   "metadata": {},
   "outputs": [
    {
     "data": {
      "application/vnd.microsoft.datawrangler.viewer.v0+json": {
       "columns": [
        {
         "name": "Attrition",
         "rawType": "object",
         "type": "string"
        },
        {
         "name": "count",
         "rawType": "int64",
         "type": "integer"
        }
       ],
       "ref": "08be9b77-a5de-4196-b981-1a4655426761",
       "rows": [
        [
         "No",
         "61"
        ],
        [
         "Yes",
         "39"
        ]
       ],
       "shape": {
        "columns": 1,
        "rows": 2
       }
      },
      "text/plain": [
       "Attrition\n",
       "No     61\n",
       "Yes    39\n",
       "Name: count, dtype: int64"
      ]
     },
     "execution_count": 22,
     "metadata": {},
     "output_type": "execute_result"
    }
   ],
   "source": [
    "data['Attrition'].value_counts()"
   ]
  },
  {
   "cell_type": "code",
   "execution_count": null,
   "id": "5207af3b",
   "metadata": {},
   "outputs": [],
   "source": []
  },
  {
   "cell_type": "code",
   "execution_count": 23,
   "id": "92586b48",
   "metadata": {},
   "outputs": [
    {
     "name": "stdout",
     "output_type": "stream",
     "text": [
      "Department\n",
      "Engineering    0.428571\n",
      "HR             0.346154\n",
      "Marketing      0.200000\n",
      "Sales          0.538462\n",
      "Name: Attrition, dtype: float64\n"
     ]
    }
   ],
   "source": [
    "#Conditional Probability by Department\n",
    "prob_attrition_by_dept = data.groupby('Department')['Attrition'].apply(lambda x: (x == 'Yes').mean())\n",
    "print(prob_attrition_by_dept)"
   ]
  },
  {
   "cell_type": "code",
   "execution_count": 24,
   "id": "ffa43e62",
   "metadata": {},
   "outputs": [
    {
     "data": {
      "application/vnd.microsoft.datawrangler.viewer.v0+json": {
       "columns": [
        {
         "name": "index",
         "rawType": "object",
         "type": "string"
        },
        {
         "name": "PerformanceScore",
         "rawType": "float64",
         "type": "float"
        }
       ],
       "ref": "0270e1e6-d094-4933-aeec-9196b2a59286",
       "rows": [
        [
         "count",
         "100.0"
        ],
        [
         "mean",
         "84.94"
        ],
        [
         "std",
         "6.349771331283983"
        ],
        [
         "min",
         "70.0"
        ],
        [
         "25%",
         "80.0"
        ],
        [
         "50%",
         "85.5"
        ],
        [
         "75%",
         "90.0"
        ],
        [
         "max",
         "95.0"
        ]
       ],
       "shape": {
        "columns": 1,
        "rows": 8
       }
      },
      "text/plain": [
       "count    100.000000\n",
       "mean      84.940000\n",
       "std        6.349771\n",
       "min       70.000000\n",
       "25%       80.000000\n",
       "50%       85.500000\n",
       "75%       90.000000\n",
       "max       95.000000\n",
       "Name: PerformanceScore, dtype: float64"
      ]
     },
     "execution_count": 24,
     "metadata": {},
     "output_type": "execute_result"
    }
   ],
   "source": [
    "data['PerformanceScore'].describe()"
   ]
  },
  {
   "cell_type": "code",
   "execution_count": 25,
   "id": "6cd64d72",
   "metadata": {},
   "outputs": [
    {
     "data": {
      "application/vnd.microsoft.datawrangler.viewer.v0+json": {
       "columns": [
        {
         "name": "PerformanceCategory",
         "rawType": "category",
         "type": "unknown"
        },
        {
         "name": "count",
         "rawType": "int64",
         "type": "integer"
        }
       ],
       "ref": "bc19e10b-de7d-492c-b019-3f335c43b3fc",
       "rows": [
        [
         "Low",
         "30"
        ],
        [
         "High",
         "26"
        ],
        [
         "Very High",
         "24"
        ],
        [
         "Medium",
         "20"
        ]
       ],
       "shape": {
        "columns": 1,
        "rows": 4
       }
      },
      "text/plain": [
       "PerformanceCategory\n",
       "Low          30\n",
       "High         26\n",
       "Very High    24\n",
       "Medium       20\n",
       "Name: count, dtype: int64"
      ]
     },
     "execution_count": 25,
     "metadata": {},
     "output_type": "execute_result"
    }
   ],
   "source": [
    "data['PerformanceCategory'] = pd.cut(\n",
    "    data['PerformanceScore'],\n",
    "    bins=[70, 80, 85.5, 90, 95],\n",
    "    labels=['Low', 'Medium', 'High', 'Very High'],\n",
    "    include_lowest=True\n",
    ")\n",
    "data['PerformanceCategory'].value_counts()\n"
   ]
  },
  {
   "cell_type": "code",
   "execution_count": 26,
   "id": "f32fa62e",
   "metadata": {},
   "outputs": [
    {
     "name": "stdout",
     "output_type": "stream",
     "text": [
      "Probability of Attrition by Performance Level:\n",
      "PerformanceCategory\n",
      "Low          0.266667\n",
      "Medium       0.400000\n",
      "High         0.423077\n",
      "Very High    0.500000\n",
      "Name: Attrition, dtype: float64\n"
     ]
    }
   ],
   "source": [
    "# this based on all number of employees\n",
    "prob_attrition_by_perf = data.groupby('PerformanceCategory',observed=True)['Attrition'].apply(lambda x: (x == 'Yes').mean())\n",
    "\n",
    "print(\"Probability of Attrition by Performance Level:\")\n",
    "print(prob_attrition_by_perf)\n"
   ]
  },
  {
   "cell_type": "code",
   "execution_count": 27,
   "id": "e2009824",
   "metadata": {},
   "outputs": [
    {
     "name": "stdout",
     "output_type": "stream",
     "text": [
      "Total employees who left: 39\n"
     ]
    }
   ],
   "source": [
    "total_left = data[data['Attrition'] == 'Yes'].shape[0]\n",
    "print(\"Total employees who left:\", total_left)"
   ]
  },
  {
   "cell_type": "code",
   "execution_count": 28,
   "id": "49d9b4aa",
   "metadata": {},
   "outputs": [
    {
     "name": "stdout",
     "output_type": "stream",
     "text": [
      "PerformanceCategory\n",
      "Very High    12\n",
      "High         11\n",
      "Medium        8\n",
      "Low           8\n",
      "Name: count, dtype: int64\n"
     ]
    }
   ],
   "source": [
    "left_counts = data[data['Attrition'] == 'Yes']['PerformanceCategory'].value_counts()\n",
    "print(left_counts)\n"
   ]
  },
  {
   "cell_type": "code",
   "execution_count": 29,
   "id": "ddda0da2",
   "metadata": {},
   "outputs": [
    {
     "name": "stdout",
     "output_type": "stream",
     "text": [
      "P(Performance Category | Attrition = Yes):\n",
      "PerformanceCategory\n",
      "Very High    0.307692\n",
      "High         0.282051\n",
      "Medium       0.205128\n",
      "Low          0.205128\n",
      "Name: count, dtype: float64\n"
     ]
    }
   ],
   "source": [
    "prob_perf_given_attrition = left_counts / total_left\n",
    "print(\"P(Performance Category | Attrition = Yes):\")\n",
    "print(prob_perf_given_attrition)\n"
   ]
  },
  {
   "cell_type": "code",
   "execution_count": 30,
   "id": "cf85fa80",
   "metadata": {},
   "outputs": [
    {
     "name": "stderr",
     "output_type": "stream",
     "text": [
      "C:\\Users\\sacbook\\AppData\\Local\\Temp\\ipykernel_21456\\2486114731.py:1: FutureWarning: \n",
      "\n",
      "Passing `palette` without assigning `hue` is deprecated and will be removed in v0.14.0. Assign the `x` variable to `hue` and set `legend=False` for the same effect.\n",
      "\n",
      "  sns.barplot(x=prob_perf_given_attrition.index, y=prob_perf_given_attrition.values, palette='coolwarm')\n"
     ]
    },
    {
     "data": {
      "image/png": "[encoded data removed]",
      "text/plain": [
       "<Figure size 640x480 with 1 Axes>"
      ]
     },
     "metadata": {},
     "output_type": "display_data"
    }
   ],
   "source": [
    "sns.barplot(x=prob_perf_given_attrition.index, y=prob_perf_given_attrition.values, palette='coolwarm')\n",
    "plt.title(\"Probability of Performance Level Among Employees Who Left\")\n",
    "plt.xlabel(\"Performance Category\")\n",
    "plt.ylabel(\"P(PerformanceCategory | Attrition = Yes)\")\n",
    "plt.show()"
   ]
  },
  {
   "cell_type": "code",
   "execution_count": 31,
   "id": "7bd1e62f",
   "metadata": {},
   "outputs": [
    {
     "name": "stdout",
     "output_type": "stream",
     "text": [
      "Totals: N_total = 100, N_left = 39, P(Left) = 0.3900\n",
      "\n",
      "Result table (by PerformanceCategory):\n",
      "\n",
      "           N_overall  N_left  P(S)  P(S|Left)  P(Left)  Bayes P(Left|S)  \\\n",
      "High              26      11  0.26     0.2821     0.39           0.4231   \n",
      "Low               30       8  0.30     0.2051     0.39           0.2667   \n",
      "Medium            20       8  0.20     0.2051     0.39           0.4000   \n",
      "Very High         24      12  0.24     0.3077     0.39           0.5000   \n",
      "\n",
      "           Empirical P(Left|S)  \n",
      "High                    0.4231  \n",
      "Low                     0.2667  \n",
      "Medium                  0.4000  \n",
      "Very High               0.5000  \n"
     ]
    }
   ],
   "source": [
    "# Total counts and probabilities\n",
    "N_total    = len(data)                                 # total employees\n",
    "N_left     = (data['Attrition'] == 'Yes').sum()        # total who left\n",
    "P_left     = N_left / N_total                          # P(Left)\n",
    "\n",
    "# Counts by performance category (overall and among left)\n",
    "counts_overall = data['PerformanceCategory'].value_counts().sort_index()\n",
    "counts_left    = data.loc[data['Attrition'] == 'Yes', 'PerformanceCategory'].value_counts().sort_index()\n",
    "\n",
    "# Convert to aligned Series (fill missing categories with 0)\n",
    "all_cats = sorted(list(set(data['PerformanceCategory'].cat.categories) if hasattr(data['PerformanceCategory'], \"cat\") \n",
    "                       else set(data['PerformanceCategory'].unique())))\n",
    "counts_overall = counts_overall.reindex(all_cats, fill_value=0)\n",
    "counts_left    = counts_left.reindex(all_cats, fill_value=0)\n",
    "\n",
    "P_S = counts_overall / N_total          # P(S)\n",
    "P_S_given_left = counts_left / N_left   # P(S | Left)\n",
    "\n",
    "# Bayes estimate P(Left | S)\n",
    "# avoid division by zero for categories with no overall observations\n",
    "bayes_P_left_given_S = pd.Series(index=all_cats, dtype=float)\n",
    "for cat in all_cats:\n",
    "    if P_S.loc[cat] > 0:\n",
    "        bayes_P_left_given_S.loc[cat] = (P_S_given_left.loc[cat] * P_left) / P_S.loc[cat]\n",
    "    else:\n",
    "        bayes_P_left_given_S.loc[cat] = np.nan\n",
    "\n",
    "# Empirical P(Left | S) (direct)\n",
    "empirical_P_left_given_S = (counts_left / counts_overall).replace({np.inf: np.nan})\n",
    "\n",
    "# Build result table\n",
    "result = pd.DataFrame({\n",
    "    'N_overall': counts_overall,\n",
    "    'N_left': counts_left,\n",
    "    'P(S)': P_S.round(4),\n",
    "    'P(S|Left)': P_S_given_left.round(4),\n",
    "    'P(Left)': round(P_left, 4),\n",
    "    \"Bayes P(Left|S)\": bayes_P_left_given_S.round(4),\n",
    "    \"Empirical P(Left|S)\": empirical_P_left_given_S.round(4)\n",
    "})\n",
    "\n",
    "print(\"Totals: N_total = {}, N_left = {}, P(Left) = {:.4f}\".format(N_total, N_left, P_left))\n",
    "print(\"\\nResult table (by PerformanceCategory):\\n\")\n",
    "print(result)\n"
   ]
  },
  {
   "cell_type": "code",
   "execution_count": 32,
   "id": "184ba596",
   "metadata": {},
   "outputs": [
    {
     "name": "stdout",
     "output_type": "stream",
     "text": [
      "F-statistic: 25.781068086646336\n",
      "p-value: 2.5591493445552065e-12\n",
      "\n",
      "Hypothesis:\n",
      "H0: The mean PerformanceScore is the same across all departments.\n",
      "Ha: At least one department has a different mean PerformanceScore.\n",
      "\n",
      "Decision: Reject H0 (p-value = 0.0000 < 0.05)\n",
      "Conclusion: There is significant evidence that mean PerformanceScore differs across departments.\n"
     ]
    }
   ],
   "source": [
    "from scipy.stats import f_oneway\n",
    "# Group PerformanceScore by Department\n",
    "groups = [group['PerformanceScore'].values for name, group in data.groupby('Department')]\n",
    "\n",
    "# Perform ANOVA\n",
    "F_stat, p_value = f_oneway(*groups)\n",
    "\n",
    "# Print F-statistic and p-value\n",
    "print(\"F-statistic:\", F_stat)\n",
    "print(\"p-value:\", p_value)\n",
    "\n",
    "# Hypothesis statement and decision\n",
    "alpha = 0.05  # significance level\n",
    "\n",
    "print(\"\\nHypothesis:\")\n",
    "print(\"H0: The mean PerformanceScore is the same across all departments.\")\n",
    "print(\"Ha: At least one department has a different mean PerformanceScore.\\n\")\n",
    "\n",
    "if p_value < alpha:\n",
    "    print(f\"Decision: Reject H0 (p-value = {p_value:.4f} < {alpha})\")\n",
    "    print(\"Conclusion: There is significant evidence that mean PerformanceScore differs across departments.\")\n",
    "else:\n",
    "    print(f\"Decision: Fail to reject H0 (p-value = {p_value:.4f} ≥ {alpha})\")\n",
    "    print(\"Conclusion: There is no significant evidence that mean PerformanceScore differs across departments.\")\n"
   ]
  },
  {
   "cell_type": "code",
   "execution_count": 33,
   "id": "cd3859f1",
   "metadata": {},
   "outputs": [],
   "source": [
    "from sklearn.preprocessing import MinMaxScaler, StandardScaler, LabelEncoder\n",
    "\n",
    "scaler = MinMaxScaler()\n",
    "data[['Salary', 'PerformanceScore']] = scaler.fit_transform(data[['Salary', 'PerformanceScore']])\n",
    "\n",
    "label_encoder = LabelEncoder()\n",
    "data['Attrition'] = label_encoder.fit_transform(data['Attrition'])  # Yes=1, No=0\n",
    "data['Department'] = label_encoder.fit_transform(data['Department'])\n",
    "data['PerformanceCategory']=label_encoder.fit_transform(data['PerformanceCategory'])\n",
    "\n"
   ]
  },
  {
   "cell_type": "code",
   "execution_count": 34,
   "id": "966d5ab2",
   "metadata": {},
   "outputs": [
    {
     "data": {
      "application/vnd.microsoft.datawrangler.viewer.v0+json": {
       "columns": [
        {
         "name": "index",
         "rawType": "int64",
         "type": "integer"
        },
        {
         "name": "EmployeeID",
         "rawType": "int64",
         "type": "integer"
        },
        {
         "name": "Name",
         "rawType": "object",
         "type": "string"
        },
        {
         "name": "Age",
         "rawType": "int64",
         "type": "integer"
        },
        {
         "name": "Department",
         "rawType": "int64",
         "type": "integer"
        },
        {
         "name": "Salary",
         "rawType": "float64",
         "type": "float"
        },
        {
         "name": "YearsAtCompany",
         "rawType": "int64",
         "type": "integer"
        },
        {
         "name": "PerformanceScore",
         "rawType": "float64",
         "type": "float"
        },
        {
         "name": "Attrition",
         "rawType": "int64",
         "type": "integer"
        },
        {
         "name": "PerformanceCategory",
         "rawType": "int64",
         "type": "integer"
        }
       ],
       "ref": "49c9d3b1-3405-4045-b1f4-372b4aff0358",
       "rows": [
        [
         "0",
         "1",
         "John Doe",
         "29",
         "3",
         "0.23076923076923073",
         "3",
         "0.3999999999999999",
         "0",
         "1"
        ],
        [
         "1",
         "2",
         "Jane Smith",
         "35",
         "1",
         "0.326923076923077",
         "7",
         "0.5999999999999996",
         "0",
         "2"
        ],
        [
         "2",
         "3",
         "Michael Brown",
         "40",
         "0",
         "0.7115384615384616",
         "10",
         "1.0",
         "1",
         "3"
        ],
        [
         "3",
         "4",
         "Emily Davis",
         "28",
         "2",
         "0.423076923076923",
         "5",
         "0.31999999999999984",
         "0",
         "1"
        ],
        [
         "4",
         "5",
         "David Johnson",
         "50",
         "3",
         "0.6153846153846153",
         "20",
         "0.7199999999999998",
         "1",
         "0"
        ]
       ],
       "shape": {
        "columns": 9,
        "rows": 5
       }
      },
      "text/html": [
       "<div>\n",
       "<style scoped>\n",
       "    .dataframe tbody tr th:only-of-type {\n",
       "        vertical-align: middle;\n",
       "    }\n",
       "\n",
       "    .dataframe tbody tr th {\n",
       "        vertical-align: top;\n",
       "    }\n",
       "\n",
       "    .dataframe thead th {\n",
       "        text-align: right;\n",
       "    }\n",
       "</style>\n",
       "<table border=\"1\" class=\"dataframe\">\n",
       "  <thead>\n",
       "    <tr style=\"text-align: right;\">\n",
       "      <th></th>\n",
       "      <th>EmployeeID</th>\n",
       "      <th>Name</th>\n",
       "      <th>Age</th>\n",
       "      <th>Department</th>\n",
       "      <th>Salary</th>\n",
       "      <th>YearsAtCompany</th>\n",
       "      <th>PerformanceScore</th>\n",
       "      <th>Attrition</th>\n",
       "      <th>PerformanceCategory</th>\n",
       "    </tr>\n",
       "  </thead>\n",
       "  <tbody>\n",
       "    <tr>\n",
       "      <th>0</th>\n",
       "      <td>1</td>\n",
       "      <td>John Doe</td>\n",
       "      <td>29</td>\n",
       "      <td>3</td>\n",
       "      <td>0.230769</td>\n",
       "      <td>3</td>\n",
       "      <td>0.40</td>\n",
       "      <td>0</td>\n",
       "      <td>1</td>\n",
       "    </tr>\n",
       "    <tr>\n",
       "      <th>1</th>\n",
       "      <td>2</td>\n",
       "      <td>Jane Smith</td>\n",
       "      <td>35</td>\n",
       "      <td>1</td>\n",
       "      <td>0.326923</td>\n",
       "      <td>7</td>\n",
       "      <td>0.60</td>\n",
       "      <td>0</td>\n",
       "      <td>2</td>\n",
       "    </tr>\n",
       "    <tr>\n",
       "      <th>2</th>\n",
       "      <td>3</td>\n",
       "      <td>Michael Brown</td>\n",
       "      <td>40</td>\n",
       "      <td>0</td>\n",
       "      <td>0.711538</td>\n",
       "      <td>10</td>\n",
       "      <td>1.00</td>\n",
       "      <td>1</td>\n",
       "      <td>3</td>\n",
       "    </tr>\n",
       "    <tr>\n",
       "      <th>3</th>\n",
       "      <td>4</td>\n",
       "      <td>Emily Davis</td>\n",
       "      <td>28</td>\n",
       "      <td>2</td>\n",
       "      <td>0.423077</td>\n",
       "      <td>5</td>\n",
       "      <td>0.32</td>\n",
       "      <td>0</td>\n",
       "      <td>1</td>\n",
       "    </tr>\n",
       "    <tr>\n",
       "      <th>4</th>\n",
       "      <td>5</td>\n",
       "      <td>David Johnson</td>\n",
       "      <td>50</td>\n",
       "      <td>3</td>\n",
       "      <td>0.615385</td>\n",
       "      <td>20</td>\n",
       "      <td>0.72</td>\n",
       "      <td>1</td>\n",
       "      <td>0</td>\n",
       "    </tr>\n",
       "  </tbody>\n",
       "</table>\n",
       "</div>"
      ],
      "text/plain": [
       "   EmployeeID           Name  Age  Department    Salary  YearsAtCompany  \\\n",
       "0           1       John Doe   29           3  0.230769               3   \n",
       "1           2     Jane Smith   35           1  0.326923               7   \n",
       "2           3  Michael Brown   40           0  0.711538              10   \n",
       "3           4    Emily Davis   28           2  0.423077               5   \n",
       "4           5  David Johnson   50           3  0.615385              20   \n",
       "\n",
       "   PerformanceScore  Attrition  PerformanceCategory  \n",
       "0              0.40          0                    1  \n",
       "1              0.60          0                    2  \n",
       "2              1.00          1                    3  \n",
       "3              0.32          0                    1  \n",
       "4              0.72          1                    0  "
      ]
     },
     "execution_count": 34,
     "metadata": {},
     "output_type": "execute_result"
    }
   ],
   "source": [
    "data.head()"
   ]
  },
  {
   "cell_type": "code",
   "execution_count": 35,
   "id": "420e41be",
   "metadata": {},
   "outputs": [],
   "source": [
    "from sklearn.model_selection import train_test_split\n",
    "from sklearn.ensemble import RandomForestClassifier\n",
    "from sklearn.linear_model import LogisticRegression\n",
    "from sklearn.metrics import accuracy_score, precision_score, recall_score, f1_score, confusion_matrix, ConfusionMatrixDisplay"
   ]
  },
  {
   "cell_type": "code",
   "execution_count": 36,
   "id": "a9a4e5a5",
   "metadata": {},
   "outputs": [],
   "source": [
    "# Step 1: Define features (X) and target (y)\n",
    "# Assuming Attrition (0 = No, 1 = Yes) is the target variable\n",
    "X = data[['Age', 'Department', 'Salary', 'YearsAtCompany', 'PerformanceScore', 'PerformanceCategory']]\n",
    "y = data['Attrition']\n",
    "\n",
    "# Step 4: Split into training and testing sets (80% train, 20% test)\n",
    "X_train, X_test, y_train, y_test = train_test_split(X, y, test_size=0.2, random_state=42)\n"
   ]
  },
  {
   "cell_type": "code",
   "execution_count": 37,
   "id": "eeba6ced",
   "metadata": {},
   "outputs": [
    {
     "data": {
      "text/html": [
       "<style>#sk-container-id-1 {\n",
       "  /* Definition of color scheme common for light and dark mode */\n",
       "  --sklearn-color-text: #000;\n",
       "  --sklearn-color-text-muted: #666;\n",
       "  --sklearn-color-line: gray;\n",
       "  /* Definition of color scheme for unfitted estimators */\n",
       "  --sklearn-color-unfitted-level-0: #fff5e6;\n",
       "  --sklearn-color-unfitted-level-1: #f6e4d2;\n",
       "  --sklearn-color-unfitted-level-2: #ffe0b3;\n",
       "  --sklearn-color-unfitted-level-3: chocolate;\n",
       "  /* Definition of color scheme for fitted estimators */\n",
       "  --sklearn-color-fitted-level-0: #f0f8ff;\n",
       "  --sklearn-color-fitted-level-1: #d4ebff;\n",
       "  --sklearn-color-fitted-level-2: #b3dbfd;\n",
       "  --sklearn-color-fitted-level-3: cornflowerblue;\n",
       "\n",
       "  /* Specific color for light theme */\n",
       "  --sklearn-color-text-on-default-background: var(--sg-text-color, var(--theme-code-foreground, var(--jp-content-font-color1, black)));\n",
       "  --sklearn-color-background: var(--sg-background-color, var(--theme-background, var(--jp-layout-color0, white)));\n",
       "  --sklearn-color-border-box: var(--sg-text-color, var(--theme-code-foreground, var(--jp-content-font-color1, black)));\n",
       "  --sklearn-color-icon: #696969;\n",
       "\n",
       "  @media (prefers-color-scheme: dark) {\n",
       "    /* Redefinition of color scheme for dark theme */\n",
       "    --sklearn-color-text-on-default-background: var(--sg-text-color, var(--theme-code-foreground, var(--jp-content-font-color1, white)));\n",
       "    --sklearn-color-background: var(--sg-background-color, var(--theme-background, var(--jp-layout-color0, #111)));\n",
       "    --sklearn-color-border-box: var(--sg-text-color, var(--theme-code-foreground, var(--jp-content-font-color1, white)));\n",
       "    --sklearn-color-icon: #878787;\n",
       "  }\n",
       "}\n",
       "\n",
       "#sk-container-id-1 {\n",
       "  color: var(--sklearn-color-text);\n",
       "}\n",
       "\n",
       "#sk-container-id-1 pre {\n",
       "  padding: 0;\n",
       "}\n",
       "\n",
       "#sk-container-id-1 input.sk-hidden--visually {\n",
       "  border: 0;\n",
       "  clip: rect(1px 1px 1px 1px);\n",
       "  clip: rect(1px, 1px, 1px, 1px);\n",
       "  height: 1px;\n",
       "  margin: -1px;\n",
       "  overflow: hidden;\n",
       "  padding: 0;\n",
       "  position: absolute;\n",
       "  width: 1px;\n",
       "}\n",
       "\n",
       "#sk-container-id-1 div.sk-dashed-wrapped {\n",
       "  border: 1px dashed var(--sklearn-color-line);\n",
       "  margin: 0 0.4em 0.5em 0.4em;\n",
       "  box-sizing: border-box;\n",
       "  padding-bottom: 0.4em;\n",
       "  background-color: var(--sklearn-color-background);\n",
       "}\n",
       "\n",
       "#sk-container-id-1 div.sk-container {\n",
       "  /* jupyter's `normalize.less` sets `[hidden] { display: none; }`\n",
       "     but bootstrap.min.css set `[hidden] { display: none !important; }`\n",
       "     so we also need the `!important` here to be able to override the\n",
       "     default hidden behavior on the sphinx rendered scikit-learn.org.\n",
       "     See: https://github.com/scikit-learn/scikit-learn/issues/21755 */\n",
       "  display: inline-block !important;\n",
       "  position: relative;\n",
       "}\n",
       "\n",
       "#sk-container-id-1 div.sk-text-repr-fallback {\n",
       "  display: none;\n",
       "}\n",
       "\n",
       "div.sk-parallel-item,\n",
       "div.sk-serial,\n",
       "div.sk-item {\n",
       "  /* draw centered vertical line to link estimators */\n",
       "  background-image: linear-gradient(var(--sklearn-color-text-on-default-background), var(--sklearn-color-text-on-default-background));\n",
       "  background-size: 2px 100%;\n",
       "  background-repeat: no-repeat;\n",
       "  background-position: center center;\n",
       "}\n",
       "\n",
       "/* Parallel-specific style estimator block */\n",
       "\n",
       "#sk-container-id-1 div.sk-parallel-item::after {\n",
       "  content: \"\";\n",
       "  width: 100%;\n",
       "  border-bottom: 2px solid var(--sklearn-color-text-on-default-background);\n",
       "  flex-grow: 1;\n",
       "}\n",
       "\n",
       "#sk-container-id-1 div.sk-parallel {\n",
       "  display: flex;\n",
       "  align-items: stretch;\n",
       "  justify-content: center;\n",
       "  background-color: var(--sklearn-color-background);\n",
       "  position: relative;\n",
       "}\n",
       "\n",
       "#sk-container-id-1 div.sk-parallel-item {\n",
       "  display: flex;\n",
       "  flex-direction: column;\n",
       "}\n",
       "\n",
       "#sk-container-id-1 div.sk-parallel-item:first-child::after {\n",
       "  align-self: flex-end;\n",
       "  width: 50%;\n",
       "}\n",
       "\n",
       "#sk-container-id-1 div.sk-parallel-item:last-child::after {\n",
       "  align-self: flex-start;\n",
       "  width: 50%;\n",
       "}\n",
       "\n",
       "#sk-container-id-1 div.sk-parallel-item:only-child::after {\n",
       "  width: 0;\n",
       "}\n",
       "\n",
       "/* Serial-specific style estimator block */\n",
       "\n",
       "#sk-container-id-1 div.sk-serial {\n",
       "  display: flex;\n",
       "  flex-direction: column;\n",
       "  align-items: center;\n",
       "  background-color: var(--sklearn-color-background);\n",
       "  padding-right: 1em;\n",
       "  padding-left: 1em;\n",
       "}\n",
       "\n",
       "\n",
       "/* Toggleable style: style used for estimator/Pipeline/ColumnTransformer box that is\n",
       "clickable and can be expanded/collapsed.\n",
       "- Pipeline and ColumnTransformer use this feature and define the default style\n",
       "- Estimators will overwrite some part of the style using the `sk-estimator` class\n",
       "*/\n",
       "\n",
       "/* Pipeline and ColumnTransformer style (default) */\n",
       "\n",
       "#sk-container-id-1 div.sk-toggleable {\n",
       "  /* Default theme specific background. It is overwritten whether we have a\n",
       "  specific estimator or a Pipeline/ColumnTransformer */\n",
       "  background-color: var(--sklearn-color-background);\n",
       "}\n",
       "\n",
       "/* Toggleable label */\n",
       "#sk-container-id-1 label.sk-toggleable__label {\n",
       "  cursor: pointer;\n",
       "  display: flex;\n",
       "  width: 100%;\n",
       "  margin-bottom: 0;\n",
       "  padding: 0.5em;\n",
       "  box-sizing: border-box;\n",
       "  text-align: center;\n",
       "  align-items: start;\n",
       "  justify-content: space-between;\n",
       "  gap: 0.5em;\n",
       "}\n",
       "\n",
       "#sk-container-id-1 label.sk-toggleable__label .caption {\n",
       "  font-size: 0.6rem;\n",
       "  font-weight: lighter;\n",
       "  color: var(--sklearn-color-text-muted);\n",
       "}\n",
       "\n",
       "#sk-container-id-1 label.sk-toggleable__label-arrow:before {\n",
       "  /* Arrow on the left of the label */\n",
       "  content: \"▸\";\n",
       "  float: left;\n",
       "  margin-right: 0.25em;\n",
       "  color: var(--sklearn-color-icon);\n",
       "}\n",
       "\n",
       "#sk-container-id-1 label.sk-toggleable__label-arrow:hover:before {\n",
       "  color: var(--sklearn-color-text);\n",
       "}\n",
       "\n",
       "/* Toggleable content - dropdown */\n",
       "\n",
       "#sk-container-id-1 div.sk-toggleable__content {\n",
       "  max-height: 0;\n",
       "  max-width: 0;\n",
       "  overflow: hidden;\n",
       "  text-align: left;\n",
       "  /* unfitted */\n",
       "  background-color: var(--sklearn-color-unfitted-level-0);\n",
       "}\n",
       "\n",
       "#sk-container-id-1 div.sk-toggleable__content.fitted {\n",
       "  /* fitted */\n",
       "  background-color: var(--sklearn-color-fitted-level-0);\n",
       "}\n",
       "\n",
       "#sk-container-id-1 div.sk-toggleable__content pre {\n",
       "  margin: 0.2em;\n",
       "  border-radius: 0.25em;\n",
       "  color: var(--sklearn-color-text);\n",
       "  /* unfitted */\n",
       "  background-color: var(--sklearn-color-unfitted-level-0);\n",
       "}\n",
       "\n",
       "#sk-container-id-1 div.sk-toggleable__content.fitted pre {\n",
       "  /* unfitted */\n",
       "  background-color: var(--sklearn-color-fitted-level-0);\n",
       "}\n",
       "\n",
       "#sk-container-id-1 input.sk-toggleable__control:checked~div.sk-toggleable__content {\n",
       "  /* Expand drop-down */\n",
       "  max-height: 200px;\n",
       "  max-width: 100%;\n",
       "  overflow: auto;\n",
       "}\n",
       "\n",
       "#sk-container-id-1 input.sk-toggleable__control:checked~label.sk-toggleable__label-arrow:before {\n",
       "  content: \"▾\";\n",
       "}\n",
       "\n",
       "/* Pipeline/ColumnTransformer-specific style */\n",
       "\n",
       "#sk-container-id-1 div.sk-label input.sk-toggleable__control:checked~label.sk-toggleable__label {\n",
       "  color: var(--sklearn-color-text);\n",
       "  background-color: var(--sklearn-color-unfitted-level-2);\n",
       "}\n",
       "\n",
       "#sk-container-id-1 div.sk-label.fitted input.sk-toggleable__control:checked~label.sk-toggleable__label {\n",
       "  background-color: var(--sklearn-color-fitted-level-2);\n",
       "}\n",
       "\n",
       "/* Estimator-specific style */\n",
       "\n",
       "/* Colorize estimator box */\n",
       "#sk-container-id-1 div.sk-estimator input.sk-toggleable__control:checked~label.sk-toggleable__label {\n",
       "  /* unfitted */\n",
       "  background-color: var(--sklearn-color-unfitted-level-2);\n",
       "}\n",
       "\n",
       "#sk-container-id-1 div.sk-estimator.fitted input.sk-toggleable__control:checked~label.sk-toggleable__label {\n",
       "  /* fitted */\n",
       "  background-color: var(--sklearn-color-fitted-level-2);\n",
       "}\n",
       "\n",
       "#sk-container-id-1 div.sk-label label.sk-toggleable__label,\n",
       "#sk-container-id-1 div.sk-label label {\n",
       "  /* The background is the default theme color */\n",
       "  color: var(--sklearn-color-text-on-default-background);\n",
       "}\n",
       "\n",
       "/* On hover, darken the color of the background */\n",
       "#sk-container-id-1 div.sk-label:hover label.sk-toggleable__label {\n",
       "  color: var(--sklearn-color-text);\n",
       "  background-color: var(--sklearn-color-unfitted-level-2);\n",
       "}\n",
       "\n",
       "/* Label box, darken color on hover, fitted */\n",
       "#sk-container-id-1 div.sk-label.fitted:hover label.sk-toggleable__label.fitted {\n",
       "  color: var(--sklearn-color-text);\n",
       "  background-color: var(--sklearn-color-fitted-level-2);\n",
       "}\n",
       "\n",
       "/* Estimator label */\n",
       "\n",
       "#sk-container-id-1 div.sk-label label {\n",
       "  font-family: monospace;\n",
       "  font-weight: bold;\n",
       "  display: inline-block;\n",
       "  line-height: 1.2em;\n",
       "}\n",
       "\n",
       "#sk-container-id-1 div.sk-label-container {\n",
       "  text-align: center;\n",
       "}\n",
       "\n",
       "/* Estimator-specific */\n",
       "#sk-container-id-1 div.sk-estimator {\n",
       "  font-family: monospace;\n",
       "  border: 1px dotted var(--sklearn-color-border-box);\n",
       "  border-radius: 0.25em;\n",
       "  box-sizing: border-box;\n",
       "  margin-bottom: 0.5em;\n",
       "  /* unfitted */\n",
       "  background-color: var(--sklearn-color-unfitted-level-0);\n",
       "}\n",
       "\n",
       "#sk-container-id-1 div.sk-estimator.fitted {\n",
       "  /* fitted */\n",
       "  background-color: var(--sklearn-color-fitted-level-0);\n",
       "}\n",
       "\n",
       "/* on hover */\n",
       "#sk-container-id-1 div.sk-estimator:hover {\n",
       "  /* unfitted */\n",
       "  background-color: var(--sklearn-color-unfitted-level-2);\n",
       "}\n",
       "\n",
       "#sk-container-id-1 div.sk-estimator.fitted:hover {\n",
       "  /* fitted */\n",
       "  background-color: var(--sklearn-color-fitted-level-2);\n",
       "}\n",
       "\n",
       "/* Specification for estimator info (e.g. \"i\" and \"?\") */\n",
       "\n",
       "/* Common style for \"i\" and \"?\" */\n",
       "\n",
       ".sk-estimator-doc-link,\n",
       "a:link.sk-estimator-doc-link,\n",
       "a:visited.sk-estimator-doc-link {\n",
       "  float: right;\n",
       "  font-size: smaller;\n",
       "  line-height: 1em;\n",
       "  font-family: monospace;\n",
       "  background-color: var(--sklearn-color-background);\n",
       "  border-radius: 1em;\n",
       "  height: 1em;\n",
       "  width: 1em;\n",
       "  text-decoration: none !important;\n",
       "  margin-left: 0.5em;\n",
       "  text-align: center;\n",
       "  /* unfitted */\n",
       "  border: var(--sklearn-color-unfitted-level-1) 1pt solid;\n",
       "  color: var(--sklearn-color-unfitted-level-1);\n",
       "}\n",
       "\n",
       ".sk-estimator-doc-link.fitted,\n",
       "a:link.sk-estimator-doc-link.fitted,\n",
       "a:visited.sk-estimator-doc-link.fitted {\n",
       "  /* fitted */\n",
       "  border: var(--sklearn-color-fitted-level-1) 1pt solid;\n",
       "  color: var(--sklearn-color-fitted-level-1);\n",
       "}\n",
       "\n",
       "/* On hover */\n",
       "div.sk-estimator:hover .sk-estimator-doc-link:hover,\n",
       ".sk-estimator-doc-link:hover,\n",
       "div.sk-label-container:hover .sk-estimator-doc-link:hover,\n",
       ".sk-estimator-doc-link:hover {\n",
       "  /* unfitted */\n",
       "  background-color: var(--sklearn-color-unfitted-level-3);\n",
       "  color: var(--sklearn-color-background);\n",
       "  text-decoration: none;\n",
       "}\n",
       "\n",
       "div.sk-estimator.fitted:hover .sk-estimator-doc-link.fitted:hover,\n",
       ".sk-estimator-doc-link.fitted:hover,\n",
       "div.sk-label-container:hover .sk-estimator-doc-link.fitted:hover,\n",
       ".sk-estimator-doc-link.fitted:hover {\n",
       "  /* fitted */\n",
       "  background-color: var(--sklearn-color-fitted-level-3);\n",
       "  color: var(--sklearn-color-background);\n",
       "  text-decoration: none;\n",
       "}\n",
       "\n",
       "/* Span, style for the box shown on hovering the info icon */\n",
       ".sk-estimator-doc-link span {\n",
       "  display: none;\n",
       "  z-index: 9999;\n",
       "  position: relative;\n",
       "  font-weight: normal;\n",
       "  right: .2ex;\n",
       "  padding: .5ex;\n",
       "  margin: .5ex;\n",
       "  width: min-content;\n",
       "  min-width: 20ex;\n",
       "  max-width: 50ex;\n",
       "  color: var(--sklearn-color-text);\n",
       "  box-shadow: 2pt 2pt 4pt #999;\n",
       "  /* unfitted */\n",
       "  background: var(--sklearn-color-unfitted-level-0);\n",
       "  border: .5pt solid var(--sklearn-color-unfitted-level-3);\n",
       "}\n",
       "\n",
       ".sk-estimator-doc-link.fitted span {\n",
       "  /* fitted */\n",
       "  background: var(--sklearn-color-fitted-level-0);\n",
       "  border: var(--sklearn-color-fitted-level-3);\n",
       "}\n",
       "\n",
       ".sk-estimator-doc-link:hover span {\n",
       "  display: block;\n",
       "}\n",
       "\n",
       "/* \"?\"-specific style due to the `<a>` HTML tag */\n",
       "\n",
       "#sk-container-id-1 a.estimator_doc_link {\n",
       "  float: right;\n",
       "  font-size: 1rem;\n",
       "  line-height: 1em;\n",
       "  font-family: monospace;\n",
       "  background-color: var(--sklearn-color-background);\n",
       "  border-radius: 1rem;\n",
       "  height: 1rem;\n",
       "  width: 1rem;\n",
       "  text-decoration: none;\n",
       "  /* unfitted */\n",
       "  color: var(--sklearn-color-unfitted-level-1);\n",
       "  border: var(--sklearn-color-unfitted-level-1) 1pt solid;\n",
       "}\n",
       "\n",
       "#sk-container-id-1 a.estimator_doc_link.fitted {\n",
       "  /* fitted */\n",
       "  border: var(--sklearn-color-fitted-level-1) 1pt solid;\n",
       "  color: var(--sklearn-color-fitted-level-1);\n",
       "}\n",
       "\n",
       "/* On hover */\n",
       "#sk-container-id-1 a.estimator_doc_link:hover {\n",
       "  /* unfitted */\n",
       "  background-color: var(--sklearn-color-unfitted-level-3);\n",
       "  color: var(--sklearn-color-background);\n",
       "  text-decoration: none;\n",
       "}\n",
       "\n",
       "#sk-container-id-1 a.estimator_doc_link.fitted:hover {\n",
       "  /* fitted */\n",
       "  background-color: var(--sklearn-color-fitted-level-3);\n",
       "}\n",
       "</style><div id=\"sk-container-id-1\" class=\"sk-top-container\"><div class=\"sk-text-repr-fallback\"><pre>LogisticRegression(max_iter=1000, random_state=42)</pre><b>In a Jupyter environment, please rerun this cell to show the HTML representation or trust the notebook. <br />On GitHub, the HTML representation is unable to render, please try loading this page with nbviewer.org.</b></div><div class=\"sk-container\" hidden><div class=\"sk-item\"><div class=\"sk-estimator fitted sk-toggleable\"><input class=\"sk-toggleable__control sk-hidden--visually\" id=\"sk-estimator-id-1\" type=\"checkbox\" checked><label for=\"sk-estimator-id-1\" class=\"sk-toggleable__label fitted sk-toggleable__label-arrow\"><div><div>LogisticRegression</div></div><div><a class=\"sk-estimator-doc-link fitted\" rel=\"noreferrer\" target=\"_blank\" href=\"https://scikit-learn.org/1.6/modules/generated/sklearn.linear_model.LogisticRegression.html\">?<span>Documentation for LogisticRegression</span></a><span class=\"sk-estimator-doc-link fitted\">i<span>Fitted</span></span></div></label><div class=\"sk-toggleable__content fitted\"><pre>LogisticRegression(max_iter=1000, random_state=42)</pre></div> </div></div></div></div>"
      ],
      "text/plain": [
       "LogisticRegression(max_iter=1000, random_state=42)"
      ]
     },
     "execution_count": 37,
     "metadata": {},
     "output_type": "execute_result"
    }
   ],
   "source": [
    "# Step 2: Choose a model (Random Forest Classifier)\n",
    "model = RandomForestClassifier(random_state=42)\n",
    "model.fit(X_train, y_train)\n",
    "\n",
    "model2=LogisticRegression(max_iter=1000, random_state=42)\n",
    "model2.fit(X_train,y_train)"
   ]
  },
  {
   "cell_type": "code",
   "execution_count": 38,
   "id": "16e1101c",
   "metadata": {},
   "outputs": [],
   "source": [
    "# Step 3: Make predictions\n",
    "y_pred = model.predict(X_test)\n",
    "y2_pred = model2.predict(X_test)"
   ]
  },
  {
   "cell_type": "code",
   "execution_count": 39,
   "id": "33544823",
   "metadata": {},
   "outputs": [
    {
     "name": "stdout",
     "output_type": "stream",
     "text": [
      "Model Evaluation Metrics of Random Forest Model:\n",
      "Accuracy:  0.7000\n",
      "Precision: 0.5714\n",
      "Recall:    0.5714\n",
      "F1-Score:  0.5714\n",
      "Model Evaluation Metrics of logisctic regression:\n",
      "Accuracy:  0.6500\n",
      "Precision: 0.5000\n",
      "Recall:    0.4286\n",
      "F1-Score:  0.4615\n"
     ]
    }
   ],
   "source": [
    "# Step 7: Evaluate the model(random forest model)\n",
    "accuracy = accuracy_score(y_test, y_pred)\n",
    "precision = precision_score(y_test, y_pred, zero_division=0)\n",
    "recall = recall_score(y_test, y_pred, zero_division=0)\n",
    "f1 = f1_score(y_test, y_pred, zero_division=0)\n",
    "\n",
    "print(\"Model Evaluation Metrics of Random Forest Model:\")\n",
    "print(f\"Accuracy:  {accuracy:.4f}\")\n",
    "print(f\"Precision: {precision:.4f}\")\n",
    "print(f\"Recall:    {recall:.4f}\")\n",
    "print(f\"F1-Score:  {f1:.4f}\")\n",
    "\n",
    "# for logistic regression\n",
    "# Step 7: Evaluate the model\n",
    "accuracy2 = accuracy_score(y_test, y2_pred)\n",
    "precision2 = precision_score(y_test, y2_pred, zero_division=0)\n",
    "recall2 = recall_score(y_test, y2_pred, zero_division=0)\n",
    "f12 = f1_score(y_test, y2_pred, zero_division=0)\n",
    "\n",
    "print(\"Model Evaluation Metrics of logisctic regression:\")\n",
    "print(f\"Accuracy:  {accuracy2:.4f}\")\n",
    "print(f\"Precision: {precision2:.4f}\")\n",
    "print(f\"Recall:    {recall2:.4f}\")\n",
    "print(f\"F1-Score:  {f12:.4f}\")"
   ]
  },
  {
   "cell_type": "code",
   "execution_count": 40,
   "id": "3a440924",
   "metadata": {},
   "outputs": [
    {
     "data": {
      "image/png": "[encoded data removed]",
      "text/plain": [
       "<Figure size 640x480 with 2 Axes>"
      ]
     },
     "metadata": {},
     "output_type": "display_data"
    }
   ],
   "source": [
    "# Step 8: Visualize Confusion Matrix\n",
    "cm = confusion_matrix(y_test, y_pred)\n",
    "disp = ConfusionMatrixDisplay(confusion_matrix=cm, display_labels=[\"No Attrition\", \"Attrition\"])\n",
    "disp.plot(cmap='Blues')\n",
    "plt.title(\"Confusion Matrix - Random Forest Classifier\")\n",
    "plt.show()\n",
    "\n"
   ]
  },
  {
   "cell_type": "code",
   "execution_count": 41,
   "id": "deaf9186",
   "metadata": {},
   "outputs": [
    {
     "data": {
      "image/png": "[encoded data removed]",
      "text/plain": [
       "<Figure size 640x480 with 2 Axes>"
      ]
     },
     "metadata": {},
     "output_type": "display_data"
    }
   ],
   "source": [
    "# For Logistic Regression\n",
    "cm2 = confusion_matrix(y_test, y2_pred)\n",
    "disp = ConfusionMatrixDisplay(confusion_matrix=cm2, display_labels=[\"No Attrition\", \"Attrition\"])\n",
    "disp.plot(cmap='GnBu_r')\n",
    "plt.title(\"Confusion Matrix - Logistic Regression Classifier\")\n",
    "plt.show()\n"
   ]
  },
  {
   "cell_type": "code",
   "execution_count": 42,
   "id": "3a972cc9",
   "metadata": {},
   "outputs": [],
   "source": [
    "# Importing library for performance prediction\n",
    "from sklearn.linear_model import LinearRegression\n",
    "from sklearn.metrics import mean_squared_error, r2_score"
   ]
  },
  {
   "cell_type": "code",
   "execution_count": 43,
   "id": "d8ce013e",
   "metadata": {},
   "outputs": [],
   "source": [
    "# Step 2: Select features (independent variables) and target (dependent variable)\n",
    "# We'll use numerical predictors only to avoid encoding complexity for now\n",
    "X1 = data[['Age', 'Salary', 'YearsAtCompany']]\n",
    "y1 = data['PerformanceScore']\n"
   ]
  },
  {
   "cell_type": "code",
   "execution_count": 44,
   "id": "fb8d5176",
   "metadata": {},
   "outputs": [],
   "source": [
    "# Step 2: Split dataset into Training and Testing sets (80-20 ratio)\n",
    "X1_train, X1_test, y1_train, y1_test = train_test_split(X1, y1, test_size=0.2, random_state=42)"
   ]
  },
  {
   "cell_type": "code",
   "execution_count": 45,
   "id": "de89beb7",
   "metadata": {},
   "outputs": [
    {
     "data": {
      "text/html": [
       "<style>#sk-container-id-2 {\n",
       "  /* Definition of color scheme common for light and dark mode */\n",
       "  --sklearn-color-text: #000;\n",
       "  --sklearn-color-text-muted: #666;\n",
       "  --sklearn-color-line: gray;\n",
       "  /* Definition of color scheme for unfitted estimators */\n",
       "  --sklearn-color-unfitted-level-0: #fff5e6;\n",
       "  --sklearn-color-unfitted-level-1: #f6e4d2;\n",
       "  --sklearn-color-unfitted-level-2: #ffe0b3;\n",
       "  --sklearn-color-unfitted-level-3: chocolate;\n",
       "  /* Definition of color scheme for fitted estimators */\n",
       "  --sklearn-color-fitted-level-0: #f0f8ff;\n",
       "  --sklearn-color-fitted-level-1: #d4ebff;\n",
       "  --sklearn-color-fitted-level-2: #b3dbfd;\n",
       "  --sklearn-color-fitted-level-3: cornflowerblue;\n",
       "\n",
       "  /* Specific color for light theme */\n",
       "  --sklearn-color-text-on-default-background: var(--sg-text-color, var(--theme-code-foreground, var(--jp-content-font-color1, black)));\n",
       "  --sklearn-color-background: var(--sg-background-color, var(--theme-background, var(--jp-layout-color0, white)));\n",
       "  --sklearn-color-border-box: var(--sg-text-color, var(--theme-code-foreground, var(--jp-content-font-color1, black)));\n",
       "  --sklearn-color-icon: #696969;\n",
       "\n",
       "  @media (prefers-color-scheme: dark) {\n",
       "    /* Redefinition of color scheme for dark theme */\n",
       "    --sklearn-color-text-on-default-background: var(--sg-text-color, var(--theme-code-foreground, var(--jp-content-font-color1, white)));\n",
       "    --sklearn-color-background: var(--sg-background-color, var(--theme-background, var(--jp-layout-color0, #111)));\n",
       "    --sklearn-color-border-box: var(--sg-text-color, var(--theme-code-foreground, var(--jp-content-font-color1, white)));\n",
       "    --sklearn-color-icon: #878787;\n",
       "  }\n",
       "}\n",
       "\n",
       "#sk-container-id-2 {\n",
       "  color: var(--sklearn-color-text);\n",
       "}\n",
       "\n",
       "#sk-container-id-2 pre {\n",
       "  padding: 0;\n",
       "}\n",
       "\n",
       "#sk-container-id-2 input.sk-hidden--visually {\n",
       "  border: 0;\n",
       "  clip: rect(1px 1px 1px 1px);\n",
       "  clip: rect(1px, 1px, 1px, 1px);\n",
       "  height: 1px;\n",
       "  margin: -1px;\n",
       "  overflow: hidden;\n",
       "  padding: 0;\n",
       "  position: absolute;\n",
       "  width: 1px;\n",
       "}\n",
       "\n",
       "#sk-container-id-2 div.sk-dashed-wrapped {\n",
       "  border: 1px dashed var(--sklearn-color-line);\n",
       "  margin: 0 0.4em 0.5em 0.4em;\n",
       "  box-sizing: border-box;\n",
       "  padding-bottom: 0.4em;\n",
       "  background-color: var(--sklearn-color-background);\n",
       "}\n",
       "\n",
       "#sk-container-id-2 div.sk-container {\n",
       "  /* jupyter's `normalize.less` sets `[hidden] { display: none; }`\n",
       "     but bootstrap.min.css set `[hidden] { display: none !important; }`\n",
       "     so we also need the `!important` here to be able to override the\n",
       "     default hidden behavior on the sphinx rendered scikit-learn.org.\n",
       "     See: https://github.com/scikit-learn/scikit-learn/issues/21755 */\n",
       "  display: inline-block !important;\n",
       "  position: relative;\n",
       "}\n",
       "\n",
       "#sk-container-id-2 div.sk-text-repr-fallback {\n",
       "  display: none;\n",
       "}\n",
       "\n",
       "div.sk-parallel-item,\n",
       "div.sk-serial,\n",
       "div.sk-item {\n",
       "  /* draw centered vertical line to link estimators */\n",
       "  background-image: linear-gradient(var(--sklearn-color-text-on-default-background), var(--sklearn-color-text-on-default-background));\n",
       "  background-size: 2px 100%;\n",
       "  background-repeat: no-repeat;\n",
       "  background-position: center center;\n",
       "}\n",
       "\n",
       "/* Parallel-specific style estimator block */\n",
       "\n",
       "#sk-container-id-2 div.sk-parallel-item::after {\n",
       "  content: \"\";\n",
       "  width: 100%;\n",
       "  border-bottom: 2px solid var(--sklearn-color-text-on-default-background);\n",
       "  flex-grow: 1;\n",
       "}\n",
       "\n",
       "#sk-container-id-2 div.sk-parallel {\n",
       "  display: flex;\n",
       "  align-items: stretch;\n",
       "  justify-content: center;\n",
       "  background-color: var(--sklearn-color-background);\n",
       "  position: relative;\n",
       "}\n",
       "\n",
       "#sk-container-id-2 div.sk-parallel-item {\n",
       "  display: flex;\n",
       "  flex-direction: column;\n",
       "}\n",
       "\n",
       "#sk-container-id-2 div.sk-parallel-item:first-child::after {\n",
       "  align-self: flex-end;\n",
       "  width: 50%;\n",
       "}\n",
       "\n",
       "#sk-container-id-2 div.sk-parallel-item:last-child::after {\n",
       "  align-self: flex-start;\n",
       "  width: 50%;\n",
       "}\n",
       "\n",
       "#sk-container-id-2 div.sk-parallel-item:only-child::after {\n",
       "  width: 0;\n",
       "}\n",
       "\n",
       "/* Serial-specific style estimator block */\n",
       "\n",
       "#sk-container-id-2 div.sk-serial {\n",
       "  display: flex;\n",
       "  flex-direction: column;\n",
       "  align-items: center;\n",
       "  background-color: var(--sklearn-color-background);\n",
       "  padding-right: 1em;\n",
       "  padding-left: 1em;\n",
       "}\n",
       "\n",
       "\n",
       "/* Toggleable style: style used for estimator/Pipeline/ColumnTransformer box that is\n",
       "clickable and can be expanded/collapsed.\n",
       "- Pipeline and ColumnTransformer use this feature and define the default style\n",
       "- Estimators will overwrite some part of the style using the `sk-estimator` class\n",
       "*/\n",
       "\n",
       "/* Pipeline and ColumnTransformer style (default) */\n",
       "\n",
       "#sk-container-id-2 div.sk-toggleable {\n",
       "  /* Default theme specific background. It is overwritten whether we have a\n",
       "  specific estimator or a Pipeline/ColumnTransformer */\n",
       "  background-color: var(--sklearn-color-background);\n",
       "}\n",
       "\n",
       "/* Toggleable label */\n",
       "#sk-container-id-2 label.sk-toggleable__label {\n",
       "  cursor: pointer;\n",
       "  display: flex;\n",
       "  width: 100%;\n",
       "  margin-bottom: 0;\n",
       "  padding: 0.5em;\n",
       "  box-sizing: border-box;\n",
       "  text-align: center;\n",
       "  align-items: start;\n",
       "  justify-content: space-between;\n",
       "  gap: 0.5em;\n",
       "}\n",
       "\n",
       "#sk-container-id-2 label.sk-toggleable__label .caption {\n",
       "  font-size: 0.6rem;\n",
       "  font-weight: lighter;\n",
       "  color: var(--sklearn-color-text-muted);\n",
       "}\n",
       "\n",
       "#sk-container-id-2 label.sk-toggleable__label-arrow:before {\n",
       "  /* Arrow on the left of the label */\n",
       "  content: \"▸\";\n",
       "  float: left;\n",
       "  margin-right: 0.25em;\n",
       "  color: var(--sklearn-color-icon);\n",
       "}\n",
       "\n",
       "#sk-container-id-2 label.sk-toggleable__label-arrow:hover:before {\n",
       "  color: var(--sklearn-color-text);\n",
       "}\n",
       "\n",
       "/* Toggleable content - dropdown */\n",
       "\n",
       "#sk-container-id-2 div.sk-toggleable__content {\n",
       "  max-height: 0;\n",
       "  max-width: 0;\n",
       "  overflow: hidden;\n",
       "  text-align: left;\n",
       "  /* unfitted */\n",
       "  background-color: var(--sklearn-color-unfitted-level-0);\n",
       "}\n",
       "\n",
       "#sk-container-id-2 div.sk-toggleable__content.fitted {\n",
       "  /* fitted */\n",
       "  background-color: var(--sklearn-color-fitted-level-0);\n",
       "}\n",
       "\n",
       "#sk-container-id-2 div.sk-toggleable__content pre {\n",
       "  margin: 0.2em;\n",
       "  border-radius: 0.25em;\n",
       "  color: var(--sklearn-color-text);\n",
       "  /* unfitted */\n",
       "  background-color: var(--sklearn-color-unfitted-level-0);\n",
       "}\n",
       "\n",
       "#sk-container-id-2 div.sk-toggleable__content.fitted pre {\n",
       "  /* unfitted */\n",
       "  background-color: var(--sklearn-color-fitted-level-0);\n",
       "}\n",
       "\n",
       "#sk-container-id-2 input.sk-toggleable__control:checked~div.sk-toggleable__content {\n",
       "  /* Expand drop-down */\n",
       "  max-height: 200px;\n",
       "  max-width: 100%;\n",
       "  overflow: auto;\n",
       "}\n",
       "\n",
       "#sk-container-id-2 input.sk-toggleable__control:checked~label.sk-toggleable__label-arrow:before {\n",
       "  content: \"▾\";\n",
       "}\n",
       "\n",
       "/* Pipeline/ColumnTransformer-specific style */\n",
       "\n",
       "#sk-container-id-2 div.sk-label input.sk-toggleable__control:checked~label.sk-toggleable__label {\n",
       "  color: var(--sklearn-color-text);\n",
       "  background-color: var(--sklearn-color-unfitted-level-2);\n",
       "}\n",
       "\n",
       "#sk-container-id-2 div.sk-label.fitted input.sk-toggleable__control:checked~label.sk-toggleable__label {\n",
       "  background-color: var(--sklearn-color-fitted-level-2);\n",
       "}\n",
       "\n",
       "/* Estimator-specific style */\n",
       "\n",
       "/* Colorize estimator box */\n",
       "#sk-container-id-2 div.sk-estimator input.sk-toggleable__control:checked~label.sk-toggleable__label {\n",
       "  /* unfitted */\n",
       "  background-color: var(--sklearn-color-unfitted-level-2);\n",
       "}\n",
       "\n",
       "#sk-container-id-2 div.sk-estimator.fitted input.sk-toggleable__control:checked~label.sk-toggleable__label {\n",
       "  /* fitted */\n",
       "  background-color: var(--sklearn-color-fitted-level-2);\n",
       "}\n",
       "\n",
       "#sk-container-id-2 div.sk-label label.sk-toggleable__label,\n",
       "#sk-container-id-2 div.sk-label label {\n",
       "  /* The background is the default theme color */\n",
       "  color: var(--sklearn-color-text-on-default-background);\n",
       "}\n",
       "\n",
       "/* On hover, darken the color of the background */\n",
       "#sk-container-id-2 div.sk-label:hover label.sk-toggleable__label {\n",
       "  color: var(--sklearn-color-text);\n",
       "  background-color: var(--sklearn-color-unfitted-level-2);\n",
       "}\n",
       "\n",
       "/* Label box, darken color on hover, fitted */\n",
       "#sk-container-id-2 div.sk-label.fitted:hover label.sk-toggleable__label.fitted {\n",
       "  color: var(--sklearn-color-text);\n",
       "  background-color: var(--sklearn-color-fitted-level-2);\n",
       "}\n",
       "\n",
       "/* Estimator label */\n",
       "\n",
       "#sk-container-id-2 div.sk-label label {\n",
       "  font-family: monospace;\n",
       "  font-weight: bold;\n",
       "  display: inline-block;\n",
       "  line-height: 1.2em;\n",
       "}\n",
       "\n",
       "#sk-container-id-2 div.sk-label-container {\n",
       "  text-align: center;\n",
       "}\n",
       "\n",
       "/* Estimator-specific */\n",
       "#sk-container-id-2 div.sk-estimator {\n",
       "  font-family: monospace;\n",
       "  border: 1px dotted var(--sklearn-color-border-box);\n",
       "  border-radius: 0.25em;\n",
       "  box-sizing: border-box;\n",
       "  margin-bottom: 0.5em;\n",
       "  /* unfitted */\n",
       "  background-color: var(--sklearn-color-unfitted-level-0);\n",
       "}\n",
       "\n",
       "#sk-container-id-2 div.sk-estimator.fitted {\n",
       "  /* fitted */\n",
       "  background-color: var(--sklearn-color-fitted-level-0);\n",
       "}\n",
       "\n",
       "/* on hover */\n",
       "#sk-container-id-2 div.sk-estimator:hover {\n",
       "  /* unfitted */\n",
       "  background-color: var(--sklearn-color-unfitted-level-2);\n",
       "}\n",
       "\n",
       "#sk-container-id-2 div.sk-estimator.fitted:hover {\n",
       "  /* fitted */\n",
       "  background-color: var(--sklearn-color-fitted-level-2);\n",
       "}\n",
       "\n",
       "/* Specification for estimator info (e.g. \"i\" and \"?\") */\n",
       "\n",
       "/* Common style for \"i\" and \"?\" */\n",
       "\n",
       ".sk-estimator-doc-link,\n",
       "a:link.sk-estimator-doc-link,\n",
       "a:visited.sk-estimator-doc-link {\n",
       "  float: right;\n",
       "  font-size: smaller;\n",
       "  line-height: 1em;\n",
       "  font-family: monospace;\n",
       "  background-color: var(--sklearn-color-background);\n",
       "  border-radius: 1em;\n",
       "  height: 1em;\n",
       "  width: 1em;\n",
       "  text-decoration: none !important;\n",
       "  margin-left: 0.5em;\n",
       "  text-align: center;\n",
       "  /* unfitted */\n",
       "  border: var(--sklearn-color-unfitted-level-1) 1pt solid;\n",
       "  color: var(--sklearn-color-unfitted-level-1);\n",
       "}\n",
       "\n",
       ".sk-estimator-doc-link.fitted,\n",
       "a:link.sk-estimator-doc-link.fitted,\n",
       "a:visited.sk-estimator-doc-link.fitted {\n",
       "  /* fitted */\n",
       "  border: var(--sklearn-color-fitted-level-1) 1pt solid;\n",
       "  color: var(--sklearn-color-fitted-level-1);\n",
       "}\n",
       "\n",
       "/* On hover */\n",
       "div.sk-estimator:hover .sk-estimator-doc-link:hover,\n",
       ".sk-estimator-doc-link:hover,\n",
       "div.sk-label-container:hover .sk-estimator-doc-link:hover,\n",
       ".sk-estimator-doc-link:hover {\n",
       "  /* unfitted */\n",
       "  background-color: var(--sklearn-color-unfitted-level-3);\n",
       "  color: var(--sklearn-color-background);\n",
       "  text-decoration: none;\n",
       "}\n",
       "\n",
       "div.sk-estimator.fitted:hover .sk-estimator-doc-link.fitted:hover,\n",
       ".sk-estimator-doc-link.fitted:hover,\n",
       "div.sk-label-container:hover .sk-estimator-doc-link.fitted:hover,\n",
       ".sk-estimator-doc-link.fitted:hover {\n",
       "  /* fitted */\n",
       "  background-color: var(--sklearn-color-fitted-level-3);\n",
       "  color: var(--sklearn-color-background);\n",
       "  text-decoration: none;\n",
       "}\n",
       "\n",
       "/* Span, style for the box shown on hovering the info icon */\n",
       ".sk-estimator-doc-link span {\n",
       "  display: none;\n",
       "  z-index: 9999;\n",
       "  position: relative;\n",
       "  font-weight: normal;\n",
       "  right: .2ex;\n",
       "  padding: .5ex;\n",
       "  margin: .5ex;\n",
       "  width: min-content;\n",
       "  min-width: 20ex;\n",
       "  max-width: 50ex;\n",
       "  color: var(--sklearn-color-text);\n",
       "  box-shadow: 2pt 2pt 4pt #999;\n",
       "  /* unfitted */\n",
       "  background: var(--sklearn-color-unfitted-level-0);\n",
       "  border: .5pt solid var(--sklearn-color-unfitted-level-3);\n",
       "}\n",
       "\n",
       ".sk-estimator-doc-link.fitted span {\n",
       "  /* fitted */\n",
       "  background: var(--sklearn-color-fitted-level-0);\n",
       "  border: var(--sklearn-color-fitted-level-3);\n",
       "}\n",
       "\n",
       ".sk-estimator-doc-link:hover span {\n",
       "  display: block;\n",
       "}\n",
       "\n",
       "/* \"?\"-specific style due to the `<a>` HTML tag */\n",
       "\n",
       "#sk-container-id-2 a.estimator_doc_link {\n",
       "  float: right;\n",
       "  font-size: 1rem;\n",
       "  line-height: 1em;\n",
       "  font-family: monospace;\n",
       "  background-color: var(--sklearn-color-background);\n",
       "  border-radius: 1rem;\n",
       "  height: 1rem;\n",
       "  width: 1rem;\n",
       "  text-decoration: none;\n",
       "  /* unfitted */\n",
       "  color: var(--sklearn-color-unfitted-level-1);\n",
       "  border: var(--sklearn-color-unfitted-level-1) 1pt solid;\n",
       "}\n",
       "\n",
       "#sk-container-id-2 a.estimator_doc_link.fitted {\n",
       "  /* fitted */\n",
       "  border: var(--sklearn-color-fitted-level-1) 1pt solid;\n",
       "  color: var(--sklearn-color-fitted-level-1);\n",
       "}\n",
       "\n",
       "/* On hover */\n",
       "#sk-container-id-2 a.estimator_doc_link:hover {\n",
       "  /* unfitted */\n",
       "  background-color: var(--sklearn-color-unfitted-level-3);\n",
       "  color: var(--sklearn-color-background);\n",
       "  text-decoration: none;\n",
       "}\n",
       "\n",
       "#sk-container-id-2 a.estimator_doc_link.fitted:hover {\n",
       "  /* fitted */\n",
       "  background-color: var(--sklearn-color-fitted-level-3);\n",
       "}\n",
       "</style><div id=\"sk-container-id-2\" class=\"sk-top-container\"><div class=\"sk-text-repr-fallback\"><pre>LinearRegression()</pre><b>In a Jupyter environment, please rerun this cell to show the HTML representation or trust the notebook. <br />On GitHub, the HTML representation is unable to render, please try loading this page with nbviewer.org.</b></div><div class=\"sk-container\" hidden><div class=\"sk-item\"><div class=\"sk-estimator fitted sk-toggleable\"><input class=\"sk-toggleable__control sk-hidden--visually\" id=\"sk-estimator-id-2\" type=\"checkbox\" checked><label for=\"sk-estimator-id-2\" class=\"sk-toggleable__label fitted sk-toggleable__label-arrow\"><div><div>LinearRegression</div></div><div><a class=\"sk-estimator-doc-link fitted\" rel=\"noreferrer\" target=\"_blank\" href=\"https://scikit-learn.org/1.6/modules/generated/sklearn.linear_model.LinearRegression.html\">?<span>Documentation for LinearRegression</span></a><span class=\"sk-estimator-doc-link fitted\">i<span>Fitted</span></span></div></label><div class=\"sk-toggleable__content fitted\"><pre>LinearRegression()</pre></div> </div></div></div></div>"
      ],
      "text/plain": [
       "LinearRegression()"
      ]
     },
     "execution_count": 45,
     "metadata": {},
     "output_type": "execute_result"
    }
   ],
   "source": [
    "# Step 3: Build and train Linear Regression model\n",
    "model3 = LinearRegression()\n",
    "model3.fit(X1_train, y1_train)\n"
   ]
  },
  {
   "cell_type": "code",
   "execution_count": 46,
   "id": "e6339f17",
   "metadata": {},
   "outputs": [],
   "source": [
    "# Step 4: Predicting  on test set\n",
    "y3_pred=model3.predict(X1_test)"
   ]
  },
  {
   "cell_type": "code",
   "execution_count": 47,
   "id": "5674fd35",
   "metadata": {},
   "outputs": [
    {
     "name": "stdout",
     "output_type": "stream",
     "text": [
      "Model Evaluation Metrics:\n",
      "Mean Squared Error (MSE): 0.0185\n",
      "R-squared (R²): 0.7737\n"
     ]
    }
   ],
   "source": [
    "# Step 5: Evaluate model performance\n",
    "mse = mean_squared_error(y1_test, y3_pred)\n",
    "r2 = r2_score(y1_test, y3_pred)\n",
    "\n",
    "print(\"Model Evaluation Metrics:\")\n",
    "print(f\"Mean Squared Error (MSE): {mse:.4f}\")\n",
    "print(f\"R-squared (R²): {r2:.4f}\")\n"
   ]
  },
  {
   "cell_type": "code",
   "execution_count": 48,
   "id": "f89e5191",
   "metadata": {},
   "outputs": [
    {
     "data": {
      "image/png": "[encoded data removed]",
      "text/plain": [
       "<Figure size 700x500 with 1 Axes>"
      ]
     },
     "metadata": {},
     "output_type": "display_data"
    }
   ],
   "source": [
    "# Step 6: Visualize Actual vs Predicted Performance Scores\n",
    "plt.figure(figsize=(7,5))\n",
    "plt.scatter(y1_test, y3_pred, color='Orange', alpha=0.6)\n",
    "plt.plot([y1_test.min(), y1_test.max()], [y1_test.min(), y1_test.max()],color='red', linewidth=2)\n",
    "plt.title(\"Actual vs Predicted Performance Scores\")\n",
    "plt.xlabel(\"Actual Performance Score\")\n",
    "plt.ylabel(\"Predicted Performance Score\")\n",
    "plt.grid(True)\n",
    "plt.show()\n"
   ]
  },
  {
   "cell_type": "code",
   "execution_count": 49,
   "id": "5577b0c4",
   "metadata": {},
   "outputs": [
    {
     "name": "stdout",
     "output_type": "stream",
     "text": [
      "\n",
      "Model Coefficients:\n",
      "                Coefficient\n",
      "Age               -0.003606\n",
      "Salary             0.814429\n",
      "YearsAtCompany     0.011280\n"
     ]
    }
   ],
   "source": [
    "# Step 7: View model coefficients\n",
    "coeff_df = pd.DataFrame(model3.coef_, X1.columns, columns=['Coefficient'])\n",
    "print(\"\\nModel Coefficients:\")\n",
    "print(coeff_df)"
   ]
  },
  {
   "cell_type": "markdown",
   "id": "b21bbe3b",
   "metadata": {},
   "source": [
    "Phase  3(deep learning)"
   ]
  },
  {
   "cell_type": "code",
   "execution_count": 50,
   "id": "ec87ebd8",
   "metadata": {},
   "outputs": [
    {
     "data": {
      "application/vnd.microsoft.datawrangler.viewer.v0+json": {
       "columns": [
        {
         "name": "index",
         "rawType": "int64",
         "type": "integer"
        },
        {
         "name": "EmployeeID",
         "rawType": "int64",
         "type": "integer"
        },
        {
         "name": "Name",
         "rawType": "object",
         "type": "string"
        },
        {
         "name": "Age",
         "rawType": "int64",
         "type": "integer"
        },
        {
         "name": "Department",
         "rawType": "int64",
         "type": "integer"
        },
        {
         "name": "Salary",
         "rawType": "float64",
         "type": "float"
        },
        {
         "name": "YearsAtCompany",
         "rawType": "int64",
         "type": "integer"
        },
        {
         "name": "PerformanceScore",
         "rawType": "float64",
         "type": "float"
        },
        {
         "name": "Attrition",
         "rawType": "int64",
         "type": "integer"
        },
        {
         "name": "PerformanceCategory",
         "rawType": "int64",
         "type": "integer"
        }
       ],
       "ref": "b13c5d91-0efd-40a7-be93-442eb6d82add",
       "rows": [
        [
         "0",
         "1",
         "John Doe",
         "29",
         "3",
         "0.23076923076923073",
         "3",
         "0.3999999999999999",
         "0",
         "1"
        ],
        [
         "1",
         "2",
         "Jane Smith",
         "35",
         "1",
         "0.326923076923077",
         "7",
         "0.5999999999999996",
         "0",
         "2"
        ],
        [
         "2",
         "3",
         "Michael Brown",
         "40",
         "0",
         "0.7115384615384616",
         "10",
         "1.0",
         "1",
         "3"
        ],
        [
         "3",
         "4",
         "Emily Davis",
         "28",
         "2",
         "0.423076923076923",
         "5",
         "0.31999999999999984",
         "0",
         "1"
        ],
        [
         "4",
         "5",
         "David Johnson",
         "50",
         "3",
         "0.6153846153846153",
         "20",
         "0.7199999999999998",
         "1",
         "0"
        ]
       ],
       "shape": {
        "columns": 9,
        "rows": 5
       }
      },
      "text/html": [
       "<div>\n",
       "<style scoped>\n",
       "    .dataframe tbody tr th:only-of-type {\n",
       "        vertical-align: middle;\n",
       "    }\n",
       "\n",
       "    .dataframe tbody tr th {\n",
       "        vertical-align: top;\n",
       "    }\n",
       "\n",
       "    .dataframe thead th {\n",
       "        text-align: right;\n",
       "    }\n",
       "</style>\n",
       "<table border=\"1\" class=\"dataframe\">\n",
       "  <thead>\n",
       "    <tr style=\"text-align: right;\">\n",
       "      <th></th>\n",
       "      <th>EmployeeID</th>\n",
       "      <th>Name</th>\n",
       "      <th>Age</th>\n",
       "      <th>Department</th>\n",
       "      <th>Salary</th>\n",
       "      <th>YearsAtCompany</th>\n",
       "      <th>PerformanceScore</th>\n",
       "      <th>Attrition</th>\n",
       "      <th>PerformanceCategory</th>\n",
       "    </tr>\n",
       "  </thead>\n",
       "  <tbody>\n",
       "    <tr>\n",
       "      <th>0</th>\n",
       "      <td>1</td>\n",
       "      <td>John Doe</td>\n",
       "      <td>29</td>\n",
       "      <td>3</td>\n",
       "      <td>0.230769</td>\n",
       "      <td>3</td>\n",
       "      <td>0.40</td>\n",
       "      <td>0</td>\n",
       "      <td>1</td>\n",
       "    </tr>\n",
       "    <tr>\n",
       "      <th>1</th>\n",
       "      <td>2</td>\n",
       "      <td>Jane Smith</td>\n",
       "      <td>35</td>\n",
       "      <td>1</td>\n",
       "      <td>0.326923</td>\n",
       "      <td>7</td>\n",
       "      <td>0.60</td>\n",
       "      <td>0</td>\n",
       "      <td>2</td>\n",
       "    </tr>\n",
       "    <tr>\n",
       "      <th>2</th>\n",
       "      <td>3</td>\n",
       "      <td>Michael Brown</td>\n",
       "      <td>40</td>\n",
       "      <td>0</td>\n",
       "      <td>0.711538</td>\n",
       "      <td>10</td>\n",
       "      <td>1.00</td>\n",
       "      <td>1</td>\n",
       "      <td>3</td>\n",
       "    </tr>\n",
       "    <tr>\n",
       "      <th>3</th>\n",
       "      <td>4</td>\n",
       "      <td>Emily Davis</td>\n",
       "      <td>28</td>\n",
       "      <td>2</td>\n",
       "      <td>0.423077</td>\n",
       "      <td>5</td>\n",
       "      <td>0.32</td>\n",
       "      <td>0</td>\n",
       "      <td>1</td>\n",
       "    </tr>\n",
       "    <tr>\n",
       "      <th>4</th>\n",
       "      <td>5</td>\n",
       "      <td>David Johnson</td>\n",
       "      <td>50</td>\n",
       "      <td>3</td>\n",
       "      <td>0.615385</td>\n",
       "      <td>20</td>\n",
       "      <td>0.72</td>\n",
       "      <td>1</td>\n",
       "      <td>0</td>\n",
       "    </tr>\n",
       "  </tbody>\n",
       "</table>\n",
       "</div>"
      ],
      "text/plain": [
       "   EmployeeID           Name  Age  Department    Salary  YearsAtCompany  \\\n",
       "0           1       John Doe   29           3  0.230769               3   \n",
       "1           2     Jane Smith   35           1  0.326923               7   \n",
       "2           3  Michael Brown   40           0  0.711538              10   \n",
       "3           4    Emily Davis   28           2  0.423077               5   \n",
       "4           5  David Johnson   50           3  0.615385              20   \n",
       "\n",
       "   PerformanceScore  Attrition  PerformanceCategory  \n",
       "0              0.40          0                    1  \n",
       "1              0.60          0                    2  \n",
       "2              1.00          1                    3  \n",
       "3              0.32          0                    1  \n",
       "4              0.72          1                    0  "
      ]
     },
     "execution_count": 50,
     "metadata": {},
     "output_type": "execute_result"
    }
   ],
   "source": [
    "data.head()"
   ]
  },
  {
   "cell_type": "code",
   "execution_count": 51,
   "id": "63fcc150",
   "metadata": {},
   "outputs": [],
   "source": [
    "# Importing the libraries.\n",
    "from tensorflow.keras.models import Sequential\n",
    "from tensorflow.keras.layers import Dense\n",
    "from tensorflow.keras.optimizers import Adam"
   ]
  },
  {
   "cell_type": "code",
   "execution_count": 52,
   "id": "ec8ac234",
   "metadata": {},
   "outputs": [],
   "source": [
    "# Select input and output features\n",
    "X = data[['Age', 'Salary', 'YearsAtCompany', 'Department']]  # independent variables\n",
    "y = data['PerformanceScore']  # dependent variable\n",
    "\n",
    "# Split data into training and testing sets\n",
    "X_train, X_test, y_train, y_test = train_test_split(\n",
    "    X, y, test_size=0.2, random_state=42\n",
    ")\n"
   ]
  },
  {
   "cell_type": "code",
   "execution_count": 53,
   "id": "d1579030",
   "metadata": {},
   "outputs": [
    {
     "name": "stdout",
     "output_type": "stream",
     "text": [
      "Epoch 1/100\n"
     ]
    },
    {
     "name": "stderr",
     "output_type": "stream",
     "text": [
      "C:\\Users\\sacbook\\AppData\\Local\\Packages\\PythonSoftwareFoundation.Python.3.11_qbz5n2kfra8p0\\LocalCache\\local-packages\\Python311\\site-packages\\keras\\src\\layers\\core\\dense.py:92: UserWarning: Do not pass an `input_shape`/`input_dim` argument to a layer. When using Sequential models, prefer using an `Input(shape)` object as the first layer in the model instead.\n",
      "  super().__init__(activity_regularizer=activity_regularizer, **kwargs)\n"
     ]
    },
    {
     "name": "stdout",
     "output_type": "stream",
     "text": [
      "\u001b[1m8/8\u001b[0m \u001b[32m━━━━━━━━━━━━━━━━━━━━\u001b[0m\u001b[37m\u001b[0m \u001b[1m1s\u001b[0m 25ms/step - loss: 11.0064 - val_loss: 0.0921\n",
      "Epoch 2/100\n",
      "\u001b[1m8/8\u001b[0m \u001b[32m━━━━━━━━━━━━━━━━━━━━\u001b[0m\u001b[37m\u001b[0m \u001b[1m0s\u001b[0m 12ms/step - loss: 0.1768 - val_loss: 0.1370\n",
      "Epoch 3/100\n",
      "\u001b[1m8/8\u001b[0m \u001b[32m━━━━━━━━━━━━━━━━━━━━\u001b[0m\u001b[37m\u001b[0m \u001b[1m0s\u001b[0m 11ms/step - loss: 0.1515 - val_loss: 0.1380\n",
      "Epoch 4/100\n",
      "\u001b[1m8/8\u001b[0m \u001b[32m━━━━━━━━━━━━━━━━━━━━\u001b[0m\u001b[37m\u001b[0m \u001b[1m0s\u001b[0m 12ms/step - loss: 0.1027 - val_loss: 0.1035\n",
      "Epoch 5/100\n",
      "\u001b[1m8/8\u001b[0m \u001b[32m━━━━━━━━━━━━━━━━━━━━\u001b[0m\u001b[37m\u001b[0m \u001b[1m0s\u001b[0m 10ms/step - loss: 0.0869 - val_loss: 0.0871\n",
      "Epoch 6/100\n",
      "\u001b[1m8/8\u001b[0m \u001b[32m━━━━━━━━━━━━━━━━━━━━\u001b[0m\u001b[37m\u001b[0m \u001b[1m0s\u001b[0m 14ms/step - loss: 0.0634 - val_loss: 0.0555\n",
      "Epoch 7/100\n",
      "\u001b[1m8/8\u001b[0m \u001b[32m━━━━━━━━━━━━━━━━━━━━\u001b[0m\u001b[37m\u001b[0m \u001b[1m0s\u001b[0m 10ms/step - loss: 0.0524 - val_loss: 0.0296\n",
      "Epoch 8/100\n",
      "\u001b[1m8/8\u001b[0m \u001b[32m━━━━━━━━━━━━━━━━━━━━\u001b[0m\u001b[37m\u001b[0m \u001b[1m0s\u001b[0m 14ms/step - loss: 0.0514 - val_loss: 0.0307\n",
      "Epoch 9/100\n",
      "\u001b[1m8/8\u001b[0m \u001b[32m━━━━━━━━━━━━━━━━━━━━\u001b[0m\u001b[37m\u001b[0m \u001b[1m0s\u001b[0m 11ms/step - loss: 0.0522 - val_loss: 0.0328\n",
      "Epoch 10/100\n",
      "\u001b[1m8/8\u001b[0m \u001b[32m━━━━━━━━━━━━━━━━━━━━\u001b[0m\u001b[37m\u001b[0m \u001b[1m0s\u001b[0m 12ms/step - loss: 0.0419 - val_loss: 0.0365\n",
      "Epoch 11/100\n",
      "\u001b[1m8/8\u001b[0m \u001b[32m━━━━━━━━━━━━━━━━━━━━\u001b[0m\u001b[37m\u001b[0m \u001b[1m0s\u001b[0m 11ms/step - loss: 0.0435 - val_loss: 0.0305\n",
      "Epoch 12/100\n",
      "\u001b[1m8/8\u001b[0m \u001b[32m━━━━━━━━━━━━━━━━━━━━\u001b[0m\u001b[37m\u001b[0m \u001b[1m0s\u001b[0m 14ms/step - loss: 0.0415 - val_loss: 0.0286\n",
      "Epoch 13/100\n",
      "\u001b[1m8/8\u001b[0m \u001b[32m━━━━━━━━━━━━━━━━━━━━\u001b[0m\u001b[37m\u001b[0m \u001b[1m0s\u001b[0m 11ms/step - loss: 0.0409 - val_loss: 0.0240\n",
      "Epoch 14/100\n",
      "\u001b[1m8/8\u001b[0m \u001b[32m━━━━━━━━━━━━━━━━━━━━\u001b[0m\u001b[37m\u001b[0m \u001b[1m0s\u001b[0m 11ms/step - loss: 0.0414 - val_loss: 0.0300\n",
      "Epoch 15/100\n",
      "\u001b[1m8/8\u001b[0m \u001b[32m━━━━━━━━━━━━━━━━━━━━\u001b[0m\u001b[37m\u001b[0m \u001b[1m0s\u001b[0m 11ms/step - loss: 0.0396 - val_loss: 0.0274\n",
      "Epoch 16/100\n",
      "\u001b[1m8/8\u001b[0m \u001b[32m━━━━━━━━━━━━━━━━━━━━\u001b[0m\u001b[37m\u001b[0m \u001b[1m0s\u001b[0m 14ms/step - loss: 0.0387 - val_loss: 0.0248\n",
      "Epoch 17/100\n",
      "\u001b[1m8/8\u001b[0m \u001b[32m━━━━━━━━━━━━━━━━━━━━\u001b[0m\u001b[37m\u001b[0m \u001b[1m0s\u001b[0m 10ms/step - loss: 0.0386 - val_loss: 0.0261\n",
      "Epoch 18/100\n",
      "\u001b[1m8/8\u001b[0m \u001b[32m━━━━━━━━━━━━━━━━━━━━\u001b[0m\u001b[37m\u001b[0m \u001b[1m0s\u001b[0m 11ms/step - loss: 0.0377 - val_loss: 0.0274\n",
      "Epoch 19/100\n",
      "\u001b[1m8/8\u001b[0m \u001b[32m━━━━━━━━━━━━━━━━━━━━\u001b[0m\u001b[37m\u001b[0m \u001b[1m0s\u001b[0m 13ms/step - loss: 0.0388 - val_loss: 0.0302\n",
      "Epoch 20/100\n",
      "\u001b[1m8/8\u001b[0m \u001b[32m━━━━━━━━━━━━━━━━━━━━\u001b[0m\u001b[37m\u001b[0m \u001b[1m0s\u001b[0m 10ms/step - loss: 0.0366 - val_loss: 0.0250\n",
      "Epoch 21/100\n",
      "\u001b[1m8/8\u001b[0m \u001b[32m━━━━━━━━━━━━━━━━━━━━\u001b[0m\u001b[37m\u001b[0m \u001b[1m0s\u001b[0m 12ms/step - loss: 0.0382 - val_loss: 0.0246\n",
      "Epoch 22/100\n",
      "\u001b[1m8/8\u001b[0m \u001b[32m━━━━━━━━━━━━━━━━━━━━\u001b[0m\u001b[37m\u001b[0m \u001b[1m0s\u001b[0m 11ms/step - loss: 0.0386 - val_loss: 0.0259\n",
      "Epoch 23/100\n",
      "\u001b[1m8/8\u001b[0m \u001b[32m━━━━━━━━━━━━━━━━━━━━\u001b[0m\u001b[37m\u001b[0m \u001b[1m0s\u001b[0m 14ms/step - loss: 0.0371 - val_loss: 0.0269\n",
      "Epoch 24/100\n",
      "\u001b[1m8/8\u001b[0m \u001b[32m━━━━━━━━━━━━━━━━━━━━\u001b[0m\u001b[37m\u001b[0m \u001b[1m0s\u001b[0m 11ms/step - loss: 0.0355 - val_loss: 0.0257\n",
      "Epoch 25/100\n",
      "\u001b[1m8/8\u001b[0m \u001b[32m━━━━━━━━━━━━━━━━━━━━\u001b[0m\u001b[37m\u001b[0m \u001b[1m0s\u001b[0m 12ms/step - loss: 0.0365 - val_loss: 0.0329\n",
      "Epoch 26/100\n",
      "\u001b[1m8/8\u001b[0m \u001b[32m━━━━━━━━━━━━━━━━━━━━\u001b[0m\u001b[37m\u001b[0m \u001b[1m0s\u001b[0m 14ms/step - loss: 0.0351 - val_loss: 0.0264\n",
      "Epoch 27/100\n",
      "\u001b[1m8/8\u001b[0m \u001b[32m━━━━━━━━━━━━━━━━━━━━\u001b[0m\u001b[37m\u001b[0m \u001b[1m0s\u001b[0m 8ms/step - loss: 0.0352 - val_loss: 0.0233\n",
      "Epoch 28/100\n",
      "\u001b[1m8/8\u001b[0m \u001b[32m━━━━━━━━━━━━━━━━━━━━\u001b[0m\u001b[37m\u001b[0m \u001b[1m0s\u001b[0m 9ms/step - loss: 0.0365 - val_loss: 0.0299\n",
      "Epoch 29/100\n",
      "\u001b[1m8/8\u001b[0m \u001b[32m━━━━━━━━━━━━━━━━━━━━\u001b[0m\u001b[37m\u001b[0m \u001b[1m0s\u001b[0m 12ms/step - loss: 0.0349 - val_loss: 0.0236\n",
      "Epoch 30/100\n",
      "\u001b[1m8/8\u001b[0m \u001b[32m━━━━━━━━━━━━━━━━━━━━\u001b[0m\u001b[37m\u001b[0m \u001b[1m0s\u001b[0m 9ms/step - loss: 0.0364 - val_loss: 0.0243\n",
      "Epoch 31/100\n",
      "\u001b[1m8/8\u001b[0m \u001b[32m━━━━━━━━━━━━━━━━━━━━\u001b[0m\u001b[37m\u001b[0m \u001b[1m0s\u001b[0m 9ms/step - loss: 0.0352 - val_loss: 0.0274\n",
      "Epoch 32/100\n",
      "\u001b[1m8/8\u001b[0m \u001b[32m━━━━━━━━━━━━━━━━━━━━\u001b[0m\u001b[37m\u001b[0m \u001b[1m0s\u001b[0m 10ms/step - loss: 0.0346 - val_loss: 0.0254\n",
      "Epoch 33/100\n",
      "\u001b[1m8/8\u001b[0m \u001b[32m━━━━━━━━━━━━━━━━━━━━\u001b[0m\u001b[37m\u001b[0m \u001b[1m0s\u001b[0m 11ms/step - loss: 0.0334 - val_loss: 0.0215\n",
      "Epoch 34/100\n",
      "\u001b[1m8/8\u001b[0m \u001b[32m━━━━━━━━━━━━━━━━━━━━\u001b[0m\u001b[37m\u001b[0m \u001b[1m0s\u001b[0m 13ms/step - loss: 0.0328 - val_loss: 0.0247\n",
      "Epoch 35/100\n",
      "\u001b[1m8/8\u001b[0m \u001b[32m━━━━━━━━━━━━━━━━━━━━\u001b[0m\u001b[37m\u001b[0m \u001b[1m0s\u001b[0m 11ms/step - loss: 0.0321 - val_loss: 0.0313\n",
      "Epoch 36/100\n",
      "\u001b[1m8/8\u001b[0m \u001b[32m━━━━━━━━━━━━━━━━━━━━\u001b[0m\u001b[37m\u001b[0m \u001b[1m0s\u001b[0m 10ms/step - loss: 0.0331 - val_loss: 0.0211\n",
      "Epoch 37/100\n",
      "\u001b[1m8/8\u001b[0m \u001b[32m━━━━━━━━━━━━━━━━━━━━\u001b[0m\u001b[37m\u001b[0m \u001b[1m0s\u001b[0m 12ms/step - loss: 0.0338 - val_loss: 0.0273\n",
      "Epoch 38/100\n",
      "\u001b[1m8/8\u001b[0m \u001b[32m━━━━━━━━━━━━━━━━━━━━\u001b[0m\u001b[37m\u001b[0m \u001b[1m0s\u001b[0m 10ms/step - loss: 0.0337 - val_loss: 0.0269\n",
      "Epoch 39/100\n",
      "\u001b[1m8/8\u001b[0m \u001b[32m━━━━━━━━━━━━━━━━━━━━\u001b[0m\u001b[37m\u001b[0m \u001b[1m0s\u001b[0m 12ms/step - loss: 0.0331 - val_loss: 0.0269\n",
      "Epoch 40/100\n",
      "\u001b[1m8/8\u001b[0m \u001b[32m━━━━━━━━━━━━━━━━━━━━\u001b[0m\u001b[37m\u001b[0m \u001b[1m0s\u001b[0m 10ms/step - loss: 0.0351 - val_loss: 0.0205\n",
      "Epoch 41/100\n",
      "\u001b[1m8/8\u001b[0m \u001b[32m━━━━━━━━━━━━━━━━━━━━\u001b[0m\u001b[37m\u001b[0m \u001b[1m0s\u001b[0m 14ms/step - loss: 0.0342 - val_loss: 0.0282\n",
      "Epoch 42/100\n",
      "\u001b[1m8/8\u001b[0m \u001b[32m━━━━━━━━━━━━━━━━━━━━\u001b[0m\u001b[37m\u001b[0m \u001b[1m0s\u001b[0m 10ms/step - loss: 0.0332 - val_loss: 0.0227\n",
      "Epoch 43/100\n",
      "\u001b[1m8/8\u001b[0m \u001b[32m━━━━━━━━━━━━━━━━━━━━\u001b[0m\u001b[37m\u001b[0m \u001b[1m0s\u001b[0m 14ms/step - loss: 0.0347 - val_loss: 0.0211\n",
      "Epoch 44/100\n",
      "\u001b[1m8/8\u001b[0m \u001b[32m━━━━━━━━━━━━━━━━━━━━\u001b[0m\u001b[37m\u001b[0m \u001b[1m0s\u001b[0m 11ms/step - loss: 0.0308 - val_loss: 0.0284\n",
      "Epoch 45/100\n",
      "\u001b[1m8/8\u001b[0m \u001b[32m━━━━━━━━━━━━━━━━━━━━\u001b[0m\u001b[37m\u001b[0m \u001b[1m0s\u001b[0m 11ms/step - loss: 0.0309 - val_loss: 0.0221\n",
      "Epoch 46/100\n",
      "\u001b[1m8/8\u001b[0m \u001b[32m━━━━━━━━━━━━━━━━━━━━\u001b[0m\u001b[37m\u001b[0m \u001b[1m0s\u001b[0m 12ms/step - loss: 0.0299 - val_loss: 0.0238\n",
      "Epoch 47/100\n",
      "\u001b[1m8/8\u001b[0m \u001b[32m━━━━━━━━━━━━━━━━━━━━\u001b[0m\u001b[37m\u001b[0m \u001b[1m0s\u001b[0m 9ms/step - loss: 0.0323 - val_loss: 0.0230\n",
      "Epoch 48/100\n",
      "\u001b[1m8/8\u001b[0m \u001b[32m━━━━━━━━━━━━━━━━━━━━\u001b[0m\u001b[37m\u001b[0m \u001b[1m0s\u001b[0m 11ms/step - loss: 0.0301 - val_loss: 0.0236\n",
      "Epoch 49/100\n",
      "\u001b[1m8/8\u001b[0m \u001b[32m━━━━━━━━━━━━━━━━━━━━\u001b[0m\u001b[37m\u001b[0m \u001b[1m0s\u001b[0m 11ms/step - loss: 0.0306 - val_loss: 0.0248\n",
      "Epoch 50/100\n",
      "\u001b[1m8/8\u001b[0m \u001b[32m━━━━━━━━━━━━━━━━━━━━\u001b[0m\u001b[37m\u001b[0m \u001b[1m0s\u001b[0m 11ms/step - loss: 0.0305 - val_loss: 0.0252\n",
      "Epoch 51/100\n",
      "\u001b[1m8/8\u001b[0m \u001b[32m━━━━━━━━━━━━━━━━━━━━\u001b[0m\u001b[37m\u001b[0m \u001b[1m0s\u001b[0m 10ms/step - loss: 0.0295 - val_loss: 0.0220\n",
      "Epoch 52/100\n",
      "\u001b[1m8/8\u001b[0m \u001b[32m━━━━━━━━━━━━━━━━━━━━\u001b[0m\u001b[37m\u001b[0m \u001b[1m0s\u001b[0m 11ms/step - loss: 0.0292 - val_loss: 0.0264\n",
      "Epoch 53/100\n",
      "\u001b[1m8/8\u001b[0m \u001b[32m━━━━━━━━━━━━━━━━━━━━\u001b[0m\u001b[37m\u001b[0m \u001b[1m0s\u001b[0m 12ms/step - loss: 0.0301 - val_loss: 0.0254\n",
      "Epoch 54/100\n",
      "\u001b[1m8/8\u001b[0m \u001b[32m━━━━━━━━━━━━━━━━━━━━\u001b[0m\u001b[37m\u001b[0m \u001b[1m0s\u001b[0m 10ms/step - loss: 0.0292 - val_loss: 0.0259\n",
      "Epoch 55/100\n",
      "\u001b[1m8/8\u001b[0m \u001b[32m━━━━━━━━━━━━━━━━━━━━\u001b[0m\u001b[37m\u001b[0m \u001b[1m0s\u001b[0m 13ms/step - loss: 0.0288 - val_loss: 0.0234\n",
      "Epoch 56/100\n",
      "\u001b[1m8/8\u001b[0m \u001b[32m━━━━━━━━━━━━━━━━━━━━\u001b[0m\u001b[37m\u001b[0m \u001b[1m0s\u001b[0m 10ms/step - loss: 0.0311 - val_loss: 0.0192\n",
      "Epoch 57/100\n",
      "\u001b[1m8/8\u001b[0m \u001b[32m━━━━━━━━━━━━━━━━━━━━\u001b[0m\u001b[37m\u001b[0m \u001b[1m0s\u001b[0m 13ms/step - loss: 0.0315 - val_loss: 0.0237\n",
      "Epoch 58/100\n",
      "\u001b[1m8/8\u001b[0m \u001b[32m━━━━━━━━━━━━━━━━━━━━\u001b[0m\u001b[37m\u001b[0m \u001b[1m0s\u001b[0m 10ms/step - loss: 0.0323 - val_loss: 0.0271\n",
      "Epoch 59/100\n",
      "\u001b[1m8/8\u001b[0m \u001b[32m━━━━━━━━━━━━━━━━━━━━\u001b[0m\u001b[37m\u001b[0m \u001b[1m0s\u001b[0m 11ms/step - loss: 0.0311 - val_loss: 0.0292\n",
      "Epoch 60/100\n",
      "\u001b[1m8/8\u001b[0m \u001b[32m━━━━━━━━━━━━━━━━━━━━\u001b[0m\u001b[37m\u001b[0m \u001b[1m0s\u001b[0m 10ms/step - loss: 0.0288 - val_loss: 0.0222\n",
      "Epoch 61/100\n",
      "\u001b[1m8/8\u001b[0m \u001b[32m━━━━━━━━━━━━━━━━━━━━\u001b[0m\u001b[37m\u001b[0m \u001b[1m0s\u001b[0m 14ms/step - loss: 0.0324 - val_loss: 0.0300\n",
      "Epoch 62/100\n",
      "\u001b[1m8/8\u001b[0m \u001b[32m━━━━━━━━━━━━━━━━━━━━\u001b[0m\u001b[37m\u001b[0m \u001b[1m0s\u001b[0m 10ms/step - loss: 0.0315 - val_loss: 0.0262\n",
      "Epoch 63/100\n",
      "\u001b[1m8/8\u001b[0m \u001b[32m━━━━━━━━━━━━━━━━━━━━\u001b[0m\u001b[37m\u001b[0m \u001b[1m0s\u001b[0m 11ms/step - loss: 0.0360 - val_loss: 0.0309\n",
      "Epoch 64/100\n",
      "\u001b[1m8/8\u001b[0m \u001b[32m━━━━━━━━━━━━━━━━━━━━\u001b[0m\u001b[37m\u001b[0m \u001b[1m0s\u001b[0m 11ms/step - loss: 0.0302 - val_loss: 0.0167\n",
      "Epoch 65/100\n",
      "\u001b[1m8/8\u001b[0m \u001b[32m━━━━━━━━━━━━━━━━━━━━\u001b[0m\u001b[37m\u001b[0m \u001b[1m0s\u001b[0m 14ms/step - loss: 0.0287 - val_loss: 0.0230\n",
      "Epoch 66/100\n",
      "\u001b[1m8/8\u001b[0m \u001b[32m━━━━━━━━━━━━━━━━━━━━\u001b[0m\u001b[37m\u001b[0m \u001b[1m0s\u001b[0m 10ms/step - loss: 0.0274 - val_loss: 0.0288\n",
      "Epoch 67/100\n",
      "\u001b[1m8/8\u001b[0m \u001b[32m━━━━━━━━━━━━━━━━━━━━\u001b[0m\u001b[37m\u001b[0m \u001b[1m0s\u001b[0m 11ms/step - loss: 0.0274 - val_loss: 0.0197\n",
      "Epoch 68/100\n",
      "\u001b[1m8/8\u001b[0m \u001b[32m━━━━━━━━━━━━━━━━━━━━\u001b[0m\u001b[37m\u001b[0m \u001b[1m0s\u001b[0m 10ms/step - loss: 0.0298 - val_loss: 0.0242\n",
      "Epoch 69/100\n",
      "\u001b[1m8/8\u001b[0m \u001b[32m━━━━━━━━━━━━━━━━━━━━\u001b[0m\u001b[37m\u001b[0m \u001b[1m0s\u001b[0m 9ms/step - loss: 0.0286 - val_loss: 0.0223\n",
      "Epoch 70/100\n",
      "\u001b[1m8/8\u001b[0m \u001b[32m━━━━━━━━━━━━━━━━━━━━\u001b[0m\u001b[37m\u001b[0m \u001b[1m0s\u001b[0m 12ms/step - loss: 0.0291 - val_loss: 0.0227\n",
      "Epoch 71/100\n",
      "\u001b[1m8/8\u001b[0m \u001b[32m━━━━━━━━━━━━━━━━━━━━\u001b[0m\u001b[37m\u001b[0m \u001b[1m0s\u001b[0m 10ms/step - loss: 0.0284 - val_loss: 0.0232\n",
      "Epoch 72/100\n",
      "\u001b[1m8/8\u001b[0m \u001b[32m━━━━━━━━━━━━━━━━━━━━\u001b[0m\u001b[37m\u001b[0m \u001b[1m0s\u001b[0m 10ms/step - loss: 0.0281 - val_loss: 0.0246\n",
      "Epoch 73/100\n",
      "\u001b[1m8/8\u001b[0m \u001b[32m━━━━━━━━━━━━━━━━━━━━\u001b[0m\u001b[37m\u001b[0m \u001b[1m0s\u001b[0m 13ms/step - loss: 0.0276 - val_loss: 0.0218\n",
      "Epoch 74/100\n",
      "\u001b[1m8/8\u001b[0m \u001b[32m━━━━━━━━━━━━━━━━━━━━\u001b[0m\u001b[37m\u001b[0m \u001b[1m0s\u001b[0m 12ms/step - loss: 0.0268 - val_loss: 0.0267\n",
      "Epoch 75/100\n",
      "\u001b[1m8/8\u001b[0m \u001b[32m━━━━━━━━━━━━━━━━━━━━\u001b[0m\u001b[37m\u001b[0m \u001b[1m0s\u001b[0m 9ms/step - loss: 0.0277 - val_loss: 0.0199\n",
      "Epoch 76/100\n",
      "\u001b[1m8/8\u001b[0m \u001b[32m━━━━━━━━━━━━━━━━━━━━\u001b[0m\u001b[37m\u001b[0m \u001b[1m0s\u001b[0m 13ms/step - loss: 0.0266 - val_loss: 0.0226\n",
      "Epoch 77/100\n",
      "\u001b[1m8/8\u001b[0m \u001b[32m━━━━━━━━━━━━━━━━━━━━\u001b[0m\u001b[37m\u001b[0m \u001b[1m0s\u001b[0m 9ms/step - loss: 0.0265 - val_loss: 0.0215\n",
      "Epoch 78/100\n",
      "\u001b[1m8/8\u001b[0m \u001b[32m━━━━━━━━━━━━━━━━━━━━\u001b[0m\u001b[37m\u001b[0m \u001b[1m0s\u001b[0m 10ms/step - loss: 0.0269 - val_loss: 0.0242\n",
      "Epoch 79/100\n",
      "\u001b[1m8/8\u001b[0m \u001b[32m━━━━━━━━━━━━━━━━━━━━\u001b[0m\u001b[37m\u001b[0m \u001b[1m0s\u001b[0m 13ms/step - loss: 0.0270 - val_loss: 0.0228\n",
      "Epoch 80/100\n",
      "\u001b[1m8/8\u001b[0m \u001b[32m━━━━━━━━━━━━━━━━━━━━\u001b[0m\u001b[37m\u001b[0m \u001b[1m0s\u001b[0m 12ms/step - loss: 0.0278 - val_loss: 0.0237\n",
      "Epoch 81/100\n",
      "\u001b[1m8/8\u001b[0m \u001b[32m━━━━━━━━━━━━━━━━━━━━\u001b[0m\u001b[37m\u001b[0m \u001b[1m0s\u001b[0m 11ms/step - loss: 0.0262 - val_loss: 0.0172\n",
      "Epoch 82/100\n",
      "\u001b[1m8/8\u001b[0m \u001b[32m━━━━━━━━━━━━━━━━━━━━\u001b[0m\u001b[37m\u001b[0m \u001b[1m0s\u001b[0m 10ms/step - loss: 0.0288 - val_loss: 0.0180\n",
      "Epoch 83/100\n",
      "\u001b[1m8/8\u001b[0m \u001b[32m━━━━━━━━━━━━━━━━━━━━\u001b[0m\u001b[37m\u001b[0m \u001b[1m0s\u001b[0m 11ms/step - loss: 0.0309 - val_loss: 0.0437\n",
      "Epoch 84/100\n",
      "\u001b[1m8/8\u001b[0m \u001b[32m━━━━━━━━━━━━━━━━━━━━\u001b[0m\u001b[37m\u001b[0m \u001b[1m0s\u001b[0m 8ms/step - loss: 0.0320 - val_loss: 0.0161\n",
      "Epoch 85/100\n",
      "\u001b[1m8/8\u001b[0m \u001b[32m━━━━━━━━━━━━━━━━━━━━\u001b[0m\u001b[37m\u001b[0m \u001b[1m0s\u001b[0m 8ms/step - loss: 0.0287 - val_loss: 0.0327\n",
      "Epoch 86/100\n",
      "\u001b[1m8/8\u001b[0m \u001b[32m━━━━━━━━━━━━━━━━━━━━\u001b[0m\u001b[37m\u001b[0m \u001b[1m0s\u001b[0m 12ms/step - loss: 0.0258 - val_loss: 0.0176\n",
      "Epoch 87/100\n",
      "\u001b[1m8/8\u001b[0m \u001b[32m━━━━━━━━━━━━━━━━━━━━\u001b[0m\u001b[37m\u001b[0m \u001b[1m0s\u001b[0m 10ms/step - loss: 0.0273 - val_loss: 0.0265\n",
      "Epoch 88/100\n",
      "\u001b[1m8/8\u001b[0m \u001b[32m━━━━━━━━━━━━━━━━━━━━\u001b[0m\u001b[37m\u001b[0m \u001b[1m0s\u001b[0m 12ms/step - loss: 0.0262 - val_loss: 0.0239\n",
      "Epoch 89/100\n",
      "\u001b[1m8/8\u001b[0m \u001b[32m━━━━━━━━━━━━━━━━━━━━\u001b[0m\u001b[37m\u001b[0m \u001b[1m0s\u001b[0m 9ms/step - loss: 0.0248 - val_loss: 0.0211\n",
      "Epoch 90/100\n",
      "\u001b[1m8/8\u001b[0m \u001b[32m━━━━━━━━━━━━━━━━━━━━\u001b[0m\u001b[37m\u001b[0m \u001b[1m0s\u001b[0m 12ms/step - loss: 0.0256 - val_loss: 0.0223\n",
      "Epoch 91/100\n",
      "\u001b[1m8/8\u001b[0m \u001b[32m━━━━━━━━━━━━━━━━━━━━\u001b[0m\u001b[37m\u001b[0m \u001b[1m0s\u001b[0m 11ms/step - loss: 0.0262 - val_loss: 0.0271\n",
      "Epoch 92/100\n",
      "\u001b[1m8/8\u001b[0m \u001b[32m━━━━━━━━━━━━━━━━━━━━\u001b[0m\u001b[37m\u001b[0m \u001b[1m0s\u001b[0m 12ms/step - loss: 0.0255 - val_loss: 0.0206\n",
      "Epoch 93/100\n",
      "\u001b[1m8/8\u001b[0m \u001b[32m━━━━━━━━━━━━━━━━━━━━\u001b[0m\u001b[37m\u001b[0m \u001b[1m0s\u001b[0m 12ms/step - loss: 0.0268 - val_loss: 0.0256\n",
      "Epoch 94/100\n",
      "\u001b[1m8/8\u001b[0m \u001b[32m━━━━━━━━━━━━━━━━━━━━\u001b[0m\u001b[37m\u001b[0m \u001b[1m0s\u001b[0m 11ms/step - loss: 0.0250 - val_loss: 0.0194\n",
      "Epoch 95/100\n",
      "\u001b[1m8/8\u001b[0m \u001b[32m━━━━━━━━━━━━━━━━━━━━\u001b[0m\u001b[37m\u001b[0m \u001b[1m0s\u001b[0m 11ms/step - loss: 0.0244 - val_loss: 0.0240\n",
      "Epoch 96/100\n",
      "\u001b[1m8/8\u001b[0m \u001b[32m━━━━━━━━━━━━━━━━━━━━\u001b[0m\u001b[37m\u001b[0m \u001b[1m0s\u001b[0m 10ms/step - loss: 0.0243 - val_loss: 0.0200\n",
      "Epoch 97/100\n",
      "\u001b[1m8/8\u001b[0m \u001b[32m━━━━━━━━━━━━━━━━━━━━\u001b[0m\u001b[37m\u001b[0m \u001b[1m0s\u001b[0m 13ms/step - loss: 0.0255 - val_loss: 0.0217\n",
      "Epoch 98/100\n",
      "\u001b[1m8/8\u001b[0m \u001b[32m━━━━━━━━━━━━━━━━━━━━\u001b[0m\u001b[37m\u001b[0m \u001b[1m0s\u001b[0m 9ms/step - loss: 0.0245 - val_loss: 0.0181\n",
      "Epoch 99/100\n",
      "\u001b[1m8/8\u001b[0m \u001b[32m━━━━━━━━━━━━━━━━━━━━\u001b[0m\u001b[37m\u001b[0m \u001b[1m0s\u001b[0m 9ms/step - loss: 0.0235 - val_loss: 0.0309\n",
      "Epoch 100/100\n",
      "\u001b[1m8/8\u001b[0m \u001b[32m━━━━━━━━━━━━━━━━━━━━\u001b[0m\u001b[37m\u001b[0m \u001b[1m0s\u001b[0m 12ms/step - loss: 0.0252 - val_loss: 0.0181\n",
      "\u001b[1m1/1\u001b[0m \u001b[32m━━━━━━━━━━━━━━━━━━━━\u001b[0m\u001b[37m\u001b[0m \u001b[1m0s\u001b[0m 49ms/step\n",
      "\n",
      "Model Evaluation Metrics:\n",
      "Mean Squared Error (MSE): 0.0612\n",
      "R-squared (R²): 0.2503\n"
     ]
    }
   ],
   "source": [
    "# Build the neural network model\n",
    "model = Sequential([\n",
    "    Dense(16, input_dim=X_train.shape[1], activation='relu'),\n",
    "    Dense(8, activation='relu'),\n",
    "    Dense(1, activation='linear')  # output layer (for regression)\n",
    "])\n",
    "\n",
    "# Compile the model\n",
    "model.compile(optimizer=Adam(learning_rate=0.01), loss='mean_squared_error')\n",
    "\n",
    "# Train the model\n",
    "history = model.fit(X_train, y_train, validation_split=0.2,\n",
    "                    epochs=100, batch_size=8, verbose=1)\n",
    "\n",
    "# Make predictions\n",
    "y_pred = model.predict(X_test).flatten()\n",
    "\n",
    "# Evaluate performance\n",
    "mse = mean_squared_error(y_test, y_pred)\n",
    "r2 = r2_score(y_test, y_pred)\n",
    "\n",
    "print(\"\\nModel Evaluation Metrics:\")\n",
    "print(f\"Mean Squared Error (MSE): {mse:.4f}\")\n",
    "print(f\"R-squared (R²): {r2:.4f}\")\n"
   ]
  },
  {
   "cell_type": "code",
   "execution_count": 54,
   "id": "9334898a",
   "metadata": {},
   "outputs": [
    {
     "data": {
      "image/png": "[encoded data removed]",
      "text/plain": [
       "<Figure size 700x500 with 1 Axes>"
      ]
     },
     "metadata": {},
     "output_type": "display_data"
    },
    {
     "data": {
      "image/png": "[encoded data removed]",
      "text/plain": [
       "<Figure size 700x400 with 1 Axes>"
      ]
     },
     "metadata": {},
     "output_type": "display_data"
    }
   ],
   "source": [
    "# Visualize Actual vs Predicted\n",
    "plt.figure(figsize=(7,5))\n",
    "plt.scatter(y_test, y_pred, color='blue', alpha=0.6)\n",
    "plt.plot([y_test.min(), y_test.max()], [y_test.min(), y_test.max()],\n",
    "         color='red', linewidth=2)\n",
    "plt.title(\"Neural Network: Actual vs Predicted Performance Scores\")\n",
    "plt.xlabel(\"Actual Performance Score\")\n",
    "plt.ylabel(\"Predicted Performance Score\")\n",
    "plt.grid(True)\n",
    "plt.show()\n",
    "\n",
    "# Visualize training progress\n",
    "plt.figure(figsize=(7,4))\n",
    "plt.plot(history.history['loss'], label='Training Loss')\n",
    "plt.plot(history.history['val_loss'], label='Validation Loss')\n",
    "plt.title('Training and Validation Loss over Epochs')\n",
    "plt.xlabel('Epochs')\n",
    "plt.ylabel('Loss (MSE)')\n",
    "plt.legend()\n",
    "plt.show()"
   ]
  },
  {
   "cell_type": "code",
   "execution_count": 55,
   "id": "4d7053ee",
   "metadata": {},
   "outputs": [
    {
     "name": "stdout",
     "output_type": "stream",
     "text": [
      "Epoch 1/100\n"
     ]
    },
    {
     "name": "stderr",
     "output_type": "stream",
     "text": [
      "C:\\Users\\sacbook\\AppData\\Local\\Packages\\PythonSoftwareFoundation.Python.3.11_qbz5n2kfra8p0\\LocalCache\\local-packages\\Python311\\site-packages\\keras\\src\\layers\\core\\dense.py:92: UserWarning: Do not pass an `input_shape`/`input_dim` argument to a layer. When using Sequential models, prefer using an `Input(shape)` object as the first layer in the model instead.\n",
      "  super().__init__(activity_regularizer=activity_regularizer, **kwargs)\n"
     ]
    },
    {
     "name": "stdout",
     "output_type": "stream",
     "text": [
      "\u001b[1m8/8\u001b[0m \u001b[32m━━━━━━━━━━━━━━━━━━━━\u001b[0m\u001b[37m\u001b[0m \u001b[1m1s\u001b[0m 27ms/step - accuracy: 0.6094 - loss: 0.7218 - val_accuracy: 0.5000 - val_loss: 0.7309\n",
      "Epoch 2/100\n",
      "\u001b[1m8/8\u001b[0m \u001b[32m━━━━━━━━━━━━━━━━━━━━\u001b[0m\u001b[37m\u001b[0m \u001b[1m0s\u001b[0m 9ms/step - accuracy: 0.5625 - loss: 0.7015 - val_accuracy: 0.5000 - val_loss: 0.7207\n",
      "Epoch 3/100\n",
      "\u001b[1m8/8\u001b[0m \u001b[32m━━━━━━━━━━━━━━━━━━━━\u001b[0m\u001b[37m\u001b[0m \u001b[1m0s\u001b[0m 11ms/step - accuracy: 0.5938 - loss: 0.6936 - val_accuracy: 0.5625 - val_loss: 0.7189\n",
      "Epoch 4/100\n",
      "\u001b[1m8/8\u001b[0m \u001b[32m━━━━━━━━━━━━━━━━━━━━\u001b[0m\u001b[37m\u001b[0m \u001b[1m0s\u001b[0m 12ms/step - accuracy: 0.6094 - loss: 0.6848 - val_accuracy: 0.5625 - val_loss: 0.7138\n",
      "Epoch 5/100\n",
      "\u001b[1m8/8\u001b[0m \u001b[32m━━━━━━━━━━━━━━━━━━━━\u001b[0m\u001b[37m\u001b[0m \u001b[1m0s\u001b[0m 11ms/step - accuracy: 0.6094 - loss: 0.6802 - val_accuracy: 0.5625 - val_loss: 0.7095\n",
      "Epoch 6/100\n",
      "\u001b[1m8/8\u001b[0m \u001b[32m━━━━━━━━━━━━━━━━━━━━\u001b[0m\u001b[37m\u001b[0m \u001b[1m0s\u001b[0m 17ms/step - accuracy: 0.5781 - loss: 0.6690 - val_accuracy: 0.5625 - val_loss: 0.7015\n",
      "Epoch 7/100\n",
      "\u001b[1m8/8\u001b[0m \u001b[32m━━━━━━━━━━━━━━━━━━━━\u001b[0m\u001b[37m\u001b[0m \u001b[1m0s\u001b[0m 11ms/step - accuracy: 0.6406 - loss: 0.6662 - val_accuracy: 0.5625 - val_loss: 0.7016\n",
      "Epoch 8/100\n",
      "\u001b[1m8/8\u001b[0m \u001b[32m━━━━━━━━━━━━━━━━━━━━\u001b[0m\u001b[37m\u001b[0m \u001b[1m0s\u001b[0m 11ms/step - accuracy: 0.6094 - loss: 0.6600 - val_accuracy: 0.6250 - val_loss: 0.6980\n",
      "Epoch 9/100\n",
      "\u001b[1m8/8\u001b[0m \u001b[32m━━━━━━━━━━━━━━━━━━━━\u001b[0m\u001b[37m\u001b[0m \u001b[1m0s\u001b[0m 14ms/step - accuracy: 0.6406 - loss: 0.6493 - val_accuracy: 0.6250 - val_loss: 0.6911\n",
      "Epoch 10/100\n",
      "\u001b[1m8/8\u001b[0m \u001b[32m━━━━━━━━━━━━━━━━━━━━\u001b[0m\u001b[37m\u001b[0m \u001b[1m0s\u001b[0m 13ms/step - accuracy: 0.6406 - loss: 0.6486 - val_accuracy: 0.5625 - val_loss: 0.6864\n",
      "Epoch 11/100\n",
      "\u001b[1m8/8\u001b[0m \u001b[32m━━━━━━━━━━━━━━━━━━━━\u001b[0m\u001b[37m\u001b[0m \u001b[1m0s\u001b[0m 10ms/step - accuracy: 0.6406 - loss: 0.6460 - val_accuracy: 0.5625 - val_loss: 0.6852\n",
      "Epoch 12/100\n",
      "\u001b[1m8/8\u001b[0m \u001b[32m━━━━━━━━━━━━━━━━━━━━\u001b[0m\u001b[37m\u001b[0m \u001b[1m0s\u001b[0m 12ms/step - accuracy: 0.6250 - loss: 0.6482 - val_accuracy: 0.6250 - val_loss: 0.6955\n",
      "Epoch 13/100\n",
      "\u001b[1m8/8\u001b[0m \u001b[32m━━━━━━━━━━━━━━━━━━━━\u001b[0m\u001b[37m\u001b[0m \u001b[1m0s\u001b[0m 9ms/step - accuracy: 0.6094 - loss: 0.6532 - val_accuracy: 0.5625 - val_loss: 0.6830\n",
      "Epoch 14/100\n",
      "\u001b[1m8/8\u001b[0m \u001b[32m━━━━━━━━━━━━━━━━━━━━\u001b[0m\u001b[37m\u001b[0m \u001b[1m0s\u001b[0m 10ms/step - accuracy: 0.6719 - loss: 0.6359 - val_accuracy: 0.5625 - val_loss: 0.6877\n",
      "Epoch 15/100\n",
      "\u001b[1m8/8\u001b[0m \u001b[32m━━━━━━━━━━━━━━━━━━━━\u001b[0m\u001b[37m\u001b[0m \u001b[1m0s\u001b[0m 9ms/step - accuracy: 0.6406 - loss: 0.6378 - val_accuracy: 0.5625 - val_loss: 0.6823\n",
      "Epoch 16/100\n",
      "\u001b[1m8/8\u001b[0m \u001b[32m━━━━━━━━━━━━━━━━━━━━\u001b[0m\u001b[37m\u001b[0m \u001b[1m0s\u001b[0m 14ms/step - accuracy: 0.6562 - loss: 0.6353 - val_accuracy: 0.6875 - val_loss: 0.6816\n",
      "Epoch 17/100\n",
      "\u001b[1m8/8\u001b[0m \u001b[32m━━━━━━━━━━━━━━━━━━━━\u001b[0m\u001b[37m\u001b[0m \u001b[1m0s\u001b[0m 13ms/step - accuracy: 0.6719 - loss: 0.6330 - val_accuracy: 0.5625 - val_loss: 0.6904\n",
      "Epoch 18/100\n",
      "\u001b[1m8/8\u001b[0m \u001b[32m━━━━━━━━━━━━━━━━━━━━\u001b[0m\u001b[37m\u001b[0m \u001b[1m0s\u001b[0m 10ms/step - accuracy: 0.6250 - loss: 0.6300 - val_accuracy: 0.6875 - val_loss: 0.6814\n",
      "Epoch 19/100\n",
      "\u001b[1m8/8\u001b[0m \u001b[32m━━━━━━━━━━━━━━━━━━━━\u001b[0m\u001b[37m\u001b[0m \u001b[1m0s\u001b[0m 10ms/step - accuracy: 0.6562 - loss: 0.6316 - val_accuracy: 0.6875 - val_loss: 0.6804\n",
      "Epoch 20/100\n",
      "\u001b[1m8/8\u001b[0m \u001b[32m━━━━━━━━━━━━━━━━━━━━\u001b[0m\u001b[37m\u001b[0m \u001b[1m0s\u001b[0m 10ms/step - accuracy: 0.6719 - loss: 0.6293 - val_accuracy: 0.5625 - val_loss: 0.6821\n",
      "Epoch 21/100\n",
      "\u001b[1m8/8\u001b[0m \u001b[32m━━━━━━━━━━━━━━━━━━━━\u001b[0m\u001b[37m\u001b[0m \u001b[1m0s\u001b[0m 13ms/step - accuracy: 0.6875 - loss: 0.6258 - val_accuracy: 0.5625 - val_loss: 0.6838\n",
      "Epoch 22/100\n",
      "\u001b[1m8/8\u001b[0m \u001b[32m━━━━━━━━━━━━━━━━━━━━\u001b[0m\u001b[37m\u001b[0m \u001b[1m0s\u001b[0m 9ms/step - accuracy: 0.6406 - loss: 0.6338 - val_accuracy: 0.5625 - val_loss: 0.6872\n",
      "Epoch 23/100\n",
      "\u001b[1m8/8\u001b[0m \u001b[32m━━━━━━━━━━━━━━━━━━━━\u001b[0m\u001b[37m\u001b[0m \u001b[1m0s\u001b[0m 14ms/step - accuracy: 0.7188 - loss: 0.6345 - val_accuracy: 0.5625 - val_loss: 0.6828\n",
      "Epoch 24/100\n",
      "\u001b[1m8/8\u001b[0m \u001b[32m━━━━━━━━━━━━━━━━━━━━\u001b[0m\u001b[37m\u001b[0m \u001b[1m0s\u001b[0m 11ms/step - accuracy: 0.6875 - loss: 0.6335 - val_accuracy: 0.5625 - val_loss: 0.6837\n",
      "Epoch 25/100\n",
      "\u001b[1m8/8\u001b[0m \u001b[32m━━━━━━━━━━━━━━━━━━━━\u001b[0m\u001b[37m\u001b[0m \u001b[1m0s\u001b[0m 9ms/step - accuracy: 0.6875 - loss: 0.6251 - val_accuracy: 0.6875 - val_loss: 0.6799\n",
      "Epoch 26/100\n",
      "\u001b[1m8/8\u001b[0m \u001b[32m━━━━━━━━━━━━━━━━━━━━\u001b[0m\u001b[37m\u001b[0m \u001b[1m0s\u001b[0m 10ms/step - accuracy: 0.6875 - loss: 0.6291 - val_accuracy: 0.6875 - val_loss: 0.6791\n",
      "Epoch 27/100\n",
      "\u001b[1m8/8\u001b[0m \u001b[32m━━━━━━━━━━━━━━━━━━━━\u001b[0m\u001b[37m\u001b[0m \u001b[1m0s\u001b[0m 13ms/step - accuracy: 0.6875 - loss: 0.6237 - val_accuracy: 0.6875 - val_loss: 0.6798\n",
      "Epoch 28/100\n",
      "\u001b[1m8/8\u001b[0m \u001b[32m━━━━━━━━━━━━━━━━━━━━\u001b[0m\u001b[37m\u001b[0m \u001b[1m0s\u001b[0m 12ms/step - accuracy: 0.7031 - loss: 0.6209 - val_accuracy: 0.6875 - val_loss: 0.6814\n",
      "Epoch 29/100\n",
      "\u001b[1m8/8\u001b[0m \u001b[32m━━━━━━━━━━━━━━━━━━━━\u001b[0m\u001b[37m\u001b[0m \u001b[1m0s\u001b[0m 9ms/step - accuracy: 0.6406 - loss: 0.6254 - val_accuracy: 0.6875 - val_loss: 0.6821\n",
      "Epoch 30/100\n",
      "\u001b[1m8/8\u001b[0m \u001b[32m━━━━━━━━━━━━━━━━━━━━\u001b[0m\u001b[37m\u001b[0m \u001b[1m0s\u001b[0m 11ms/step - accuracy: 0.7031 - loss: 0.6201 - val_accuracy: 0.6875 - val_loss: 0.6783\n",
      "Epoch 31/100\n",
      "\u001b[1m8/8\u001b[0m \u001b[32m━━━━━━━━━━━━━━━━━━━━\u001b[0m\u001b[37m\u001b[0m \u001b[1m0s\u001b[0m 9ms/step - accuracy: 0.7031 - loss: 0.6206 - val_accuracy: 0.6875 - val_loss: 0.6807\n",
      "Epoch 32/100\n",
      "\u001b[1m8/8\u001b[0m \u001b[32m━━━━━━━━━━━━━━━━━━━━\u001b[0m\u001b[37m\u001b[0m \u001b[1m0s\u001b[0m 12ms/step - accuracy: 0.7031 - loss: 0.6197 - val_accuracy: 0.6875 - val_loss: 0.6801\n",
      "Epoch 33/100\n",
      "\u001b[1m8/8\u001b[0m \u001b[32m━━━━━━━━━━━━━━━━━━━━\u001b[0m\u001b[37m\u001b[0m \u001b[1m0s\u001b[0m 10ms/step - accuracy: 0.7031 - loss: 0.6210 - val_accuracy: 0.6875 - val_loss: 0.6803\n",
      "Epoch 34/100\n",
      "\u001b[1m8/8\u001b[0m \u001b[32m━━━━━━━━━━━━━━━━━━━━\u001b[0m\u001b[37m\u001b[0m \u001b[1m0s\u001b[0m 13ms/step - accuracy: 0.7188 - loss: 0.6196 - val_accuracy: 0.6875 - val_loss: 0.6786\n",
      "Epoch 35/100\n",
      "\u001b[1m8/8\u001b[0m \u001b[32m━━━━━━━━━━━━━━━━━━━━\u001b[0m\u001b[37m\u001b[0m \u001b[1m0s\u001b[0m 9ms/step - accuracy: 0.6719 - loss: 0.6243 - val_accuracy: 0.6875 - val_loss: 0.6767\n",
      "Epoch 36/100\n",
      "\u001b[1m8/8\u001b[0m \u001b[32m━━━━━━━━━━━━━━━━━━━━\u001b[0m\u001b[37m\u001b[0m \u001b[1m0s\u001b[0m 9ms/step - accuracy: 0.6719 - loss: 0.6236 - val_accuracy: 0.5625 - val_loss: 0.6885\n",
      "Epoch 37/100\n",
      "\u001b[1m8/8\u001b[0m \u001b[32m━━━━━━━━━━━━━━━━━━━━\u001b[0m\u001b[37m\u001b[0m \u001b[1m0s\u001b[0m 13ms/step - accuracy: 0.6562 - loss: 0.6212 - val_accuracy: 0.6875 - val_loss: 0.6784\n",
      "Epoch 38/100\n",
      "\u001b[1m8/8\u001b[0m \u001b[32m━━━━━━━━━━━━━━━━━━━━\u001b[0m\u001b[37m\u001b[0m \u001b[1m0s\u001b[0m 10ms/step - accuracy: 0.7031 - loss: 0.6204 - val_accuracy: 0.6875 - val_loss: 0.6757\n",
      "Epoch 39/100\n",
      "\u001b[1m8/8\u001b[0m \u001b[32m━━━━━━━━━━━━━━━━━━━━\u001b[0m\u001b[37m\u001b[0m \u001b[1m0s\u001b[0m 13ms/step - accuracy: 0.7031 - loss: 0.6246 - val_accuracy: 0.6875 - val_loss: 0.6838\n",
      "Epoch 40/100\n",
      "\u001b[1m8/8\u001b[0m \u001b[32m━━━━━━━━━━━━━━━━━━━━\u001b[0m\u001b[37m\u001b[0m \u001b[1m0s\u001b[0m 10ms/step - accuracy: 0.7188 - loss: 0.6167 - val_accuracy: 0.6875 - val_loss: 0.6763\n",
      "Epoch 41/100\n",
      "\u001b[1m8/8\u001b[0m \u001b[32m━━━━━━━━━━━━━━━━━━━━\u001b[0m\u001b[37m\u001b[0m \u001b[1m0s\u001b[0m 9ms/step - accuracy: 0.7188 - loss: 0.6200 - val_accuracy: 0.6875 - val_loss: 0.6800\n",
      "Epoch 42/100\n",
      "\u001b[1m8/8\u001b[0m \u001b[32m━━━━━━━━━━━━━━━━━━━━\u001b[0m\u001b[37m\u001b[0m \u001b[1m0s\u001b[0m 12ms/step - accuracy: 0.7031 - loss: 0.6250 - val_accuracy: 0.6875 - val_loss: 0.6773\n",
      "Epoch 43/100\n",
      "\u001b[1m8/8\u001b[0m \u001b[32m━━━━━━━━━━━━━━━━━━━━\u001b[0m\u001b[37m\u001b[0m \u001b[1m0s\u001b[0m 21ms/step - accuracy: 0.6719 - loss: 0.6228 - val_accuracy: 0.5625 - val_loss: 0.6880\n",
      "Epoch 44/100\n",
      "\u001b[1m8/8\u001b[0m \u001b[32m━━━━━━━━━━━━━━━━━━━━\u001b[0m\u001b[37m\u001b[0m \u001b[1m0s\u001b[0m 11ms/step - accuracy: 0.6562 - loss: 0.6237 - val_accuracy: 0.6875 - val_loss: 0.6790\n",
      "Epoch 45/100\n",
      "\u001b[1m8/8\u001b[0m \u001b[32m━━━━━━━━━━━━━━━━━━━━\u001b[0m\u001b[37m\u001b[0m \u001b[1m0s\u001b[0m 13ms/step - accuracy: 0.6406 - loss: 0.6322 - val_accuracy: 0.5625 - val_loss: 0.6775\n",
      "Epoch 46/100\n",
      "\u001b[1m8/8\u001b[0m \u001b[32m━━━━━━━━━━━━━━━━━━━━\u001b[0m\u001b[37m\u001b[0m \u001b[1m0s\u001b[0m 12ms/step - accuracy: 0.6562 - loss: 0.6328 - val_accuracy: 0.6875 - val_loss: 0.6862\n",
      "Epoch 47/100\n",
      "\u001b[1m8/8\u001b[0m \u001b[32m━━━━━━━━━━━━━━━━━━━━\u001b[0m\u001b[37m\u001b[0m \u001b[1m0s\u001b[0m 11ms/step - accuracy: 0.6719 - loss: 0.6266 - val_accuracy: 0.6875 - val_loss: 0.6751\n",
      "Epoch 48/100\n",
      "\u001b[1m8/8\u001b[0m \u001b[32m━━━━━━━━━━━━━━━━━━━━\u001b[0m\u001b[37m\u001b[0m \u001b[1m0s\u001b[0m 18ms/step - accuracy: 0.7031 - loss: 0.6188 - val_accuracy: 0.6875 - val_loss: 0.6776\n",
      "Epoch 49/100\n",
      "\u001b[1m8/8\u001b[0m \u001b[32m━━━━━━━━━━━━━━━━━━━━\u001b[0m\u001b[37m\u001b[0m \u001b[1m0s\u001b[0m 10ms/step - accuracy: 0.6875 - loss: 0.6221 - val_accuracy: 0.6875 - val_loss: 0.6805\n",
      "Epoch 50/100\n",
      "\u001b[1m8/8\u001b[0m \u001b[32m━━━━━━━━━━━━━━━━━━━━\u001b[0m\u001b[37m\u001b[0m \u001b[1m0s\u001b[0m 10ms/step - accuracy: 0.6875 - loss: 0.6205 - val_accuracy: 0.6875 - val_loss: 0.6738\n",
      "Epoch 51/100\n",
      "\u001b[1m8/8\u001b[0m \u001b[32m━━━━━━━━━━━━━━━━━━━━\u001b[0m\u001b[37m\u001b[0m \u001b[1m0s\u001b[0m 9ms/step - accuracy: 0.6875 - loss: 0.6241 - val_accuracy: 0.6875 - val_loss: 0.6749\n",
      "Epoch 52/100\n",
      "\u001b[1m8/8\u001b[0m \u001b[32m━━━━━━━━━━━━━━━━━━━━\u001b[0m\u001b[37m\u001b[0m \u001b[1m0s\u001b[0m 10ms/step - accuracy: 0.6562 - loss: 0.6228 - val_accuracy: 0.6250 - val_loss: 0.6836\n",
      "Epoch 53/100\n",
      "\u001b[1m8/8\u001b[0m \u001b[32m━━━━━━━━━━━━━━━━━━━━\u001b[0m\u001b[37m\u001b[0m \u001b[1m0s\u001b[0m 12ms/step - accuracy: 0.7031 - loss: 0.6165 - val_accuracy: 0.6875 - val_loss: 0.6729\n",
      "Epoch 54/100\n",
      "\u001b[1m8/8\u001b[0m \u001b[32m━━━━━━━━━━━━━━━━━━━━\u001b[0m\u001b[37m\u001b[0m \u001b[1m0s\u001b[0m 10ms/step - accuracy: 0.7188 - loss: 0.6179 - val_accuracy: 0.6875 - val_loss: 0.6729\n",
      "Epoch 55/100\n",
      "\u001b[1m8/8\u001b[0m \u001b[32m━━━━━━━━━━━━━━━━━━━━\u001b[0m\u001b[37m\u001b[0m \u001b[1m0s\u001b[0m 11ms/step - accuracy: 0.6875 - loss: 0.6207 - val_accuracy: 0.6875 - val_loss: 0.6757\n",
      "Epoch 56/100\n",
      "\u001b[1m8/8\u001b[0m \u001b[32m━━━━━━━━━━━━━━━━━━━━\u001b[0m\u001b[37m\u001b[0m \u001b[1m0s\u001b[0m 11ms/step - accuracy: 0.7031 - loss: 0.6186 - val_accuracy: 0.6875 - val_loss: 0.6716\n",
      "Epoch 57/100\n",
      "\u001b[1m8/8\u001b[0m \u001b[32m━━━━━━━━━━━━━━━━━━━━\u001b[0m\u001b[37m\u001b[0m \u001b[1m0s\u001b[0m 10ms/step - accuracy: 0.6875 - loss: 0.6313 - val_accuracy: 0.6875 - val_loss: 0.6772\n",
      "Epoch 58/100\n",
      "\u001b[1m8/8\u001b[0m \u001b[32m━━━━━━━━━━━━━━━━━━━━\u001b[0m\u001b[37m\u001b[0m \u001b[1m0s\u001b[0m 12ms/step - accuracy: 0.7031 - loss: 0.6193 - val_accuracy: 0.6875 - val_loss: 0.6707\n",
      "Epoch 59/100\n",
      "\u001b[1m8/8\u001b[0m \u001b[32m━━━━━━━━━━━━━━━━━━━━\u001b[0m\u001b[37m\u001b[0m \u001b[1m0s\u001b[0m 15ms/step - accuracy: 0.7031 - loss: 0.6194 - val_accuracy: 0.6875 - val_loss: 0.6731\n",
      "Epoch 60/100\n",
      "\u001b[1m8/8\u001b[0m \u001b[32m━━━━━━━━━━━━━━━━━━━━\u001b[0m\u001b[37m\u001b[0m \u001b[1m0s\u001b[0m 11ms/step - accuracy: 0.6875 - loss: 0.6192 - val_accuracy: 0.6875 - val_loss: 0.6757\n",
      "Epoch 61/100\n",
      "\u001b[1m8/8\u001b[0m \u001b[32m━━━━━━━━━━━━━━━━━━━━\u001b[0m\u001b[37m\u001b[0m \u001b[1m0s\u001b[0m 12ms/step - accuracy: 0.7031 - loss: 0.6211 - val_accuracy: 0.6875 - val_loss: 0.6695\n",
      "Epoch 62/100\n",
      "\u001b[1m8/8\u001b[0m \u001b[32m━━━━━━━━━━━━━━━━━━━━\u001b[0m\u001b[37m\u001b[0m \u001b[1m0s\u001b[0m 15ms/step - accuracy: 0.7188 - loss: 0.6167 - val_accuracy: 0.6875 - val_loss: 0.6729\n",
      "Epoch 63/100\n",
      "\u001b[1m8/8\u001b[0m \u001b[32m━━━━━━━━━━━━━━━━━━━━\u001b[0m\u001b[37m\u001b[0m \u001b[1m0s\u001b[0m 12ms/step - accuracy: 0.7188 - loss: 0.6163 - val_accuracy: 0.6875 - val_loss: 0.6704\n",
      "Epoch 64/100\n",
      "\u001b[1m8/8\u001b[0m \u001b[32m━━━━━━━━━━━━━━━━━━━━\u001b[0m\u001b[37m\u001b[0m \u001b[1m0s\u001b[0m 11ms/step - accuracy: 0.7188 - loss: 0.6151 - val_accuracy: 0.6875 - val_loss: 0.6698\n",
      "Epoch 65/100\n",
      "\u001b[1m8/8\u001b[0m \u001b[32m━━━━━━━━━━━━━━━━━━━━\u001b[0m\u001b[37m\u001b[0m \u001b[1m0s\u001b[0m 13ms/step - accuracy: 0.6562 - loss: 0.6291 - val_accuracy: 0.6875 - val_loss: 0.6766\n",
      "Epoch 66/100\n",
      "\u001b[1m8/8\u001b[0m \u001b[32m━━━━━━━━━━━━━━━━━━━━\u001b[0m\u001b[37m\u001b[0m \u001b[1m0s\u001b[0m 9ms/step - accuracy: 0.6562 - loss: 0.6199 - val_accuracy: 0.6875 - val_loss: 0.6722\n",
      "Epoch 67/100\n",
      "\u001b[1m8/8\u001b[0m \u001b[32m━━━━━━━━━━━━━━━━━━━━\u001b[0m\u001b[37m\u001b[0m \u001b[1m0s\u001b[0m 14ms/step - accuracy: 0.6562 - loss: 0.6208 - val_accuracy: 0.5625 - val_loss: 0.6743\n",
      "Epoch 68/100\n",
      "\u001b[1m8/8\u001b[0m \u001b[32m━━━━━━━━━━━━━━━━━━━━\u001b[0m\u001b[37m\u001b[0m \u001b[1m0s\u001b[0m 10ms/step - accuracy: 0.6719 - loss: 0.6205 - val_accuracy: 0.6875 - val_loss: 0.6686\n",
      "Epoch 69/100\n",
      "\u001b[1m8/8\u001b[0m \u001b[32m━━━━━━━━━━━━━━━━━━━━\u001b[0m\u001b[37m\u001b[0m \u001b[1m0s\u001b[0m 14ms/step - accuracy: 0.7031 - loss: 0.6131 - val_accuracy: 0.6875 - val_loss: 0.6739\n",
      "Epoch 70/100\n",
      "\u001b[1m8/8\u001b[0m \u001b[32m━━━━━━━━━━━━━━━━━━━━\u001b[0m\u001b[37m\u001b[0m \u001b[1m0s\u001b[0m 10ms/step - accuracy: 0.6875 - loss: 0.6165 - val_accuracy: 0.6875 - val_loss: 0.6745\n",
      "Epoch 71/100\n",
      "\u001b[1m8/8\u001b[0m \u001b[32m━━━━━━━━━━━━━━━━━━━━\u001b[0m\u001b[37m\u001b[0m \u001b[1m0s\u001b[0m 14ms/step - accuracy: 0.7031 - loss: 0.6190 - val_accuracy: 0.6875 - val_loss: 0.6699\n",
      "Epoch 72/100\n",
      "\u001b[1m8/8\u001b[0m \u001b[32m━━━━━━━━━━━━━━━━━━━━\u001b[0m\u001b[37m\u001b[0m \u001b[1m0s\u001b[0m 12ms/step - accuracy: 0.7188 - loss: 0.6155 - val_accuracy: 0.6875 - val_loss: 0.6689\n",
      "Epoch 73/100\n",
      "\u001b[1m8/8\u001b[0m \u001b[32m━━━━━━━━━━━━━━━━━━━━\u001b[0m\u001b[37m\u001b[0m \u001b[1m0s\u001b[0m 14ms/step - accuracy: 0.7344 - loss: 0.6140 - val_accuracy: 0.6875 - val_loss: 0.6700\n",
      "Epoch 74/100\n",
      "\u001b[1m8/8\u001b[0m \u001b[32m━━━━━━━━━━━━━━━━━━━━\u001b[0m\u001b[37m\u001b[0m \u001b[1m0s\u001b[0m 11ms/step - accuracy: 0.6875 - loss: 0.6180 - val_accuracy: 0.6875 - val_loss: 0.6701\n",
      "Epoch 75/100\n",
      "\u001b[1m8/8\u001b[0m \u001b[32m━━━━━━━━━━━━━━━━━━━━\u001b[0m\u001b[37m\u001b[0m \u001b[1m0s\u001b[0m 18ms/step - accuracy: 0.7031 - loss: 0.6230 - val_accuracy: 0.6250 - val_loss: 0.6653\n",
      "Epoch 76/100\n",
      "\u001b[1m8/8\u001b[0m \u001b[32m━━━━━━━━━━━━━━━━━━━━\u001b[0m\u001b[37m\u001b[0m \u001b[1m0s\u001b[0m 11ms/step - accuracy: 0.7344 - loss: 0.6165 - val_accuracy: 0.6875 - val_loss: 0.6696\n",
      "Epoch 77/100\n",
      "\u001b[1m8/8\u001b[0m \u001b[32m━━━━━━━━━━━━━━━━━━━━\u001b[0m\u001b[37m\u001b[0m \u001b[1m0s\u001b[0m 10ms/step - accuracy: 0.7188 - loss: 0.6139 - val_accuracy: 0.6875 - val_loss: 0.6677\n",
      "Epoch 78/100\n",
      "\u001b[1m8/8\u001b[0m \u001b[32m━━━━━━━━━━━━━━━━━━━━\u001b[0m\u001b[37m\u001b[0m \u001b[1m0s\u001b[0m 10ms/step - accuracy: 0.7188 - loss: 0.6139 - val_accuracy: 0.6875 - val_loss: 0.6660\n",
      "Epoch 79/100\n",
      "\u001b[1m8/8\u001b[0m \u001b[32m━━━━━━━━━━━━━━━━━━━━\u001b[0m\u001b[37m\u001b[0m \u001b[1m0s\u001b[0m 14ms/step - accuracy: 0.6875 - loss: 0.6195 - val_accuracy: 0.6875 - val_loss: 0.6656\n",
      "Epoch 80/100\n",
      "\u001b[1m8/8\u001b[0m \u001b[32m━━━━━━━━━━━━━━━━━━━━\u001b[0m\u001b[37m\u001b[0m \u001b[1m0s\u001b[0m 12ms/step - accuracy: 0.7188 - loss: 0.6192 - val_accuracy: 0.6875 - val_loss: 0.6698\n",
      "Epoch 81/100\n",
      "\u001b[1m8/8\u001b[0m \u001b[32m━━━━━━━━━━━━━━━━━━━━\u001b[0m\u001b[37m\u001b[0m \u001b[1m0s\u001b[0m 12ms/step - accuracy: 0.6875 - loss: 0.6163 - val_accuracy: 0.6875 - val_loss: 0.6684\n",
      "Epoch 82/100\n",
      "\u001b[1m8/8\u001b[0m \u001b[32m━━━━━━━━━━━━━━━━━━━━\u001b[0m\u001b[37m\u001b[0m \u001b[1m0s\u001b[0m 12ms/step - accuracy: 0.7031 - loss: 0.6220 - val_accuracy: 0.6875 - val_loss: 0.6656\n",
      "Epoch 83/100\n",
      "\u001b[1m8/8\u001b[0m \u001b[32m━━━━━━━━━━━━━━━━━━━━\u001b[0m\u001b[37m\u001b[0m \u001b[1m0s\u001b[0m 12ms/step - accuracy: 0.7031 - loss: 0.6207 - val_accuracy: 0.6875 - val_loss: 0.6722\n",
      "Epoch 84/100\n",
      "\u001b[1m8/8\u001b[0m \u001b[32m━━━━━━━━━━━━━━━━━━━━\u001b[0m\u001b[37m\u001b[0m \u001b[1m0s\u001b[0m 14ms/step - accuracy: 0.6719 - loss: 0.6203 - val_accuracy: 0.6875 - val_loss: 0.6649\n",
      "Epoch 85/100\n",
      "\u001b[1m8/8\u001b[0m \u001b[32m━━━━━━━━━━━━━━━━━━━━\u001b[0m\u001b[37m\u001b[0m \u001b[1m0s\u001b[0m 15ms/step - accuracy: 0.7188 - loss: 0.6134 - val_accuracy: 0.6875 - val_loss: 0.6654\n",
      "Epoch 86/100\n",
      "\u001b[1m8/8\u001b[0m \u001b[32m━━━━━━━━━━━━━━━━━━━━\u001b[0m\u001b[37m\u001b[0m \u001b[1m0s\u001b[0m 15ms/step - accuracy: 0.7031 - loss: 0.6197 - val_accuracy: 0.6875 - val_loss: 0.6717\n",
      "Epoch 87/100\n",
      "\u001b[1m8/8\u001b[0m \u001b[32m━━━━━━━━━━━━━━━━━━━━\u001b[0m\u001b[37m\u001b[0m \u001b[1m0s\u001b[0m 11ms/step - accuracy: 0.7188 - loss: 0.6130 - val_accuracy: 0.6875 - val_loss: 0.6643\n",
      "Epoch 88/100\n",
      "\u001b[1m8/8\u001b[0m \u001b[32m━━━━━━━━━━━━━━━━━━━━\u001b[0m\u001b[37m\u001b[0m \u001b[1m0s\u001b[0m 9ms/step - accuracy: 0.7188 - loss: 0.6139 - val_accuracy: 0.6875 - val_loss: 0.6647\n",
      "Epoch 89/100\n",
      "\u001b[1m8/8\u001b[0m \u001b[32m━━━━━━━━━━━━━━━━━━━━\u001b[0m\u001b[37m\u001b[0m \u001b[1m0s\u001b[0m 15ms/step - accuracy: 0.7188 - loss: 0.6150 - val_accuracy: 0.6875 - val_loss: 0.6634\n",
      "Epoch 90/100\n",
      "\u001b[1m8/8\u001b[0m \u001b[32m━━━━━━━━━━━━━━━━━━━━\u001b[0m\u001b[37m\u001b[0m \u001b[1m0s\u001b[0m 11ms/step - accuracy: 0.7031 - loss: 0.6146 - val_accuracy: 0.6875 - val_loss: 0.6675\n",
      "Epoch 91/100\n",
      "\u001b[1m8/8\u001b[0m \u001b[32m━━━━━━━━━━━━━━━━━━━━\u001b[0m\u001b[37m\u001b[0m \u001b[1m0s\u001b[0m 14ms/step - accuracy: 0.7031 - loss: 0.6141 - val_accuracy: 0.6875 - val_loss: 0.6633\n",
      "Epoch 92/100\n",
      "\u001b[1m8/8\u001b[0m \u001b[32m━━━━━━━━━━━━━━━━━━━━\u001b[0m\u001b[37m\u001b[0m \u001b[1m0s\u001b[0m 11ms/step - accuracy: 0.7031 - loss: 0.6167 - val_accuracy: 0.6875 - val_loss: 0.6623\n",
      "Epoch 93/100\n",
      "\u001b[1m8/8\u001b[0m \u001b[32m━━━━━━━━━━━━━━━━━━━━\u001b[0m\u001b[37m\u001b[0m \u001b[1m0s\u001b[0m 14ms/step - accuracy: 0.7188 - loss: 0.6177 - val_accuracy: 0.6875 - val_loss: 0.6664\n",
      "Epoch 94/100\n",
      "\u001b[1m8/8\u001b[0m \u001b[32m━━━━━━━━━━━━━━━━━━━━\u001b[0m\u001b[37m\u001b[0m \u001b[1m0s\u001b[0m 9ms/step - accuracy: 0.7031 - loss: 0.6189 - val_accuracy: 0.6875 - val_loss: 0.6628\n",
      "Epoch 95/100\n",
      "\u001b[1m8/8\u001b[0m \u001b[32m━━━━━━━━━━━━━━━━━━━━\u001b[0m\u001b[37m\u001b[0m \u001b[1m0s\u001b[0m 13ms/step - accuracy: 0.7188 - loss: 0.6160 - val_accuracy: 0.6875 - val_loss: 0.6632\n",
      "Epoch 96/100\n",
      "\u001b[1m8/8\u001b[0m \u001b[32m━━━━━━━━━━━━━━━━━━━━\u001b[0m\u001b[37m\u001b[0m \u001b[1m0s\u001b[0m 9ms/step - accuracy: 0.6875 - loss: 0.6159 - val_accuracy: 0.6875 - val_loss: 0.6640\n",
      "Epoch 97/100\n",
      "\u001b[1m8/8\u001b[0m \u001b[32m━━━━━━━━━━━━━━━━━━━━\u001b[0m\u001b[37m\u001b[0m \u001b[1m0s\u001b[0m 14ms/step - accuracy: 0.7031 - loss: 0.6139 - val_accuracy: 0.6875 - val_loss: 0.6615\n",
      "Epoch 98/100\n",
      "\u001b[1m8/8\u001b[0m \u001b[32m━━━━━━━━━━━━━━━━━━━━\u001b[0m\u001b[37m\u001b[0m \u001b[1m0s\u001b[0m 11ms/step - accuracy: 0.7188 - loss: 0.6155 - val_accuracy: 0.6875 - val_loss: 0.6632\n",
      "Epoch 99/100\n",
      "\u001b[1m8/8\u001b[0m \u001b[32m━━━━━━━━━━━━━━━━━━━━\u001b[0m\u001b[37m\u001b[0m \u001b[1m0s\u001b[0m 16ms/step - accuracy: 0.6719 - loss: 0.6208 - val_accuracy: 0.6875 - val_loss: 0.6673\n",
      "Epoch 100/100\n",
      "\u001b[1m8/8\u001b[0m \u001b[32m━━━━━━━━━━━━━━━━━━━━\u001b[0m\u001b[37m\u001b[0m \u001b[1m0s\u001b[0m 11ms/step - accuracy: 0.6875 - loss: 0.6194 - val_accuracy: 0.6250 - val_loss: 0.6628\n",
      "\u001b[1m1/1\u001b[0m \u001b[32m━━━━━━━━━━━━━━━━━━━━\u001b[0m\u001b[37m\u001b[0m \u001b[1m0s\u001b[0m 73ms/step\n",
      "\n",
      "Model Evaluation Metrics:\n",
      "Accuracy : 0.6500\n",
      "Precision: 0.5000\n",
      "Recall   : 0.7143\n",
      "F1-Score : 0.5882\n"
     ]
    }
   ],
   "source": [
    "\n",
    "\n",
    "# Input features and target\n",
    "X = data[['Age', 'Department', 'Salary', 'YearsAtCompany', 'PerformanceScore']]\n",
    "y = data['Attrition']   # 0 = No, 1 = Yes\n",
    "\n",
    "# Split dataset\n",
    "X_train, X_test, y_train, y_test = train_test_split(\n",
    "    X, y, test_size=0.2, random_state=42\n",
    ")\n",
    "\n",
    "# Build Neural Network\n",
    "model = Sequential([\n",
    "    Dense(32, input_dim=X_train.shape[1], activation='relu'),\n",
    "    Dense(16, activation='relu'),\n",
    "    Dense(8, activation='relu'),\n",
    "    Dense(1, activation='sigmoid')  # Binary output\n",
    "])\n",
    "\n",
    "# Compile model\n",
    "model.compile(optimizer=Adam(learning_rate=0.001),\n",
    "              loss='binary_crossentropy',\n",
    "              metrics=['accuracy'])\n",
    "\n",
    "# Train model\n",
    "history = model.fit(X_train, y_train,\n",
    "                    validation_split=0.2,\n",
    "                    epochs=100, batch_size=8, verbose=1)\n",
    "\n",
    "# Predict\n",
    "y_pred_prob = model.predict(X_test)\n",
    "y_pred = (y_pred_prob > 0.5).astype(int).flatten()\n",
    "\n",
    "# Evaluate\n",
    "accuracy = accuracy_score(y_test, y_pred)\n",
    "precision = precision_score(y_test, y_pred, zero_division=0)\n",
    "recall = recall_score(y_test, y_pred, zero_division=0)\n",
    "f1 = f1_score(y_test, y_pred, zero_division=0)\n",
    "\n",
    "print(\"\\nModel Evaluation Metrics:\")\n",
    "print(f\"Accuracy : {accuracy:.4f}\")\n",
    "print(f\"Precision: {precision:.4f}\")\n",
    "print(f\"Recall   : {recall:.4f}\")\n",
    "print(f\"F1-Score : {f1:.4f}\")\n",
    "\n"
   ]
  },
  {
   "cell_type": "code",
   "execution_count": 56,
   "id": "5bc9f906",
   "metadata": {},
   "outputs": [
    {
     "data": {
      "image/png": "[encoded data removed]",
      "text/plain": [
       "<Figure size 640x480 with 2 Axes>"
      ]
     },
     "metadata": {},
     "output_type": "display_data"
    }
   ],
   "source": [
    "# Confusion Matrix\n",
    "cm = confusion_matrix(y_test, y_pred)\n",
    "disp = ConfusionMatrixDisplay(confusion_matrix=cm, display_labels=['Stayed', 'Left'])\n",
    "disp.plot(cmap=plt.cm.Blues)\n",
    "plt.title(\"Confusion Matrix - Neural Network Attrition Prediction\")\n",
    "plt.show()\n",
    "\n"
   ]
  },
  {
   "cell_type": "code",
   "execution_count": 57,
   "id": "1117d9d3",
   "metadata": {},
   "outputs": [
    {
     "data": {
      "image/png": "[encoded data removed]",
      "text/plain": [
       "<Figure size 700x400 with 1 Axes>"
      ]
     },
     "metadata": {},
     "output_type": "display_data"
    },
    {
     "data": {
      "image/png": "[encoded data removed]",
      "text/plain": [
       "<Figure size 700x400 with 1 Axes>"
      ]
     },
     "metadata": {},
     "output_type": "display_data"
    }
   ],
   "source": [
    "# Training history visualization\n",
    "plt.figure(figsize=(7,4))\n",
    "plt.plot(history.history['accuracy'], label='Training Accuracy')\n",
    "plt.plot(history.history['val_accuracy'], label='Validation Accuracy')\n",
    "plt.title('Model Accuracy Over Epochs')\n",
    "plt.xlabel('Epochs')\n",
    "plt.ylabel('Accuracy')\n",
    "plt.legend()\n",
    "plt.show()\n",
    "\n",
    "plt.figure(figsize=(7,4))\n",
    "plt.plot(history.history['loss'], label='Training Loss')\n",
    "plt.plot(history.history['val_loss'], label='Validation Loss')\n",
    "plt.title('Model Loss Over Epochs')\n",
    "plt.xlabel('Epochs')\n",
    "plt.ylabel('Loss')\n",
    "plt.legend()\n",
    "plt.show()\n"
   ]
  },
  {
   "cell_type": "code",
   "execution_count": 58,
   "id": "b5303107",
   "metadata": {},
   "outputs": [
    {
     "data": {
      "image/png": "[encoded data removed]",
      "text/plain": [
       "<Figure size 1000x600 with 1 Axes>"
      ]
     },
     "metadata": {},
     "output_type": "display_data"
    }
   ],
   "source": [
    "# Group data: average performance per department per year\n",
    "perf_trend = (\n",
    "    data.groupby(['Department', 'YearsAtCompany'])['PerformanceScore']\n",
    "      .mean()\n",
    "      .reset_index()\n",
    ")\n",
    "\n",
    "# Set plot style\n",
    "sns.set(style=\"whitegrid\")\n",
    "\n",
    "# Create line plot\n",
    "plt.figure(figsize=(10, 6))\n",
    "sns.lineplot(\n",
    "    data=perf_trend,\n",
    "    x='YearsAtCompany',\n",
    "    y='PerformanceScore',\n",
    "    hue='Department',\n",
    "    marker='o',\n",
    "    linewidth=2.5\n",
    ")\n",
    "\n",
    "# Customize the chart\n",
    "plt.title(\" Employee Performance Trends by Department\", fontsize=16, weight='bold')\n",
    "plt.xlabel(\"Years at Company\", fontsize=12)\n",
    "plt.ylabel(\"Average Performance Score\", fontsize=12)\n",
    "plt.legend(title=\"Department\", title_fontsize=11, fontsize=10)\n",
    "plt.tight_layout()\n",
    "\n",
    "# Show the plot\n",
    "plt.show()\n"
   ]
  },
  {
   "cell_type": "code",
   "execution_count": 60,
   "id": "22218aff",
   "metadata": {},
   "outputs": [
    {
     "data": {
      "application/vnd.microsoft.datawrangler.viewer.v0+json": {
       "columns": [
        {
         "name": "index",
         "rawType": "int64",
         "type": "integer"
        },
        {
         "name": "EmployeeID",
         "rawType": "int64",
         "type": "integer"
        },
        {
         "name": "Name",
         "rawType": "object",
         "type": "string"
        },
        {
         "name": "Age",
         "rawType": "int64",
         "type": "integer"
        },
        {
         "name": "Department",
         "rawType": "int64",
         "type": "integer"
        },
        {
         "name": "Salary",
         "rawType": "float64",
         "type": "float"
        },
        {
         "name": "YearsAtCompany",
         "rawType": "int64",
         "type": "integer"
        },
        {
         "name": "PerformanceScore",
         "rawType": "float64",
         "type": "float"
        },
        {
         "name": "Attrition",
         "rawType": "int64",
         "type": "integer"
        },
        {
         "name": "PerformanceCategory",
         "rawType": "int64",
         "type": "integer"
        }
       ],
       "ref": "a2794bc0-947b-47ed-a4d4-b4515d5c09d0",
       "rows": [
        [
         "0",
         "1",
         "John Doe",
         "29",
         "3",
         "0.23076923076923073",
         "3",
         "0.3999999999999999",
         "0",
         "1"
        ],
        [
         "1",
         "2",
         "Jane Smith",
         "35",
         "1",
         "0.326923076923077",
         "7",
         "0.5999999999999996",
         "0",
         "2"
        ],
        [
         "2",
         "3",
         "Michael Brown",
         "40",
         "0",
         "0.7115384615384616",
         "10",
         "1.0",
         "1",
         "3"
        ],
        [
         "3",
         "4",
         "Emily Davis",
         "28",
         "2",
         "0.423076923076923",
         "5",
         "0.31999999999999984",
         "0",
         "1"
        ],
        [
         "4",
         "5",
         "David Johnson",
         "50",
         "3",
         "0.6153846153846153",
         "20",
         "0.7199999999999998",
         "1",
         "0"
        ],
        [
         "5",
         "6",
         "Amy White",
         "25",
         "1",
         "0.038461538461538436",
         "1",
         "0.0",
         "0",
         "1"
        ],
        [
         "6",
         "7",
         "Daniel Clark",
         "38",
         "0",
         "1.0",
         "12",
         "0.8799999999999999",
         "0",
         "3"
        ],
        [
         "7",
         "8",
         "Susan Lewis",
         "32",
         "2",
         "0.5192307692307693",
         "6",
         "0.48",
         "0",
         "2"
        ],
        [
         "8",
         "9",
         "James Walker",
         "45",
         "3",
         "0.6538461538461539",
         "18",
         "0.5599999999999996",
         "1",
         "2"
        ],
        [
         "9",
         "10",
         "Patricia Hall",
         "29",
         "0",
         "0.8076923076923076",
         "5",
         "0.7999999999999998",
         "0",
         "0"
        ],
        [
         "10",
         "11",
         "Joseph Young",
         "60",
         "1",
         "0.3653846153846153",
         "25",
         "0.0",
         "0",
         "1"
        ],
        [
         "11",
         "12",
         "Elizabeth King",
         "27",
         "3",
         "0.19230769230769218",
         "2",
         "0.19999999999999973",
         "0",
         "1"
        ],
        [
         "12",
         "13",
         "Charles Scott",
         "34",
         "2",
         "0.5384615384615384",
         "8",
         "0.6799999999999997",
         "1",
         "0"
        ],
        [
         "13",
         "14",
         "Linda Harris",
         "48",
         "1",
         "0.5192307692307693",
         "18",
         "0.3999999999999999",
         "0",
         "1"
        ],
        [
         "14",
         "15",
         "Matthew Nelson",
         "37",
         "0",
         "0.7115384615384616",
         "15",
         "1.0",
         "0",
         "3"
        ],
        [
         "15",
         "16",
         "Ashley Adams",
         "30",
         "3",
         "0.2499999999999999",
         "4",
         "0.3599999999999999",
         "0",
         "1"
        ],
        [
         "16",
         "17",
         "Christopher Perez",
         "33",
         "0",
         "0.7499999999999999",
         "10",
         "0.8399999999999999",
         "1",
         "3"
        ],
        [
         "17",
         "18",
         "Angela Carter",
         "41",
         "2",
         "0.6153846153846153",
         "16",
         "0.5999999999999996",
         "0",
         "2"
        ],
        [
         "18",
         "19",
         "Brian Mitchell",
         "25",
         "1",
         "0.0",
         "1",
         "0.07999999999999963",
         "0",
         "1"
        ],
        [
         "19",
         "20",
         "Sandra Roberts",
         "55",
         "3",
         "0.6923076923076924",
         "22",
         "0.52",
         "1",
         "2"
        ],
        [
         "20",
         "21",
         "Timothy Turner",
         "29",
         "0",
         "0.8461538461538461",
         "5",
         "0.6399999999999997",
         "0",
         "0"
        ],
        [
         "21",
         "22",
         "Rebecca Lee",
         "26",
         "2",
         "0.423076923076923",
         "3",
         "0.3999999999999999",
         "0",
         "1"
        ],
        [
         "22",
         "23",
         "Steven Wright",
         "50",
         "3",
         "0.6346153846153847",
         "19",
         "0.7199999999999998",
         "1",
         "0"
        ],
        [
         "23",
         "24",
         "Karen Green",
         "42",
         "1",
         "0.4999999999999999",
         "17",
         "0.7599999999999998",
         "0",
         "0"
        ],
        [
         "24",
         "25",
         "Jason Baker",
         "35",
         "0",
         "0.9423076923076924",
         "13",
         "0.9199999999999999",
         "1",
         "3"
        ],
        [
         "25",
         "26",
         "Lauren Martinez",
         "39",
         "2",
         "0.5576923076923076",
         "14",
         "0.3999999999999999",
         "0",
         "1"
        ],
        [
         "26",
         "27",
         "Megan Gonzalez",
         "31",
         "1",
         "0.23076923076923073",
         "9",
         "0.2799999999999998",
         "0",
         "1"
        ],
        [
         "27",
         "28",
         "Kevin Collins",
         "48",
         "3",
         "0.6538461538461539",
         "20",
         "0.5999999999999996",
         "1",
         "2"
        ],
        [
         "28",
         "29",
         "William Mitchell",
         "27",
         "0",
         "0.8653846153846153",
         "4",
         "0.8799999999999999",
         "0",
         "3"
        ],
        [
         "29",
         "30",
         "Diana Perez",
         "34",
         "2",
         "0.5384615384615384",
         "6",
         "0.5599999999999996",
         "0",
         "2"
        ],
        [
         "30",
         "31",
         "Barbara Evans",
         "41",
         "3",
         "0.7115384615384616",
         "17",
         "0.7999999999999998",
         "0",
         "0"
        ],
        [
         "31",
         "32",
         "Paul Thomas",
         "37",
         "1",
         "0.3846153846153847",
         "11",
         "0.31999999999999984",
         "0",
         "1"
        ],
        [
         "32",
         "33",
         "Natalie Moore",
         "25",
         "0",
         "0.7499999999999999",
         "2",
         "0.3599999999999999",
         "1",
         "1"
        ],
        [
         "33",
         "34",
         "Mark Jackson",
         "45",
         "3",
         "0.8076923076923076",
         "16",
         "0.7199999999999998",
         "0",
         "0"
        ],
        [
         "34",
         "35",
         "Jessica Hernandez",
         "29",
         "2",
         "0.46153846153846156",
         "5",
         "0.3999999999999999",
         "0",
         "1"
        ],
        [
         "35",
         "36",
         "Robert Robinson",
         "53",
         "1",
         "0.576923076923077",
         "21",
         "0.5999999999999996",
         "1",
         "2"
        ],
        [
         "36",
         "37",
         "John Wright",
         "31",
         "0",
         "0.923076923076923",
         "8",
         "0.96",
         "0",
         "3"
        ],
        [
         "37",
         "38",
         "Olivia King",
         "36",
         "2",
         "0.5192307692307693",
         "12",
         "0.6399999999999997",
         "1",
         "0"
        ],
        [
         "38",
         "39",
         "George Lewis",
         "40",
         "1",
         "0.4999999999999999",
         "15",
         "0.43999999999999995",
         "0",
         "2"
        ],
        [
         "39",
         "40",
         "Megan Harris",
         "28",
         "3",
         "0.21153846153846156",
         "3",
         "0.19999999999999973",
         "1",
         "1"
        ],
        [
         "40",
         "41",
         "Daniel Lee",
         "32",
         "0",
         "0.826923076923077",
         "7",
         "0.9199999999999999",
         "0",
         "3"
        ],
        [
         "41",
         "42",
         "Jack Scott",
         "47",
         "1",
         "0.46153846153846156",
         "18",
         "0.7199999999999998",
         "1",
         "0"
        ],
        [
         "42",
         "43",
         "Katherine Walker",
         "28",
         "2",
         "0.4999999999999999",
         "4",
         "0.3599999999999999",
         "0",
         "1"
        ],
        [
         "43",
         "44",
         "Matthew Hall",
         "50",
         "3",
         "0.7307692307692307",
         "20",
         "0.7999999999999998",
         "1",
         "0"
        ],
        [
         "44",
         "45",
         "Henry Allen",
         "38",
         "0",
         "0.9807692307692307",
         "12",
         "0.96",
         "0",
         "3"
        ],
        [
         "45",
         "46",
         "Julia Carter",
         "33",
         "2",
         "0.576923076923077",
         "8",
         "0.52",
         "0",
         "2"
        ],
        [
         "46",
         "47",
         "David Anderson",
         "60",
         "1",
         "0.6153846153846153",
         "25",
         "0.6399999999999997",
         "1",
         "0"
        ],
        [
         "47",
         "48",
         "James Thompson",
         "34",
         "3",
         "0.4807692307692307",
         "10",
         "0.48",
         "0",
         "2"
        ],
        [
         "48",
         "49",
         "Linda Martinez",
         "42",
         "0",
         "0.923076923076923",
         "15",
         "0.8399999999999999",
         "0",
         "3"
        ],
        [
         "49",
         "50",
         "William Taylor",
         "27",
         "2",
         "0.423076923076923",
         "6",
         "0.3999999999999999",
         "0",
         "1"
        ]
       ],
       "shape": {
        "columns": 9,
        "rows": 100
       }
      },
      "text/html": [
       "<div>\n",
       "<style scoped>\n",
       "    .dataframe tbody tr th:only-of-type {\n",
       "        vertical-align: middle;\n",
       "    }\n",
       "\n",
       "    .dataframe tbody tr th {\n",
       "        vertical-align: top;\n",
       "    }\n",
       "\n",
       "    .dataframe thead th {\n",
       "        text-align: right;\n",
       "    }\n",
       "</style>\n",
       "<table border=\"1\" class=\"dataframe\">\n",
       "  <thead>\n",
       "    <tr style=\"text-align: right;\">\n",
       "      <th></th>\n",
       "      <th>EmployeeID</th>\n",
       "      <th>Name</th>\n",
       "      <th>Age</th>\n",
       "      <th>Department</th>\n",
       "      <th>Salary</th>\n",
       "      <th>YearsAtCompany</th>\n",
       "      <th>PerformanceScore</th>\n",
       "      <th>Attrition</th>\n",
       "      <th>PerformanceCategory</th>\n",
       "    </tr>\n",
       "  </thead>\n",
       "  <tbody>\n",
       "    <tr>\n",
       "      <th>0</th>\n",
       "      <td>1</td>\n",
       "      <td>John Doe</td>\n",
       "      <td>29</td>\n",
       "      <td>3</td>\n",
       "      <td>0.230769</td>\n",
       "      <td>3</td>\n",
       "      <td>0.40</td>\n",
       "      <td>0</td>\n",
       "      <td>1</td>\n",
       "    </tr>\n",
       "    <tr>\n",
       "      <th>1</th>\n",
       "      <td>2</td>\n",
       "      <td>Jane Smith</td>\n",
       "      <td>35</td>\n",
       "      <td>1</td>\n",
       "      <td>0.326923</td>\n",
       "      <td>7</td>\n",
       "      <td>0.60</td>\n",
       "      <td>0</td>\n",
       "      <td>2</td>\n",
       "    </tr>\n",
       "    <tr>\n",
       "      <th>2</th>\n",
       "      <td>3</td>\n",
       "      <td>Michael Brown</td>\n",
       "      <td>40</td>\n",
       "      <td>0</td>\n",
       "      <td>0.711538</td>\n",
       "      <td>10</td>\n",
       "      <td>1.00</td>\n",
       "      <td>1</td>\n",
       "      <td>3</td>\n",
       "    </tr>\n",
       "    <tr>\n",
       "      <th>3</th>\n",
       "      <td>4</td>\n",
       "      <td>Emily Davis</td>\n",
       "      <td>28</td>\n",
       "      <td>2</td>\n",
       "      <td>0.423077</td>\n",
       "      <td>5</td>\n",
       "      <td>0.32</td>\n",
       "      <td>0</td>\n",
       "      <td>1</td>\n",
       "    </tr>\n",
       "    <tr>\n",
       "      <th>4</th>\n",
       "      <td>5</td>\n",
       "      <td>David Johnson</td>\n",
       "      <td>50</td>\n",
       "      <td>3</td>\n",
       "      <td>0.615385</td>\n",
       "      <td>20</td>\n",
       "      <td>0.72</td>\n",
       "      <td>1</td>\n",
       "      <td>0</td>\n",
       "    </tr>\n",
       "    <tr>\n",
       "      <th>...</th>\n",
       "      <td>...</td>\n",
       "      <td>...</td>\n",
       "      <td>...</td>\n",
       "      <td>...</td>\n",
       "      <td>...</td>\n",
       "      <td>...</td>\n",
       "      <td>...</td>\n",
       "      <td>...</td>\n",
       "      <td>...</td>\n",
       "    </tr>\n",
       "    <tr>\n",
       "      <th>95</th>\n",
       "      <td>96</td>\n",
       "      <td>Daniel Allen</td>\n",
       "      <td>29</td>\n",
       "      <td>1</td>\n",
       "      <td>0.192308</td>\n",
       "      <td>3</td>\n",
       "      <td>0.36</td>\n",
       "      <td>0</td>\n",
       "      <td>1</td>\n",
       "    </tr>\n",
       "    <tr>\n",
       "      <th>96</th>\n",
       "      <td>97</td>\n",
       "      <td>Thomas Harris</td>\n",
       "      <td>40</td>\n",
       "      <td>0</td>\n",
       "      <td>0.923077</td>\n",
       "      <td>13</td>\n",
       "      <td>0.88</td>\n",
       "      <td>1</td>\n",
       "      <td>3</td>\n",
       "    </tr>\n",
       "    <tr>\n",
       "      <th>97</th>\n",
       "      <td>98</td>\n",
       "      <td>Michael Lewis</td>\n",
       "      <td>45</td>\n",
       "      <td>3</td>\n",
       "      <td>0.615385</td>\n",
       "      <td>16</td>\n",
       "      <td>0.76</td>\n",
       "      <td>0</td>\n",
       "      <td>0</td>\n",
       "    </tr>\n",
       "    <tr>\n",
       "      <th>98</th>\n",
       "      <td>99</td>\n",
       "      <td>Linda Young</td>\n",
       "      <td>50</td>\n",
       "      <td>1</td>\n",
       "      <td>0.519231</td>\n",
       "      <td>21</td>\n",
       "      <td>0.68</td>\n",
       "      <td>1</td>\n",
       "      <td>0</td>\n",
       "    </tr>\n",
       "    <tr>\n",
       "      <th>99</th>\n",
       "      <td>100</td>\n",
       "      <td>John Harris</td>\n",
       "      <td>29</td>\n",
       "      <td>0</td>\n",
       "      <td>0.846154</td>\n",
       "      <td>8</td>\n",
       "      <td>0.84</td>\n",
       "      <td>0</td>\n",
       "      <td>3</td>\n",
       "    </tr>\n",
       "  </tbody>\n",
       "</table>\n",
       "<p>100 rows × 9 columns</p>\n",
       "</div>"
      ],
      "text/plain": [
       "    EmployeeID           Name  Age  Department    Salary  YearsAtCompany  \\\n",
       "0            1       John Doe   29           3  0.230769               3   \n",
       "1            2     Jane Smith   35           1  0.326923               7   \n",
       "2            3  Michael Brown   40           0  0.711538              10   \n",
       "3            4    Emily Davis   28           2  0.423077               5   \n",
       "4            5  David Johnson   50           3  0.615385              20   \n",
       "..         ...            ...  ...         ...       ...             ...   \n",
       "95          96   Daniel Allen   29           1  0.192308               3   \n",
       "96          97  Thomas Harris   40           0  0.923077              13   \n",
       "97          98  Michael Lewis   45           3  0.615385              16   \n",
       "98          99    Linda Young   50           1  0.519231              21   \n",
       "99         100    John Harris   29           0  0.846154               8   \n",
       "\n",
       "    PerformanceScore  Attrition  PerformanceCategory  \n",
       "0               0.40          0                    1  \n",
       "1               0.60          0                    2  \n",
       "2               1.00          1                    3  \n",
       "3               0.32          0                    1  \n",
       "4               0.72          1                    0  \n",
       "..               ...        ...                  ...  \n",
       "95              0.36          0                    1  \n",
       "96              0.88          1                    3  \n",
       "97              0.76          0                    0  \n",
       "98              0.68          1                    0  \n",
       "99              0.84          0                    3  \n",
       "\n",
       "[100 rows x 9 columns]"
      ]
     },
     "execution_count": 60,
     "metadata": {},
     "output_type": "execute_result"
    }
   ],
   "source": [
    "data"
   ]
  },
  {
   "cell_type": "code",
   "execution_count": null,
   "id": "c2716289",
   "metadata": {},
   "outputs": [],
   "source": []
  },
  {
   "cell_type": "code",
   "execution_count": null,
   "id": "e377652b",
   "metadata": {},
   "outputs": [],
   "source": []
  },
  {
   "cell_type": "code",
   "execution_count": null,
   "id": "5dd65988",
   "metadata": {},
   "outputs": [],
   "source": []
  },
  {
   "cell_type": "code",
   "execution_count": null,
   "id": "f47011b2",
   "metadata": {},
   "outputs": [],
   "source": []
  },
  {
   "cell_type": "code",
   "execution_count": null,
   "id": "6742ada8",
   "metadata": {},
   "outputs": [],
   "source": []
  }
 ],
 "metadata": {
  "kernelspec": {
   "display_name": "Python 3",
   "language": "python",
   "name": "python3"
  },
  "language_info": {
   "codemirror_mode": {
    "name": "ipython",
    "version": 3
   },
   "file_extension": ".py",
   "mimetype": "text/x-python",
   "name": "python",
   "nbconvert_exporter": "python",
   "pygments_lexer": "ipython3",
   "version": "3.11.9"
  }
 },
 "nbformat": 4,
 "nbformat_minor": 5
}
